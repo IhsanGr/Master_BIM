{
 "cells": [
  {
   "cell_type": "markdown",
   "metadata": {},
   "source": [
    "\n",
    "<h1><b>Statistique en Bioinformatique : </b> TME1 </h1>\n",
    "<br>\n",
    "L’objectif de ce TME est l’analyse statistique d’une famille de protéines à travers son alignement de séquences:\n",
    "<br>\n",
    "<ul>\n",
    "<li> objectif 1: détection des positions conservées, </li>\n",
    "<li> objectif 2: détection de séquences qui appartiennent à la même famille, </li>\n",
    "</ul>\n",
    "<vr>\n",
    "<div class=\"alert alert-warning\" role=\"alert\" style=\"margin: 10px\">\n",
    "<p>**Soumission**</p>\n",
    "<ul>\n",
    "<li>Renommer le fichier TME1.ipynb pour NomEtudiant1_NomEtudiant2.ipynb </li>\n",
    "<li>Soumettre via Moodle avant le prochain TME - <b> Une soumission par binome </b>.\n",
    "</ul>\n",
    "<br>\n",
    "REMARQUE : Les fichiers seront aussi corrigés numériquement. Faites donc attention à <b> ne pas modifier la signature et le renvoi des fonctions! </b>\n",
    "<br>\n",
    "</div>"
   ]
  },
  {
   "cell_type": "markdown",
   "metadata": {},
   "source": [
    "Nom etudiant 1 : Ihsân Grichi\n",
    "<br>\n",
    "Nom etudiant 2 : Adel Bibi Triki\n",
    "<br>"
   ]
  },
  {
   "cell_type": "markdown",
   "metadata": {},
   "source": [
    "<b>DONNÉES</b> <br>\n",
    "Il y a 2 fichiers avec les données telecharché à (<a href=\"http://www.lcqb.upmc.fr/julianab/teaching/SBAS/TME1.tar.gz\"> TME1 </a> ): <br>\n",
    "<ul>\n",
    "<li> Dtrain.txt: C’est un alignement de M = 5643 protéines d’une seule famille en format FASTA,\n",
    "<br>\n",
    "    Les lignes qui commencent avec “>” contiennent des commentaires (nom de la protéine etc.). Elles n’ont aucune importance pour notre projet. Les autres lignes contiennent les séquences, que l’on va utiliser dans le projet. Les séquences sont alignées, elles ont toutes la même longueur (L = 48 positions dans notre fichier). Chaque position i = 0, ..., L − 1 d'une séquence contient soit un acide aminé (A,C,...,Y, il y en a 20) ou un trou (–), que l'on considère comme 21ème lettre. Ensemble elles forment l'alphabet: \n",
    "    A =  {A, C, D, E, F, G, H, I, K, L, M, N, P, Q, R, S, T, V, W, Y, -}, avec q = 21 lettres différentes.\n",
    "</li>\n",
    "    <br>\n",
    "<li> testseq.txt:  testseq.txt: Même format de Dtrain.txt, mais avec une seule séquence b = (b0 , ..., bN −1 ) plus longue (longueur N = 114 > L). On va scanner cette séquence pour trouver une sous-séquence qui appartient à la famille definie par Dtrain.txt. </li>\n",
    "</ul>"
   ]
  },
  {
   "cell_type": "markdown",
   "metadata": {},
   "source": [
    "Exercice 1: Pour chaque position i = 0, ..., L − 1 de l' alignement et chaque acide aminé a ∈ A (trou compris), calculer le nombre d’occurences ni(a) et le poid ωi(a), où :\n",
    "\\begin{equation*}\n",
    "n_{i}(a) = \\textrm{nombre d'occurrences de l'acide aminé a dans la colonne i}\n",
    "\\end{equation*}\n",
    "\n",
    "\\begin{equation*}\n",
    "\\omega_i(a) = \\frac{n_i(a)+1}{M+q}\\ .\n",
    "\\end{equation*}"
   ]
  },
  {
   "cell_type": "code",
   "execution_count": 1,
   "metadata": {},
   "outputs": [],
   "source": [
    "import sys\n",
    "import numpy as np\n",
    "#aa = ['A', 'C', 'D', 'E', 'F', 'G', 'H', 'I', 'K', 'L', 'M', 'N', 'P', 'Q', 'R', 'S', 'T', 'V', 'W', 'Y', '-']\n",
    "#q = 21\n",
    "aa = ['A', 'B', 'C', '-']\n",
    "q = 4\n",
    "#aa = ['A', 'G', 'C', 'T', '-']\n",
    "#q = 5"
   ]
  },
  {
   "cell_type": "code",
   "execution_count": 2,
   "metadata": {},
   "outputs": [],
   "source": [
    "#load path Files\n",
    "#input_dataset_f = 'Dtrain.txt'\n",
    "#input_sequence_f = 'test_seq.txt'\n",
    "input_dataset_f = 'DtrainToy.txt'\n",
    "input_sequence_f = 'test_seqToy.txt'\n",
    "#input_dataset_f = 'DtrainToyTD.txt'"
   ]
  },
  {
   "cell_type": "code",
   "execution_count": 3,
   "metadata": {},
   "outputs": [
    {
     "name": "stdout",
     "output_type": "stream",
     "text": [
      "Training data (watch out, this is long):\n",
      "[['A' 'B' 'B' 'C' 'A' 'C']\n",
      " ['A' '-' 'B' 'B' 'A' 'C']\n",
      " ['A' 'B' '-' 'B' 'A' 'C']\n",
      " ['C' 'B' 'B' 'C' 'A' 'C']]\n",
      "MSA length 6\n",
      "MSA depth 4\n"
     ]
    }
   ],
   "source": [
    "#load DTrain File\n",
    "def load_train(input_f):\n",
    "    \"\"\"Input 1 : a multiple sequence alignment (MSA) in FASTA format\n",
    "    Output 1 : the MSA (see REMARK)\n",
    "    Output 2 : the length of the aligned sequences (MSA length)\n",
    "    Output 3 : the number of sequences in the MSA (MSA depth)\n",
    "    \n",
    "    REMARK : The MSA should be represented as an ordered collection of sequences.\n",
    "    Meaning, the first sequence in the file must be the first sequence in the\n",
    "    data structure. You can represent it as a list of lists of char, a list of \n",
    "    str, a numpy matrix, etc. Just be consistent throughout the whole TME1\"\"\"\n",
    "    train_set = []\n",
    "    flux = open(input_f, 'r')\n",
    "    compteur = 1\n",
    "    for line in flux:\n",
    "        line = line.rstrip().split()\n",
    "        if compteur%2 == 0:\n",
    "            train_set.append([k for k in line[0]])\n",
    "        compteur+=1\n",
    "    L = len(train_set[0])\n",
    "    m = len(train_set)\n",
    "    train_set = np.array(train_set)\n",
    "    return train_set, L, m\n",
    "\n",
    "train_set, L, m = load_train(input_dataset_f)\n",
    "print(\"Training data (watch out, this is long):\")\n",
    "print(train_set)\n",
    "\n",
    "print(\"MSA length\", L)\n",
    "print(\"MSA depth\", m)"
   ]
  },
  {
   "cell_type": "code",
   "execution_count": 4,
   "metadata": {},
   "outputs": [
    {
     "name": "stdout",
     "output_type": "stream",
     "text": [
      "[[0.5   0.125 0.125 0.125 0.625 0.125]\n",
      " [0.125 0.5   0.5   0.375 0.125 0.125]\n",
      " [0.25  0.125 0.125 0.375 0.125 0.625]\n",
      " [0.125 0.25  0.25  0.125 0.125 0.125]]\n"
     ]
    }
   ],
   "source": [
    "#Computing wi(a)\n",
    "def get_pwm(train_set, L, m, alphabet):\n",
    "    \"\"\"Input 1 : The MSA (see REMARK of the load_train function)\n",
    "    Input 2 : the MSA length\n",
    "    Input 3 : the MSA depth\n",
    "    Input 4 : the alphabet used (it must be an ordered collection of non-repeating characters)\n",
    "    Output 1 : position-weight matrix of shape (q, L) where q is len(alphabet)\"\"\"\n",
    "    # Your code...\n",
    "    q = len(alphabet)\n",
    "    PWM = np.zeros((q, L))\n",
    "   \n",
    "   \n",
    "    for a in range(q):\n",
    "        for i in range(L):\n",
    "            for j in range(m):\n",
    "                if alphabet[a]==train_set[j,i]:\n",
    "                    PWM[a,i]+=1\n",
    "                    \n",
    "    \n",
    "    return (PWM+1)/(m+q)\n",
    "    \n",
    "    \n",
    "PWM = get_pwm(train_set, L, m, aa)\n",
    "\n",
    "print(PWM)\n"
   ]
  },
  {
   "cell_type": "markdown",
   "metadata": {},
   "source": [
    "Exercise 2: Trouvez les positions les plus conservées en utilisant l’entropie relative.\n",
    "<br>\n",
    "2.1) Pour chaque position i = 0, ..., L − 1, determiner l’entropie relative Si<br>\n",
    "\\begin{equation*}\n",
    "\\label{eq:entropie}\n",
    "S_i = \\log_2(q) + \\sum_{a\\in {\\cal A}} \\omega_i(a)\\cdot \\log_2\\left[\\omega_i(a) \\right]\\ .\n",
    "\\end{equation*}\n",
    "<br>\n"
   ]
  },
  {
   "cell_type": "code",
   "execution_count": 5,
   "metadata": {},
   "outputs": [
    {
     "name": "stdout",
     "output_type": "stream",
     "text": [
      "[0.25       0.25       0.25       0.18872188 0.45120506 0.45120506]\n"
     ]
    }
   ],
   "source": [
    "#Computing Si\n",
    "def si_calculate (wi):\n",
    "    \"\"\"Input 1 : Weight vector (of length q) representing column i of the MSA\n",
    "    Output 1 : Relative entropy of column i\"\"\"\n",
    "    si = 0\n",
    "    q=len(wi)\n",
    "    for i in range(q):\n",
    "            si+= wi[i]*np.log2(wi[i])\n",
    "    si = np.log2(q) + si\n",
    "    return si\n",
    "#Make a vector Si of length L containing the relative entropy of each position (column) of the MSA\n",
    "\n",
    "Si = np.array([si_calculate(PWM[:,i]) for i in range(L)])\n",
    "print(Si)"
   ]
  },
  {
   "cell_type": "markdown",
   "metadata": {},
   "source": [
    "2.2) Indiquez les acides aminees (ai*) des trois positions les plus conservées : \n",
    "\\begin{equation}\n",
    "\\label{eq:conserved}\n",
    "a_i^\\star = {\\rm argmax}_{a\\in {\\cal A}} \\omega_i(a)\\ .\n",
    "\\end{equation}"
   ]
  },
  {
   "cell_type": "code",
   "execution_count": 6,
   "metadata": {},
   "outputs": [
    {
     "name": "stdout",
     "output_type": "stream",
     "text": [
      "[4, 5, 0]\n"
     ]
    }
   ],
   "source": [
    "#computing ai*\n",
    "def get_aiStart(Si, PWM, naa):\n",
    "    \"\"\"Input 1 : Relative entropy vector of length L\n",
    "    Input 2 : position-weight matrix of shape (q, L)\n",
    "    Input 3 : 0 < int < q+1, specifying the number of top-conserved residues\n",
    "    Output 1 : list of length naa containing the amino acid type (char) of the \n",
    "    top-naa conserved columns\"\"\"\n",
    "    top_aa = []\n",
    "    si = np.copy(Si)\n",
    "    for k in range(naa):\n",
    "        Position = np.argmax(si)\n",
    "        si[Position] = 0\n",
    "        top_aa.append(Position)\n",
    "    return top_aa\n",
    "\n",
    "print(get_aiStart(Si, PWM, 3))"
   ]
  },
  {
   "cell_type": "markdown",
   "metadata": {},
   "source": [
    "2.3) Tracer l’entropie rélative en fonction de chaque position i."
   ]
  },
  {
   "cell_type": "code",
   "execution_count": 7,
   "metadata": {},
   "outputs": [],
   "source": [
    "import matplotlib.pyplot as plt\n"
   ]
  },
  {
   "cell_type": "code",
   "execution_count": 8,
   "metadata": {},
   "outputs": [
    {
     "data": {
      "image/png": "[encoded data removed]",
      "text/plain": [
       "<Figure size 432x288 with 1 Axes>"
      ]
     },
     "metadata": {
      "needs_background": "light"
     },
     "output_type": "display_data"
    },
    {
     "name": "stdout",
     "output_type": "stream",
     "text": [
      "None\n"
     ]
    },
    {
     "data": {
      "text/plain": [
       "<Figure size 432x288 with 0 Axes>"
      ]
     },
     "metadata": {},
     "output_type": "display_data"
    }
   ],
   "source": [
    "#plot entropy\n",
    "def plot_entropy(Si, PWM, aa, naa):\n",
    "    \"\"\"For each of the L positions of the MSA, plot its entropy.\n",
    "    \n",
    "    BONUS : highlight the top-naa conserved sites, and print the\n",
    "    most abundant amino acid type on top of the naa identified positions\"\"\"\n",
    "    q = len(Si)\n",
    "    X = np.array([k for k in range(q)])\n",
    "    top_aa = get_aiStart(Si, PWM, naa)\n",
    "    \n",
    "    \n",
    "    plt.title('Représentation graphique de la conservation de chaque position')\n",
    "    plt.plot(X, Si, label = 'Entropie relative en fonction de la position')\n",
    "    for k in top_aa:\n",
    "        lettre = aa[np.argmax(PWM[:,k])]\n",
    "        plt.annotate(lettre, (k, Si[k]))\n",
    "    plt.xlabel('Position i')\n",
    "    plt.ylabel('Si')\n",
    "    plt.show()\n",
    "    plt.savefig('entropy.png', dpi=300)\n",
    "    return\n",
    "\n",
    "print(plot_entropy(Si, PWM, aa, 3))"
   ]
  },
  {
   "cell_type": "markdown",
   "metadata": {},
   "source": [
    "Exercise 3: Déterminer les paramètres f(0)(b) du modèle nul, où\n",
    "\\begin{equation}\n",
    "f^{(0)}(b) = \\frac 1L \\sum_{i=0}^{L-1} \\omega_i(b)\\ ,\n",
    "\\end{equation}"
   ]
  },
  {
   "cell_type": "code",
   "execution_count": 9,
   "metadata": {},
   "outputs": [
    {
     "name": "stdout",
     "output_type": "stream",
     "text": [
      "[0.27083333 0.29166667 0.27083333 0.16666667]\n"
     ]
    }
   ],
   "source": [
    "#computing f0\n",
    "def f0_calcule(PWM):\n",
    "    \"\"\"Input 1 : position-weight matrix of shape (q,L)\n",
    "    Output 1 : vector of size q containing the null model \"\"\"\n",
    "    q = len(PWM)\n",
    "    L = len(PWM[0])\n",
    "    f_0 = []\n",
    "    \n",
    "    for i in range(q):\n",
    "        W = 0\n",
    "        for j in range(L):\n",
    "            W += PWM[i,j]\n",
    "        f_0.append(W/L) \n",
    "    f_0 = np.array(f_0)\n",
    "    return f_0\n",
    "\n",
    "f_0 = f0_calcule(PWM)\n",
    "print (f_0)"
   ]
  },
  {
   "cell_type": "code",
   "execution_count": 10,
   "metadata": {},
   "outputs": [
    {
     "name": "stdout",
     "output_type": "stream",
     "text": [
      "ACABBACCAC\n"
     ]
    }
   ],
   "source": [
    "flux=open(input_sequence_f)\n",
    "compteur = 0\n",
    "for line in flux:\n",
    "    if compteur==1:\n",
    "        seq = line.rstrip()\n",
    "    compteur+=1\n",
    "print(seq)"
   ]
  },
  {
   "cell_type": "markdown",
   "metadata": {},
   "source": [
    "Exercise 4: (à appliquer à testseq.txt): Déterminer l(bi,...,bi+L−1)  pour chaque sous-séquence de longueur L. \n",
    "Déterminer si il y a des sous-séquences de la famille definie par Dtrain. \n",
    "Tracer la log-vraisemblance en fonction de sa première position i = 0, ..., N − L.\n",
    "\\begin{equation}\n",
    "\\label{eq:ll}\n",
    "\\ell(b_0,...,b_{L-1}) = \\log_2 \\frac {P(b_0,...,b_{L-1} | \\omega )\n",
    "}{P^{(0)}(b_0,...,b_{L-1})}\n",
    "= \\sum_{i=0}^{L-1} \\log_2 \\frac {\\omega_i(b_i)}{f^{(0)}(b_i)}\\ .\n",
    "\\end{equation}"
   ]
  },
  {
   "cell_type": "markdown",
   "metadata": {},
   "source": [
    "4.1: Faites une fonction pour calculer la log-vraisemblance, d'une séquence de taille L."
   ]
  },
  {
   "cell_type": "code",
   "execution_count": 11,
   "metadata": {},
   "outputs": [
    {
     "name": "stdout",
     "output_type": "stream",
     "text": [
      "-3.3217312116314837\n"
     ]
    }
   ],
   "source": [
    "#computing log-likehood\n",
    "def loglikehood(seq, PWM, f_0, L, alphabet):\n",
    "    \"\"\"Input 1 : sequence of which you want to calculate the log-likelihood\n",
    "    Input 2 : position-weight matrix of shape (q,L)\n",
    "    Input 3 : null model vector of length q\n",
    "    Input 4 : MSA length\n",
    "    Output 1 : log-likelihood of the sequence seq\"\"\"\n",
    "    P_nul = 1\n",
    "    P_seq = 1\n",
    "    j = 0\n",
    "    \n",
    "    for nt in seq :\n",
    "        i=0\n",
    "        for l in alphabet :\n",
    "            if nt == l:\n",
    "                break\n",
    "            i+= 1\n",
    "        P_nul = P_nul * f_0[i]\n",
    "        P_seq = P_seq * PWM[i,j]\n",
    "        j+= 1\n",
    "        if j >= L:\n",
    "            break\n",
    "    ll = np.log2(P_seq/P_nul)\n",
    "    \n",
    "    return ll\n",
    "\n",
    "# Test the log-likelihood on the sequences of the data set\n",
    "ll = loglikehood(seq, PWM, f_0, L, aa)\n",
    "print(ll)"
   ]
  },
  {
   "cell_type": "markdown",
   "metadata": {},
   "source": [
    "4.2: Faites une fonction qui etant donné une séquence de taille supérieur à k génère toutes les sous-séquences de taille k. Avec cette fonction, trouvez toutes les sous-séquences de taille L de la séquence en testseq.txt"
   ]
  },
  {
   "cell_type": "code",
   "execution_count": 12,
   "metadata": {},
   "outputs": [
    {
     "name": "stdout",
     "output_type": "stream",
     "text": [
      "['ACABBA', 'CABBAC', 'ABBACC', 'BBACCA', 'BACCAC']\n"
     ]
    }
   ],
   "source": [
    "#computing sliding_window \n",
    "def sliding_window (seq, k):\n",
    "    \"\"\"Input 1 : sequence of length > k\n",
    "    Input 2 : window length (int)\n",
    "    Output 1 : list of windows of length k generated from sequence seq\"\"\"\n",
    "    n = len(seq)\n",
    "    windows = []\n",
    "    for i in range(n):\n",
    "        if i+k <= n:\n",
    "            subseq = seq[i:i+k]\n",
    "            windows.append(subseq)    \n",
    "    return windows\n",
    "\n",
    "# Find all subsequences of length L from the sequence in testseq.txt\n",
    "subseqs = sliding_window(seq, 6)\n",
    "print(subseqs)"
   ]
  },
  {
   "cell_type": "markdown",
   "metadata": {},
   "source": [
    "4.3: Calculer la log-vraisemblance pour toutes les sous-sequences trouvées en 4.2 et tracer un graphique de log-vraisemblance, avec en abscisse la position initiale de la sous-sequence."
   ]
  },
  {
   "cell_type": "code",
   "execution_count": 13,
   "metadata": {},
   "outputs": [],
   "source": [
    "#computing log-likelihood\n",
    "def likelihoodAllSousSeq(subseqs, PWM, f_0, k, alphabet):\n",
    "    \"\"\"Input 1 : list of all subsequences of length k\n",
    "    Input 2 : position-weight matrix of length shape (q,k)\n",
    "    Input 3 : null model vector of length k\n",
    "    Input 4 : length of each subsequence\n",
    "    Output 1 : log-likelihood vector of length len(subseqs) - k + 1\n",
    "    \n",
    "    REMARK : The length of the subsequences must match the\n",
    "    number of columns in the PWM and the length of the null model!\"\"\"\n",
    "    lhs = []\n",
    "    L = len(PWM[0])\n",
    "    \n",
    "    for seq in subseqs:\n",
    "        lhs.append(loglikehood(seq, PWM, f_0, L, alphabet))\n",
    "    \n",
    "    lhs = np.array(lhs)\n",
    "    return lhs\n",
    "\n",
    "def plot_likelihood(lhs):\n",
    "    \"\"\"Input 1 : log-likelihood vector\"\"\"\n",
    "    n = len(lhs)\n",
    "    X = [k for k in range(n)]\n",
    "    plt.plot(X, lhs)\n",
    "    plt.xlabel('Sous séquences')\n",
    "    plt.ylabel('loglikelihood')\n",
    "    plt.show()\n",
    "    #plt.savefig('likelihood.png', dpi=300)\n",
    "    return\n"
   ]
  },
  {
   "cell_type": "code",
   "execution_count": 14,
   "metadata": {},
   "outputs": [
    {
     "data": {
      "image/png": "[encoded data removed]",
      "text/plain": [
       "<Figure size 432x288 with 1 Axes>"
      ]
     },
     "metadata": {
      "needs_background": "light"
     },
     "output_type": "display_data"
    },
    {
     "name": "stdout",
     "output_type": "stream",
     "text": [
      "None\n"
     ]
    }
   ],
   "source": [
    "#plotting log-likelihood for each initial position\n",
    "lhs = likelihoodAllSousSeq(subseqs, PWM, f_0, 6, aa)\n",
    "print(plot_likelihood(lhs))"
   ]
  },
  {
   "cell_type": "code",
   "execution_count": null,
   "metadata": {},
   "outputs": [],
   "source": []
  }
 ],
 "metadata": {
  "celltoolbar": "Raw Cell Format",
  "kernelspec": {
   "display_name": "Python 3",
   "language": "python",
   "name": "python3"
  },
  "language_info": {
   "codemirror_mode": {
    "name": "ipython",
    "version": 3
   },
   "file_extension": ".py",
   "mimetype": "text/x-python",
   "name": "python",
   "nbconvert_exporter": "python",
   "pygments_lexer": "ipython3",
   "version": "3.8.3"
  }
 },
 "nbformat": 4,
 "nbformat_minor": 2
}
