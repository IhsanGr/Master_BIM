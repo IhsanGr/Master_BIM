{
 "cells": [
  {
   "cell_type": "markdown",
   "metadata": {
    "id": "iH_7RQMQz1I_"
   },
   "source": [
    "<h1><b>Statistique en Bioinformatique : </b> TME4 </h1>\n",
    "<br>\n",
    "L’objectif de ce TME sont: \n",
    "<br>\n",
    "<ul>\n",
    "<li> objectif 1 : Utiliser les chaines de Markov pour comprendre les états phénotypiques de cellules cancéreuses.   </li> \n",
    "<li> objectif 2 : étudier la dynamique des proportions phénotypiques dans les lignées cellulaires du cancer du sein humain: SUM159 et SUM149</li>\n",
    "</ul>\n",
    "<br>\n",
    "<div class=\"alert alert-warning\" role=\"alert\" style=\"margin: 10px\">\n",
    "<p><b>Soumission</b></p>\n",
    "<ul>\n",
    "<li>Renomer le fichier TME3.ipynb pour NomEtudiant1_NomEtudiant2.ipynb </li>\n",
    "<li>Soumettre sur moodle </li>\n",
    "</div>\n"
   ]
  },
  {
   "cell_type": "markdown",
   "metadata": {
    "id": "RL6noRwnz1JF"
   },
   "source": [
    "Nom etudiant 1 : Grichi Ihsân\n",
    "<br>\n",
    "Nom etudiant 2 : Bibi Triki Adel\n",
    "<br>"
   ]
  },
  {
   "cell_type": "markdown",
   "metadata": {
    "id": "JjI415A7z1JG"
   },
   "source": [
    "<h3>Introduction</h3>\n",
    "<ul>\n",
    "<li> Les cellules cancéreuses au sein des tumeurs existent souvent dans des états phénotypiques distincts.</li>\n",
    "<li> Les sous-populations de cellules purifiées pour un état phénotypique reviennent vers des proportions d'équilibre dans le temps.</li>\n",
    "<li> Cet équilibre peut s'expliquer par un modèle de Markov dans lequel les cellules passent de manière stochastique entre les états.  </li>\n",
    "</ul>\n",
    "\n",
    "<img src=\"img/CellStateTransition.png\" />"
   ]
  },
  {
   "cell_type": "markdown",
   "metadata": {
    "id": "klmlzMfxz1JG"
   },
   "source": [
    "<b>Exercice 1</b>:\n",
    "Traduire les graphes de transition de la figure D en matrices de transition, \n",
    "$P_{149}$ et $P_{159}$. Verifier bien que les matrices et les vecteur  $\\pi_{0}$ soitent normalisés.\n"
   ]
  },
  {
   "cell_type": "code",
   "execution_count": 1,
   "metadata": {
    "colab": {
     "base_uri": "https://localhost:8080/"
    },
    "executionInfo": {
     "elapsed": 215,
     "status": "ok",
     "timestamp": 1644853786575,
     "user": {
      "displayName": "Juliana Bernardes",
      "photoUrl": "https://lh3.googleusercontent.com/a-/AOh14GjmXQB4bG0DHp8uDHafZCQn94Atlo0kH-t-DxF8-w=s64",
      "userId": "00263393379349185862"
     },
     "user_tz": -60
    },
    "id": "y62Dy1Szz1JH",
    "outputId": "ca6703cf-3466-4c51-c9d9-c7dea1562f4a"
   },
   "outputs": [
    {
     "name": "stdout",
     "output_type": "stream",
     "text": [
      "[[0.61 0.3  0.09]\n",
      " [0.01 0.99 0.  ]\n",
      " [0.01 0.08 0.91]]\n",
      "[[0.58 0.07 0.35]\n",
      " [0.04 0.47 0.49]\n",
      " [0.01 0.   0.99]]\n"
     ]
    }
   ],
   "source": [
    "import matplotlib.pyplot as plt\n",
    "import numpy as np\n",
    "import scipy as sp\n",
    "from matplotlib.legend_handler import HandlerLine2D\n",
    "import random\n",
    "import math as mt\n",
    "import random as rd\n",
    "\n",
    "#distribuition inicialle vecteur pi_0 S, L, B\n",
    "pi0_149 = np.array([0.039, 0.033, 0.9280])\n",
    "pi0_159 = np.array([0.019, 0.973, 0.0062])\n",
    "\n",
    "\n",
    "\n",
    "#matrices \n",
    "p_149 = np.array([[0.61, 0.30, 0.09], [0.01, 0.99, 0.00], [0.01, 0.08, 0.90]])\n",
    "\n",
    "\n",
    "p_159 = np.array([[0.58, 0.07, 0.35], [0.04, 0.47, 0.49], [0.01, 0.00, 0.99]])\n",
    "\n",
    "#Normaliser les vecteurs π0.\n",
    "\n",
    "\n",
    "\n",
    "\n",
    "def normalise(m):\n",
    "    \"\"\"\n",
    "    Normalise a matrix\n",
    "    input1 m: matrix\n",
    "    output1 mN: normalised matrix\n",
    "    \"\"\"\n",
    "    N = m.sum(axis = 1)\n",
    "    mN = m/N\n",
    "    \n",
    "    return np.round(mN, 2) \n",
    "\n",
    "p_149 = normalise(p_149)\n",
    "print (normalise(p_149))\n",
    "#[[0.61       0.3        0.09      ]\n",
    "# [0.01       0.99       0.        ]\n",
    "# [0.01010101 0.08080808 0.90909091]]\n",
    "\n",
    "p_159 = normalise(p_159)\n",
    "print (normalise(p_159))\n",
    "#[[0.58 0.07 0.35]\n",
    "# [0.04 0.47 0.49]\n",
    "# [0.01 0.00 0.99]]"
   ]
  },
  {
   "cell_type": "markdown",
   "metadata": {
    "id": "BJqHvDoIz1JL"
   },
   "source": [
    "<b>Exercice 2</b>: Déterminer les états stationnaires \n",
    "$\\pi^\\star_{149}$ et $\\pi^\\star_{159}$. \n",
    "Est-ce que les valeurs que vous trouvez sont consistentes avec les \n",
    "valeurs experimentales en Fig. 1?"
   ]
  },
  {
   "cell_type": "code",
   "execution_count": 2,
   "metadata": {
    "colab": {
     "base_uri": "https://localhost:8080/"
    },
    "executionInfo": {
     "elapsed": 225,
     "status": "ok",
     "timestamp": 1644854983898,
     "user": {
      "displayName": "Juliana Bernardes",
      "photoUrl": "https://lh3.googleusercontent.com/a-/AOh14GjmXQB4bG0DHp8uDHafZCQn94Atlo0kH-t-DxF8-w=s64",
      "userId": "00263393379349185862"
     },
     "user_tz": -60
    },
    "id": "KaDmd5Pwz1JM",
    "outputId": "d1031a9e-3dfb-4f28-d8c2-b2eba41d015e"
   },
   "outputs": [
    {
     "name": "stdout",
     "output_type": "stream",
     "text": [
      "Pi star 149  [0.025 0.95  0.025]\n",
      "Pi star 159  [0.0234721  0.00310009 0.97342781]\n"
     ]
    }
   ],
   "source": [
    "#You can use the function numpy.linalg.eig\n",
    "#https://numpy.org/doc/stable/reference/generated/numpy.linalg.eig.html\n",
    "\n",
    "p_149T = p_149.T\n",
    "eigenvalues, eigenvectors = np.linalg.eig(p_149T)\n",
    "\n",
    "for k in range (len(eigenvalues)):\n",
    "    if np.abs(eigenvalues[k] - 1) < 1e-6:\n",
    "        vp = eigenvectors[:, k]\n",
    "        \n",
    "    \n",
    "p_159T = p_159.T\n",
    "eigenvalues2, eigenvectors2 = np.linalg.eig(p_159T)\n",
    "\n",
    "for k in range(len(eigenvalues2)):\n",
    "    if np.abs(eigenvalues2[k] - 1) < 1e-6:\n",
    "        vp2 = eigenvectors2[:, k]\n",
    "\n",
    "        \n",
    "pi_stat_149 = vp/vp.sum()\n",
    "pi_stat_159 = vp2/vp2.sum()\n",
    "\n",
    "print (\"Pi star 149 \" , pi_stat_149)\n",
    "print (\"Pi star 159 \" , pi_stat_159)\n",
    "\n",
    "#Pi star 149  [0.02500625 0.95023756 0.02475619]\n",
    "#Pi star 159  [0.0234721  0.00310009 0.97342781]\n"
   ]
  },
  {
   "cell_type": "markdown",
   "metadata": {
    "id": "dahLt4Ruz1JN"
   },
   "source": [
    "<b>Exercice 3</b>: Déterminer les matrices de transition $P_{149}^n$ et $P_{159}^n$ pour $n$ \n",
    "iterations avec $n=2,4,8,16,32,64$, imprimer toutes les matrices. Computer les vectors $\\pi^{(n)}$ et les comparer avec\n",
    "$\\pi^\\star_{149,159}$. Utilisez le $\\pi^0$ du papier de Gupta, page 2, ci-dessous."
   ]
  },
  {
   "cell_type": "code",
   "execution_count": 3,
   "metadata": {
    "colab": {
     "base_uri": "https://localhost:8080/"
    },
    "executionInfo": {
     "elapsed": 239,
     "status": "ok",
     "timestamp": 1644855027342,
     "user": {
      "displayName": "Juliana Bernardes",
      "photoUrl": "https://lh3.googleusercontent.com/a-/AOh14GjmXQB4bG0DHp8uDHafZCQn94Atlo0kH-t-DxF8-w=s64",
      "userId": "00263393379349185862"
     },
     "user_tz": -60
    },
    "id": "Et5sT7SEz1JN",
    "outputId": "6b941682-595d-47dd-f1d7-6b3727295762"
   },
   "outputs": [
    {
     "name": "stdout",
     "output_type": "stream",
     "text": [
      "pi_149^2: [[0.2356   0.606072 0.158328]\n",
      " [0.0196   0.978141 0.002259]\n",
      " [0.0196   0.22457  0.75583 ]] \n",
      "\n",
      "pi2 [[0.028024   0.93876247 0.03321353]] \n",
      "\n",
      "pi_149^4: [[0.100816   0.73515454 0.16402946]\n",
      " [0.023056   0.97150968 0.00543432]\n",
      " [0.023056   0.34747754 0.62946646]] \n",
      "\n",
      "pi4 [[0.02608864 0.94169877 0.03221259]] \n",
      "\n",
      "pi_149^8: [[0.03482575 0.83259339 0.13258086]\n",
      " [0.02474806 0.96398298 0.01126896]\n",
      " [0.02474806 0.53605318 0.43919876]] \n",
      "\n",
      "pi8 [[0.02514109 0.94473711 0.03012181]] \n",
      "\n",
      "pi_149^16: [[0.02516503 0.89795125 0.07688372]\n",
      " [0.02499577 0.95649446 0.01850977]\n",
      " [0.02499577 0.75525939 0.21974484]] \n",
      "\n",
      "pi16 [[0.02500237 0.94757051 0.02742712]] \n",
      "\n",
      "pi_149^32: [[0.02500005 0.93851594 0.03648401]\n",
      " [0.025      0.9514355  0.0235645 ]\n",
      " [0.025      0.9069349  0.06806511]] \n",
      "\n",
      "pi32 [[0.025      0.94946312 0.02553688]] \n",
      "\n",
      "pi_149^64: [[0.025      0.94943841 0.02556159]\n",
      " [0.025      0.9500702  0.0249298 ]\n",
      " [0.025      0.94789404 0.02710596]] \n",
      "\n",
      "pi64 [[0.025      0.94997375 0.02502625]] \n",
      "\n",
      "None\n",
      "pi_159^2: [[0.207544 0.058534 0.733922]\n",
      " [0.043444 0.108422 0.848134]\n",
      " [0.01897  0.001428 0.979602]] \n",
      "\n",
      "pi2 [[0.0226705  0.00317381 0.97235569]] \n",
      "\n",
      "pi_159^4: [[0.08539315 0.02886229 0.88574457]\n",
      " [0.03328895 0.02804083 0.93867022]\n",
      " [0.02194774 0.00239946 0.9756528 ]] \n",
      "\n",
      "pi4 [[0.02318402 0.00305691 0.97195907]] \n",
      "\n",
      "pi_159^8: [[0.03067598 0.00691905 0.96240497]\n",
      " [0.02497209 0.00479008 0.97023783]\n",
      " [0.02329362 0.00300262 0.97370376]] \n",
      "\n",
      "pi8 [[0.02340236 0.00308271 0.97171493]] \n",
      "\n",
      "pi_159^16: [[0.02357352 0.00315954 0.97326695]\n",
      " [0.02349569 0.0031155  0.97338881]\n",
      " [0.02346958 0.00309861 0.97343182]] \n",
      "\n",
      "pi16 [[0.02342947 0.00309429 0.97167624]] \n",
      "\n",
      "pi_159^32: [[0.02347212 0.0031001  0.97342778]\n",
      " [0.0234721  0.00310009 0.9734278 ]\n",
      " [0.0234721  0.00310009 0.97342781]] \n",
      "\n",
      "pi32 [[0.02342985 0.00309451 0.97167564]] \n",
      "\n",
      "pi_159^64: [[0.0234721  0.00310009 0.97342781]\n",
      " [0.0234721  0.00310009 0.97342781]\n",
      " [0.0234721  0.00310009 0.97342781]] \n",
      "\n",
      "pi64 [[0.02342985 0.00309451 0.97167564]] \n",
      "\n",
      "None\n"
     ]
    }
   ],
   "source": [
    "pi_zero_149 = np.array([[0.039, 0.928, 0.033]])\n",
    "pi_zero_159 = np.array([[0.019, 0.0062, 0.973]])\n",
    "\n",
    "\n",
    "#matrice P**n\n",
    "def matTransN(P, n):\n",
    "    \"\"\"\n",
    "    Compute the transition matrix after N iterations\n",
    "    input1 P: matrix\n",
    "    input2 n: number of iterations\n",
    "    output Pn: transition matrix after N iterations\n",
    "    \"\"\"\n",
    "    Pn = P\n",
    "    \n",
    "    for k in range(n):\n",
    "        Pn = Pn@P\n",
    "\n",
    "    return Pn\n",
    "\n",
    "#matrice P**n where n = 2,4,8,16,32,64\n",
    "def printMat(P, n, pi_0, M_name):\n",
    "    \"\"\"\n",
    "    Print all P**n matrices, where n in  {2,4,8,16,32,64, ...}  \n",
    "    input1 P: matrix\n",
    "    input2 n: number of iterations\n",
    "    input3 pi_0: initial condition\n",
    "    input4 M_name: matrix identifier\n",
    "    output: None\n",
    "    \"\"\"\n",
    "    for k in [2, 4, 8, 16, 32, 64]:\n",
    "        pi = matTransN(P, k)\n",
    "        print('pi_' + str(M_name)+ '^'+ str(k) + ':', matTransN(P, k), '\\n')\n",
    "        print('pi' + str(k), pi_0 @ pi, '\\n')\n",
    "    pass\n",
    "\n",
    "print (printMat(p_149, 2, pi_zero_149, '149'))\n",
    "print (printMat(p_159, 2, pi_zero_159, '159'))"
   ]
  },
  {
   "cell_type": "markdown",
   "metadata": {
    "id": "Ez5E-p_kz1JP"
   },
   "source": [
    "<b> Exercice 4 </b>:\n",
    " Ecrire une fonction pour déterminer les\n",
    "$(\\pi^{(t)})_{t=1:n}$ d'une chaine de Markov à trois états. Appliquer\n",
    "pour $P_{149}$ et $P_{159}$, pour les conditions initiales \n",
    "$\\pi^{(0)}\\in\\{ (0.998,0.001,0.001), (0.001,0.998,0.001), \n",
    "(0.001,0.001,0.998) \\}$ et pour $n=20$ itérations de la chaine \n",
    "de Markov. Visualiser graphiquement les résultats.\n"
   ]
  },
  {
   "cell_type": "code",
   "execution_count": 4,
   "metadata": {
    "executionInfo": {
     "elapsed": 223,
     "status": "ok",
     "timestamp": 1644856534370,
     "user": {
      "displayName": "Juliana Bernardes",
      "photoUrl": "https://lh3.googleusercontent.com/a-/AOh14GjmXQB4bG0DHp8uDHafZCQn94Atlo0kH-t-DxF8-w=s64",
      "userId": "00263393379349185862"
     },
     "user_tz": -60
    },
    "id": "KsLDPxwyz1JQ"
   },
   "outputs": [],
   "source": [
    "\n",
    "def Pi_n(pi_0, P, n):\n",
    "    \"\"\"\n",
    "    Compute Pi_n = Pi_0*P^n\n",
    "    input1 pi_0: intial condition\n",
    "    input2 P: transition matrix\n",
    "    input3 n: number of iterations\n",
    "    output Pi_n\n",
    "    \"\"\"\n",
    "    Pn = matTransN(P, n)\n",
    "    Pi_n = pi_0 @ Pn\n",
    "    \n",
    "    \n",
    "    return Pi_n \n"
   ]
  },
  {
   "cell_type": "code",
   "execution_count": 5,
   "metadata": {
    "executionInfo": {
     "elapsed": 190,
     "status": "ok",
     "timestamp": 1644856586760,
     "user": {
      "displayName": "Juliana Bernardes",
      "photoUrl": "https://lh3.googleusercontent.com/a-/AOh14GjmXQB4bG0DHp8uDHafZCQn94Atlo0kH-t-DxF8-w=s64",
      "userId": "00263393379349185862"
     },
     "user_tz": -60
    },
    "id": "-GUCujCkz1JQ"
   },
   "outputs": [],
   "source": [
    "def List_Pi_n(pi0, P, n):\n",
    "    \"\"\"\n",
    "    Compute a list of  Pi_n\n",
    "    input1 pi_0: intial condition\n",
    "    input2 P: transition matrix\n",
    "    input3 n: number of iterations\n",
    "    output liste_M_trans: list\n",
    "    \"\"\"\n",
    "    liste_Pi_n= [pi0]\n",
    "    for k in range(1, n):\n",
    "        pi_n = Pi_n(pi0, P, k)\n",
    "        liste_Pi_n.append(pi_n)\n",
    "    return np.array(liste_Pi_n)"
   ]
  },
  {
   "cell_type": "code",
   "execution_count": 6,
   "metadata": {
    "executionInfo": {
     "elapsed": 198,
     "status": "ok",
     "timestamp": 1644856724472,
     "user": {
      "displayName": "Juliana Bernardes",
      "photoUrl": "https://lh3.googleusercontent.com/a-/AOh14GjmXQB4bG0DHp8uDHafZCQn94Atlo0kH-t-DxF8-w=s64",
      "userId": "00263393379349185862"
     },
     "user_tz": -60
    },
    "id": "0Ffnrnmiz1JQ"
   },
   "outputs": [],
   "source": [
    "def plot(liste_Pi_n):\n",
    "    \"\"\"\n",
    "    Plot liste_Pi_n\n",
    "    \"\"\"\n",
    "    Y = np.array(liste_Pi_n)\n",
    "    X = np.linspace(0, 20, 20)\n",
    "    a = Y[:, 0]\n",
    "    b = Y[:, 1]\n",
    "    c = Y[:, 2]\n",
    "    plt.plot(X, a, label='état S')\n",
    "    plt.plot(X, b, label='état B')\n",
    "    plt.plot(X, c, label='état L')\n",
    "    plt.legend()\n",
    "    plt.show()"
   ]
  },
  {
   "cell_type": "code",
   "execution_count": 34,
   "metadata": {
    "colab": {
     "base_uri": "https://localhost:8080/",
     "height": 265
    },
    "executionInfo": {
     "elapsed": 525,
     "status": "ok",
     "timestamp": 1644856753199,
     "user": {
      "displayName": "Juliana Bernardes",
      "photoUrl": "https://lh3.googleusercontent.com/a-/AOh14GjmXQB4bG0DHp8uDHafZCQn94Atlo0kH-t-DxF8-w=s64",
      "userId": "00263393379349185862"
     },
     "user_tz": -60
    },
    "id": "wVIEcMhBz1JS",
    "outputId": "15fad204-c266-4985-9120-8e7d3f3fa605"
   },
   "outputs": [
    {
     "data": {
      "image/png": "[encoded data removed]",
      "text/plain": [
       "<Figure size 432x288 with 1 Axes>"
      ]
     },
     "metadata": {
      "needs_background": "light"
     },
     "output_type": "display_data"
    }
   ],
   "source": [
    "pi1 = np.array([0.998,0.001,0.001])\n",
    "plot(List_Pi_n(pi1, p_149, 20))"
   ]
  },
  {
   "cell_type": "markdown",
   "metadata": {
    "id": "0UoEleO_z1JS"
   },
   "source": [
    "<b> Exercice 5 </b>:\n",
    "Ecrire une fonction pour simuler la trajectoire stochastique\n",
    "$(x_t)_{t=0:n}$ d'une seule réalisation de la chaine de Markov. \n",
    "Créer des population de $N=10,100,1000,10000$ trajectoires. Estimer \n",
    "la trajectoire moyenne de chaque population.\n"
   ]
  },
  {
   "cell_type": "code",
   "execution_count": 35,
   "metadata": {
    "id": "xLSto-G0z1JT"
   },
   "outputs": [],
   "source": [
    "def Trajectoire (n, Pi_0, P):\n",
    "    \"\"\"\n",
    "    simulate the stochastic trajectory\n",
    "    input1 n: number of iterations\n",
    "    input2 Pi_0: initial condition\n",
    "    input3 P: transition matrix\n",
    "    output Traj: list of states that simulates the stochastic trajectory ['S', 'B', 'L']\n",
    "    \"\"\"\n",
    "    S_Pi_0 = np.copy(Pi_0)\n",
    "    S_Pi_0 = np.cumsum(S_Pi_0)\n",
    "    \n",
    "    S_P = np.copy(P)\n",
    "    S_P = np.cumsum(S_P, axis=1)\n",
    "    \n",
    "    Traj =[]\n",
    "    \n",
    "    N = len(P[0])\n",
    "    M = len(S_Pi_0)\n",
    "    \n",
    "    jet = rd.random()\n",
    "    etat = M-1                      #dans l'éventualité où la somme de S_Pi_0 n'est pas égale à 1 \n",
    "                                    #(c'est le cas pour pi0_159 dont la somme vaut 0.9982)\n",
    "    \n",
    "    if n>0:                         #si l'on demande 0 points on en aura effectivement 0 et pas 1 par défaut\n",
    "        for k in range(len(S_Pi_0)):\n",
    "            if jet < S_Pi_0[k]:\n",
    "                etat = k\n",
    "                Traj.append(etat)\n",
    "                break\n",
    "    \n",
    "    i = 2\n",
    "    while i <= n:\n",
    "        for k in range(M):\n",
    "            jet = rd.random()\n",
    "            if jet < S_P[etat][k]:\n",
    "                etat = k\n",
    "                Traj.append(etat)\n",
    "                break\n",
    "        i += 1\n",
    "    \n",
    "    return Traj\n",
    "\n",
    "#Déterminer une trajectoire pour N population.\n",
    "def Trajectoire_P(n, Pi_0, P, N):\n",
    "    \"\"\"\n",
    "    Simulate a trajectory for N population.\n",
    "    input1 n: number of iterations\n",
    "    input2 Pi_0: initial condition\n",
    "    input3 P: transtion matrix\n",
    "    input3 N: population size\n",
    "    output TrajP: trajectory\n",
    "    \"\"\"\n",
    "    TrajP = []\n",
    "    \n",
    "    for k in range(N):\n",
    "        TrajP.append(Trajectoire(n, Pi_0, P))\n",
    "\n",
    "    return TrajP\n",
    "    \n",
    "#Estimer la trajectoire moyenne d'une chaine de markov pou N\n",
    "\n",
    "def Trajectoire_moy(n, Pi_0, P, N):\n",
    "    \"\"\"\n",
    "    Find the mean tragetoire\n",
    "    input1 n: number of iterations\n",
    "    input2 Pi_0: initial condition\n",
    "    input3 P: transtion matrix\n",
    "    input3 N: population size\n",
    "    output TrajMoy: mean trajectory\n",
    "    \"\"\"\n",
    "    s = len(Pi_0)\n",
    "    \n",
    "    TrajMoy = np.zeros((s, n))\n",
    "    TrajP = Trajectoire_P(n, Pi_0, P, N)\n",
    "    TrajP = np.array(TrajP)\n",
    "    \n",
    "    \n",
    "    for j in range(n):\n",
    "        k = np.array([0 for k in range(s)])\n",
    "        for i in range(N):\n",
    "            k[TrajP[i][j]] += 1\n",
    "        TrajMoy[:, j] = k/N     \n",
    "        \n",
    "    return TrajMoy\n",
    "\n",
    "#Visualiser graphique des trajectoires.\n",
    "def plotTrajectory(t):\n",
    "    \"\"\"\n",
    "    Plot Trajectory\n",
    "    input1 t: trajectory\n",
    "    \"\"\"\n",
    "    Y = np.array(t)\n",
    "    X = np.linspace(0, len(t[0]), len(t[0]))\n",
    "    a = Y[0, :]\n",
    "    b = Y[1, :]\n",
    "    c = Y[2, :]\n",
    "    plt.plot(X, a, label='état S')\n",
    "    plt.plot(X, b, label='état B')\n",
    "    plt.plot(X, c, label='état L')\n",
    "    plt.legend()\n",
    "    plt.show()"
   ]
  },
  {
   "cell_type": "code",
   "execution_count": 36,
   "metadata": {
    "id": "ywau1ttsz1JT",
    "outputId": "788ac3db-5d96-4fab-f4f4-5f90986eeabb"
   },
   "outputs": [
    {
     "data": {
      "image/png": "[encoded data removed]",
      "text/plain": [
       "<Figure size 432x288 with 1 Axes>"
      ]
     },
     "metadata": {
      "needs_background": "light"
     },
     "output_type": "display_data"
    }
   ],
   "source": [
    "TrajMoy = Trajectoire_moy(20, pi1, p_149, 10000)\n",
    "plotTrajectory(TrajMoy)"
   ]
  },
  {
   "cell_type": "markdown",
   "metadata": {
    "id": "v6J7JbvWz1JT"
   },
   "source": [
    "<b> Exercice 6 </b>: \n",
    "Ecrire une fonction pour calculer la probabilité d'une trajectoire\n",
    "$(x_t)_{t=0:n}$. Pour y facilite vous devez applique le log et utlise la somme au\n",
    "lieu du product.  Ensuite vouz devez comparer les probabilités de \n",
    "deux chaines de Markov $P_{149}$ et $P_{159}$. Visualiser les histogrammes pour les deux populations de taille $N=10000$ (géenérées avec $P_{149}$ et $P_{159}$). Est-ce que vous observez des différences entre les deux modèles? Comment est-ce que vous expliquer cettes différences?"
   ]
  },
  {
   "cell_type": "code",
   "execution_count": 53,
   "metadata": {
    "id": "tYRRFv2cz1JT",
    "outputId": "d5393941-1aad-4fca-c0b1-ed17bf1da50a"
   },
   "outputs": [
    {
     "data": {
      "image/png": "[encoded data removed]",
      "text/plain": [
       "<Figure size 432x288 with 1 Axes>"
      ]
     },
     "metadata": {
      "needs_background": "light"
     },
     "output_type": "display_data"
    },
    {
     "data": {
      "image/png": "[encoded data removed]",
      "text/plain": [
       "<Figure size 432x288 with 1 Axes>"
      ]
     },
     "metadata": {
      "needs_background": "light"
     },
     "output_type": "display_data"
    }
   ],
   "source": [
    "#Calculer la probabilité d’une trajectoire (xt)t=0:n\n",
    "def Pb_Trajectoire(Traj, Pi_0, P): \n",
    "    \"\"\"\n",
    "    Compute the probability of a trajectory\n",
    "    input1 Traj: a trajectory\n",
    "    input2 Pi_0: initial condition\n",
    "    input3 P: transtion matrix\n",
    "    output Proba: ptobability\n",
    "    \"\"\"\n",
    "    etat = Traj[0]\n",
    "    Proba = np.log(Pi_0[Traj[0]])\n",
    "    \n",
    "    for k in Traj[1:]:\n",
    "        Proba += P[etat][Traj[k]]\n",
    "        etat = Traj[k]\n",
    "    \n",
    "    return Proba\n",
    "\n",
    "def Histo(Trajs, Pi_0, P):\n",
    "    \"\"\"\n",
    "    compute a histogramm of Trajectory probabilities\n",
    "    input1 Trajs: a trajectory population\n",
    "    input2 Pi_0: initial condition\n",
    "    input3 P: transtion matrix  \n",
    "    output pop: a list of probabilities\n",
    "    \"\"\"\n",
    "    pop = []\n",
    "    for Traj in Trajs:\n",
    "        pop.append(Pb_Trajectoire(Traj, Pi_0, P))\n",
    "\n",
    "    return pop\n",
    "\n",
    "\n",
    "def plotHist(Histo149, Histo159):\n",
    "    \"\"\"\n",
    "    Plot two probabilities histogram\n",
    "    input1 Histo149: a list of probabilities for P149\n",
    "    input1 Histo159: a list of probabilities for P159\n",
    "    \"\"\"\n",
    "    plt.title('Histogramme pour p_149')\n",
    "    plt.hist(Histo149, color = 'blue', density = True)\n",
    "    plt.show()\n",
    "    plt.title('Histogramme pour p_159')\n",
    "    plt.hist(Histo159, color = 'red', density = True)\n",
    "    plt.show()\n",
    "#-------------------------------------------------------------\n",
    "plotHist(Histo(Trajectoire_P(20, pi0_149, p_149, 10000),pi0_149, p_149), Histo(Trajectoire_P(20, pi0_159, p_159, 10000),pi0_159, p_159))"
   ]
  },
  {
   "cell_type": "markdown",
   "metadata": {
    "id": "ZsmgfCRPz1JU"
   },
   "source": []
  }
 ],
 "metadata": {
  "colab": {
   "collapsed_sections": [],
   "name": "TME4_corrige.ipynb",
   "provenance": []
  },
  "kernelspec": {
   "display_name": "Python 3",
   "language": "python",
   "name": "python3"
  },
  "language_info": {
   "codemirror_mode": {
    "name": "ipython",
    "version": 3
   },
   "file_extension": ".py",
   "mimetype": "text/x-python",
   "name": "python",
   "nbconvert_exporter": "python",
   "pygments_lexer": "ipython3",
   "version": "3.8.3"
  }
 },
 "nbformat": 4,
 "nbformat_minor": 1
}
