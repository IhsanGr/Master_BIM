{
 "cells": [
  {
   "cell_type": "markdown",
   "metadata": {},
   "source": [
    "<h1><b>Statistique en Bioinformatique : </b> TME - Solo </h1>\n",
    "<br>\n",
    "<div class=\"alert alert-warning\" role=\"alert\" style=\"margin: 10px\">\n",
    "<p> Duration : 1h</p>   \n",
    "<p><b>Soumission via moodle</b></p>\n",
    "\n",
    "</div>"
   ]
  },
  {
   "cell_type": "markdown",
   "metadata": {},
   "source": [
    "Nom etudiant: "
   ]
  },
  {
   "cell_type": "markdown",
   "metadata": {},
   "source": [
    "\n",
    "Nous voudrions identifier les homologues de la séquence protéique dans le fichier \"inconnue.fasta\""
   ]
  },
  {
   "cell_type": "markdown",
   "metadata": {},
   "source": [
    "<b> Question 1 </b>:  À partir de l'application BLAST, disponible via le site de <a href=\"http://blast.ncbi.nlm.nih.gov/\">NCBI</a>. Faites un BLAST de la séquence inconnue.fasta contre la banque swissprot. Répondez aux questions suivantes:"
   ]
  },
  {
   "cell_type": "markdown",
   "metadata": {},
   "source": [
    "<b>1.1 </b>: Combien de séquence vous avez en résultat ?"
   ]
  },
  {
   "cell_type": "markdown",
   "metadata": {},
   "source": [
    "<font color=\"red\"> Réponse : </font>\n",
    "<font color=\"blue\">\n",
    "\n",
    "</font>"
   ]
  },
  {
   "cell_type": "markdown",
   "metadata": {},
   "source": [
    "<b>1.2 </b>: Faire un histogramme pour montrer la distribution des scores? Vous pouvez faire le download du fichier de \"hit Table\" en format csv."
   ]
  },
  {
   "cell_type": "code",
   "execution_count": 1,
   "metadata": {},
   "outputs": [],
   "source": [
    "import matplotlib.pyplot as plt\n",
    "import numpy as np\n"
   ]
  },
  {
   "cell_type": "markdown",
   "metadata": {},
   "source": [
    "<b>1.3</b>: En analysant le résultat graphique de BLAST vous pouvez dire que cette protéine a des homologues proches? Justifiez votre réponse?"
   ]
  },
  {
   "cell_type": "markdown",
   "metadata": {},
   "source": [
    "<font color=\"red\"> Réponse : </font>\n",
    "<font color=\"blue\">\n",
    "\n",
    "</font>"
   ]
  },
  {
   "cell_type": "markdown",
   "metadata": {},
   "source": [
    "<b> Question 2</b>: A partir de résultats de BLAST, télécharger les séquences alignées dans l'onglet \"Aligments\", cliquez sur Download puis FASTA (aligned sequences)."
   ]
  },
  {
   "cell_type": "markdown",
   "metadata": {},
   "source": [
    "<b> 2.1 </b>:  Ajouter au fichier telechargé la séquence inconnue.fasta, enlever les gaps et les ré-aligner avec l'outil <a href=\"http://www.ebi.ac.uk/Tools/msa/clustalo/\">Clustal omega</a>.\n",
    "Calculer la séquence consensus de l'alignement et le score avec la matrice Blosum62."
   ]
  },
  {
   "cell_type": "code",
   "execution_count": null,
   "metadata": {},
   "outputs": [],
   "source": [
    "#alignement obtenu\n"
   ]
  },
  {
   "cell_type": "code",
   "execution_count": null,
   "metadata": {},
   "outputs": [],
   "source": [
    "#Sequence consensus\n"
   ]
  },
  {
   "cell_type": "code",
   "execution_count": null,
   "metadata": {},
   "outputs": [],
   "source": [
    "#Score de l'aligment\n",
    "blosum_file = 'BLOSUM62.txt'\n",
    "gap = -5\n",
    "\n"
   ]
  },
  {
   "cell_type": "markdown",
   "metadata": {},
   "source": [
    "<b>2.2</b>:  Calculer la PWM à partir de l'alignement."
   ]
  },
  {
   "cell_type": "code",
   "execution_count": 2,
   "metadata": {},
   "outputs": [],
   "source": [
    "import sys\n",
    "import numpy as np\n",
    "\n",
    "aa = ['A', 'C', 'D', 'E', 'F', 'G', 'H', 'I', 'K', 'L', 'M', 'N', 'P', 'Q', 'R', 'S', 'T', 'V', 'W', 'Y', '-']\n",
    "q = 21"
   ]
  },
  {
   "cell_type": "markdown",
   "metadata": {},
   "source": [
    "<b>2.3</b>: Afficher la meilleure log-vraisemblance de la séquence du fichier teste.fasta ainsi que les positions dans la séquence. "
   ]
  },
  {
   "cell_type": "code",
   "execution_count": null,
   "metadata": {},
   "outputs": [],
   "source": []
  },
  {
   "cell_type": "markdown",
   "metadata": {},
   "source": [
    "<b> Question 3 </b>:   A partir de l'alignement de la question précédente construit le modèle HMMer en utilisant la version 3. Répondez aux questions suivantes :"
   ]
  },
  {
   "cell_type": "markdown",
   "metadata": {},
   "source": [
    "<b> 3.1 </b>:  Combien d'états Match observez-vous?"
   ]
  },
  {
   "cell_type": "markdown",
   "metadata": {},
   "source": [
    "<font color=\"red\"> Réponse : </font>\n",
    "<font color=\"blue\">\n",
    "\n",
    "</font>"
   ]
  },
  {
   "cell_type": "markdown",
   "metadata": {},
   "source": [
    "<b> 3.2 </b>: Chercher la séquence du fichier teste.fasta en utilisant hmmsearch (default parameters). Quelle est le c-évalués et le score?"
   ]
  },
  {
   "cell_type": "markdown",
   "metadata": {},
   "source": [
    "<font color=\"red\"> Réponse : </font>\n",
    "<font color=\"blue\">\n",
    "\n",
    "</font>"
   ]
  },
  {
   "cell_type": "markdown",
   "metadata": {},
   "source": [
    "<b> 3.3</b>:  A partir de résultats obtenus avez vous une indication de la fonction ou domaine fonctionnelle de la protéine inconnue? Si oui télécharger le modèle HMMer correspondant du site de pfam puis refaire la question 3.2, en utilisant l'option --cut_ga "
   ]
  },
  {
   "cell_type": "markdown",
   "metadata": {},
   "source": [
    "<font color=\"red\"> Réponse : </font>\n",
    "<font color=\"blue\">\n",
    "\n",
    "</font>"
   ]
  },
  {
   "cell_type": "markdown",
   "metadata": {},
   "source": [
    "<b> Question 4 </b>:  Faire une fonction pour éliminer toutes les colonnes de l'argument qui ont au moins un gap. Puis chercher le motif de taille k = 10 avec l'algorithme EM. "
   ]
  },
  {
   "cell_type": "code",
   "execution_count": null,
   "metadata": {},
   "outputs": [],
   "source": []
  },
  {
   "cell_type": "code",
   "execution_count": null,
   "metadata": {},
   "outputs": [],
   "source": []
  }
 ],
 "metadata": {
  "kernelspec": {
   "display_name": "Python 3",
   "language": "python",
   "name": "python3"
  },
  "language_info": {
   "codemirror_mode": {
    "name": "ipython",
    "version": 3
   },
   "file_extension": ".py",
   "mimetype": "text/x-python",
   "name": "python",
   "nbconvert_exporter": "python",
   "pygments_lexer": "ipython3",
   "version": "3.8.3"
  }
 },
 "nbformat": 4,
 "nbformat_minor": 4
}
