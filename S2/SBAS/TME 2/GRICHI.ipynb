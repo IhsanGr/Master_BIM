{
 "cells": [
  {
   "cell_type": "markdown",
   "metadata": {
    "id": "zc3cyupLxpLU"
   },
   "source": [
    "<h1><b>Statistique en Bioinformatique : </b> TME2 </h1>\n",
    "<br>\n",
    "L’objectif de ce TME est: \n",
    "<br>\n",
    "<ul>\n",
    "<li> objectif 1: comprendre les différences d'alignement global et local, </li>\n",
    "<li> objectif 2: reconstruire une matrice de substitution du type Blosum, </li>\n",
    "</ul>\n",
    "<br>\n",
    "<div class=\"alert alert-warning\" role=\"alert\" style=\"margin: 10px\">\n",
    "<p><b>Soumission</b></p>\n",
    "<ul>\n",
    "<li>Renomer le fichier TME2.ipynb pour NomEtudiant1_NomEtudiant2.ipynb </li>\n",
    "<li>Soumettre sur moodle </li>\n",
    "</ul>\n",
    "</div>"
   ]
  },
  {
   "cell_type": "markdown",
   "metadata": {
    "id": "hLY2cvLFxpLa"
   },
   "source": [
    "Nom etudiant 1 : Grichi Ihsân\n",
    "<br>\n",
    "Nom etudiant 2 :\n",
    "<br>"
   ]
  },
  {
   "cell_type": "markdown",
   "metadata": {
    "id": "FRkAzmSLxpLb"
   },
   "source": [
    "<b> Exercice 1 </b>: On va étudier un alignement “difficile” entre la protéine emph50s ribosomal L20 chez A. aeolicus, \n",
    "et la protéine ligase UBR5 chez l’homme (L’alignement structural est montré ci-dessous). \n",
    "<br>\n",
    "\n",
    "<img src=\"bacthum.png\" alt=\"Smiley face\" height=\"210\" width=\"202\"> \n",
    "\n",
    "\n",
    "\n",
    "<br><br>\n",
    "<b>A.</b> Récupérez la séquence de la protéine “E3 ubiquitin ligase UBR5” chez l’homme et de la protéine “50S ribosomal L20” chez A. aeolicus \n",
    "via le site <a href=\"http://www.uniprot.org/\">Uniprot</a>  au format .fasta.\n",
    "\n",
    "<br>\n",
    "<b>B.</b> A l’aide du site <a href=\"https://www.ebi.ac.uk/Tools/psa/\">psa</a>, alignez ces séquences. Commentez les faibles pourcentage d’identité malgré le bon alignement des ces structures.\n"
   ]
  },
  {
   "cell_type": "markdown",
   "metadata": {
    "id": "ri9NO201xpLc"
   },
   "source": [
    "Réponse : Cela est simplement dû au grand nombre de missmatch présent dans l'alignement. L'algorithme considère que l'évolution a opéré des substitutions à certaines positions plutôt que des insertions/délétions."
   ]
  },
  {
   "cell_type": "markdown",
   "metadata": {
    "id": "HmhkuDvTxpLc"
   },
   "source": [
    "<b>C.</b> Récupérez la séquence de la protéine “metL Bifunctional aspartokinase/homoserine dehydrogenase 2” et de la protéine “lysC Lysine-sensitive aspartokinase 3” chez E. coli via le site <a href=\"http://www.uniprot.org/\"> Uniprot </a> au format .fasta. Reproduisez, à l’aide du site <a href=\"https://www.ebi.ac.uk/Tools/psa/\"> psa</a>, l’alignement global et local vu en TD. Observez la modification des résultats en changeant la matrice de substitution et/ou les pénalités de gap (“Gap_penalty” et “Extend_penalty”)."
   ]
  },
  {
   "cell_type": "markdown",
   "metadata": {
    "id": "mWPYrmMwxpLd"
   },
   "source": [
    "Reponse: Après avoir aligné ces deux séquences avec l'algorithme de Needlman Wunsch tout d'abord avec la matrice BLOSUM62 on constate 17.2% d'identité, 27.6% de similarité et 48.4% de gaps pour un score d'alignement final de 501.5. Lorsque l'on fait cela avec la matrice EBOLSUM30 on observe 17.4% d'identité, 30.9% de similarité et 49.1% de gaps pour un score final de 779.0. Au final même si on constate quelques légères différences dans le pourcentage de gaps et d'identité elles ne sont pas si significatives et on ne peut donc pas en déduire quelques effets de la matrice. En revanche on constate une nette différence entre les pourcentages de similairité, peut être que la matrice EBLOSUM30 est plus permissive et considère plus d'acides aminés comme possédant les mêmes propriétés physico-chimique."
   ]
  },
  {
   "cell_type": "markdown",
   "metadata": {
    "id": "defYSqBzxpLd"
   },
   "source": [
    "<b>Exercice 2</b>: Score alignement global, local <br>\n",
    "Faire une fonction pour calculer : 1) la pourcentage de identité, 2) la pourcentage de similarité, 3) le score d’un alignement en utilisant la matrix blosum62. Le calcul de la similarité doit prendre en considération les acides amine ayant la même propriété physico chimique. Dans notre cas, tous les acides amine qui ont des valeurs supérieur à zéro dans la matrice BLOSUM62. Le score basé sur la matrice blosum doit aussi prendre en considération les deux pénalités de gaps, ouverture et extension. Teste vos fonctions en utilisant le fichier test.fasta\n"
   ]
  },
  {
   "cell_type": "code",
   "execution_count": 12,
   "metadata": {
    "id": "IJbv2IIxxpLe"
   },
   "outputs": [],
   "source": [
    "import numpy as np\n",
    "\n",
    "#variable initiation\n",
    "aa = ['A', 'R', 'N', 'D', 'C', 'Q', 'E', 'G', 'H', 'I', 'L', 'K', 'M', 'F', 'P', 'S', 'T', 'W', 'Y', 'V', 'X']\n",
    "\n",
    "#parameters\n",
    "q = 21\n",
    "gap_open = -5\n",
    "gap_ext = 0.5\n",
    "\n",
    "#files\n",
    "input_test_f = 'test.fasta'\n",
    "input_blosum_f = 'BLOSUM62.txt'\n",
    "\n",
    "#For a simple test use:\n",
    "input_test_f = 'testToy.fasta'\n",
    "\n"
   ]
  },
  {
   "cell_type": "code",
   "execution_count": 13,
   "metadata": {
    "id": "ue8REeWDxpLg",
    "outputId": "10e97e2b-2a6f-49d7-a5b2-a8cd4c4274b9"
   },
   "outputs": [
    {
     "name": "stdout",
     "output_type": "stream",
     "text": [
      "['ACCD', 'A-CD']\n"
     ]
    }
   ],
   "source": [
    "#Read the test.fasta file\n",
    "def read_fasta (input_f):\n",
    "    \"\"\"\n",
    "    Input1 input_f: fasta file name\n",
    "    Output1 arr_seqs: List of sequences \n",
    "    REMARK : We keep only the sequences, identifiers are not necessary\n",
    "    \"\"\"\n",
    "    arr_seqs = []\n",
    "    seq =''\n",
    "    \n",
    "    flux = open(input_f)\n",
    "    for line in flux :\n",
    "        line = line.rstrip()\n",
    "        \n",
    "        \n",
    "        if line[0] == '>' :\n",
    "            if seq!= '':\n",
    "                arr_seqs.append(seq)\n",
    "            seq = ''\n",
    "\n",
    "        else:\n",
    "            seq+=line[:]\n",
    "            \n",
    "    arr_seqs.append(seq)\n",
    "    \n",
    "    \n",
    "    return arr_seqs\n",
    "\n",
    "\n",
    "testAln = read_fasta(input_test_f)\n",
    "print (testAln)\n",
    "#It shlould print ['ACCD', 'A-CD'] when using toy"
   ]
  },
  {
   "cell_type": "code",
   "execution_count": 14,
   "metadata": {
    "id": "_y2pUQhpxpLi"
   },
   "outputs": [
    {
     "name": "stdout",
     "output_type": "stream",
     "text": [
      "[[ 4. -1. -2. -2.  0. -1. -1.  0. -2. -1. -1. -1. -1. -2. -1.  1.  0. -3.\n",
      "  -2.  0.]\n",
      " [-1.  5.  0. -2. -3.  1.  0. -2.  0. -3. -2.  2. -1. -3. -2. -1. -1. -3.\n",
      "  -2. -3.]\n",
      " [-2.  0.  6.  1. -3.  0.  0.  0.  1. -3. -3.  0. -2. -3. -2.  1.  0. -4.\n",
      "  -2. -3.]\n",
      " [-2. -2.  1.  6. -3.  0.  2. -1. -1. -3. -4. -1. -3. -3. -1.  0. -1. -4.\n",
      "  -3. -3.]\n",
      " [ 0. -3. -3. -3.  9. -3. -4. -3. -3. -1. -1. -3. -1. -2. -3. -1. -1. -2.\n",
      "  -2. -1.]\n",
      " [-1.  1.  0.  0. -3.  5.  2. -2.  0. -3. -2.  1.  0. -3. -1.  0. -1. -2.\n",
      "  -1. -2.]\n",
      " [-1.  0.  0.  2. -4.  2.  5. -2.  0. -3. -3.  1. -2. -3. -1.  0. -1. -3.\n",
      "  -2. -2.]\n",
      " [ 0. -2.  0. -1. -3. -2. -2.  6. -2. -4. -4. -2. -3. -3. -2.  0. -2. -2.\n",
      "  -3. -3.]\n",
      " [-2.  0.  1. -1. -3.  0.  0. -2.  8. -3. -3. -1. -2. -1. -2. -1. -2. -2.\n",
      "   2. -3.]\n",
      " [-1. -3. -3. -3. -1. -3. -3. -4. -3.  4.  2. -3.  1.  0. -3. -2. -1. -3.\n",
      "  -1.  3.]\n",
      " [-1. -2. -3. -4. -1. -2. -3. -4. -3.  2.  4. -2.  2.  0. -3. -2. -1. -2.\n",
      "  -1.  1.]\n",
      " [-1.  2.  0. -1. -3.  1.  1. -2. -1. -3. -2.  5. -1. -3. -1.  0. -1. -3.\n",
      "  -2. -2.]\n",
      " [-1. -1. -2. -3. -1.  0. -2. -3. -2.  1.  2. -1.  5.  0. -2. -1. -1. -1.\n",
      "  -1.  1.]\n",
      " [-2. -3. -3. -3. -2. -3. -3. -3. -1.  0.  0. -3.  0.  6. -4. -2. -2.  1.\n",
      "   3. -1.]\n",
      " [-1. -2. -2. -1. -3. -1. -1. -2. -2. -3. -3. -1. -2. -4.  7. -1. -1. -4.\n",
      "  -3. -2.]\n",
      " [ 1. -1.  1.  0. -1.  0.  0.  0. -1. -2. -2.  0. -1. -2. -1.  4.  1. -3.\n",
      "  -2. -2.]\n",
      " [ 0. -1.  0. -1. -1. -1. -1. -2. -2. -1. -1. -1. -1. -2. -1.  1.  5. -2.\n",
      "  -2.  0.]\n",
      " [-3. -3. -4. -4. -2. -2. -3. -2. -2. -3. -2. -3. -1.  1. -4. -3. -2. 11.\n",
      "   2. -3.]\n",
      " [-2. -2. -2. -3. -2. -1. -2. -3.  2. -1. -1. -2. -1.  3. -3. -2. -2.  2.\n",
      "   7. -1.]\n",
      " [ 0. -3. -3. -3. -1. -2. -2. -3. -3.  3.  1. -2.  1. -1. -2. -2.  0. -3.\n",
      "  -1.  4.]]\n"
     ]
    }
   ],
   "source": [
    "#read Blosum\n",
    "def read_blosum (input_f):\n",
    "    \"\"\"\n",
    "    Input1 input_f : blosum file name\n",
    "    Output1: a matrix of dimention [q-1, q-1] \n",
    "    REMARK : You should eliminate the last four columns and last four rows of Blosum file\n",
    "    \"\"\"\n",
    "    M = []\n",
    "    \n",
    "    flux = open(input_f)\n",
    "    for line in flux:\n",
    "        line = line.rstrip()\n",
    "        if line[0] != '#' and line[0] != ' ':\n",
    "            line = line.split(None, 24)\n",
    "            M.append(line[1:])\n",
    "    \n",
    "    M = np.array(M)\n",
    "    blosum = np.zeros((len(M) - 4, len(M[0]) - 4 ) )\n",
    "    \n",
    "    \n",
    "    for i in range(len(blosum)):\n",
    "        for j in range(len(blosum[0])):\n",
    "            blosum[i, j] = int(M[i, j])\n",
    "    \n",
    "    \n",
    "    return blosum\n",
    "\n",
    "matr_62 = read_blosum (input_blosum_f)\n",
    "print(matr_62)"
   ]
  },
  {
   "cell_type": "code",
   "execution_count": 15,
   "metadata": {
    "id": "kVERnb8YxpLi",
    "outputId": "00129154-4626-4b90-f64d-f0b93c31d59b"
   },
   "outputs": [
    {
     "name": "stdout",
     "output_type": "stream",
     "text": [
      "['ACCD', 'A-CD']\n",
      "identitee=  0.75  similarity=  0.75  score=  14.0\n"
     ]
    }
   ],
   "source": [
    "def indentite_calcul(seq1, seq2, gap_open, gap_ext, matr_62):\n",
    "    \"\"\"\n",
    "    Input1 seq1 : sequence\n",
    "    Input2 seq2 : sequence\n",
    "    Input3 gap_open : gap open penality\n",
    "    Input4 gap_ext : gap extention penality\n",
    "    Input5 matr_62 :  a matrix of dimention [q-1, q-1] representing substitution matrix\n",
    "    Output1 ident: sequence identity\n",
    "    Output2 similaire: sequence similarity\n",
    "    Output3 score: aligment score\n",
    "    \"\"\"\n",
    "    \n",
    "    score = 0\n",
    "    similaire = 0\n",
    "    ident=0\n",
    "    n = len(seq1)\n",
    "    gap1 = False\n",
    "    gap2 = False\n",
    "    \n",
    "    for k in range(n):\n",
    "        nt1 = seq1[k]\n",
    "        nt2 = seq2[k]\n",
    "        if nt1 == '-':\n",
    "            gap2 = False\n",
    "            if not gap1:\n",
    "                score += gap_open\n",
    "                gap1 = True\n",
    "            else:\n",
    "                score+=gap_ext\n",
    "                \n",
    "        elif nt2 == '-':\n",
    "            gap1 = False\n",
    "            if not gap2:\n",
    "                score+= gap_open\n",
    "                gap2 = True\n",
    "            else:\n",
    "                score+=gap_ext\n",
    "                \n",
    "        elif nt1!= '-' and nt2!= '-':\n",
    "            index1 = aa.index(nt1)\n",
    "            index2 = aa.index(nt2)\n",
    "            if nt1 == nt2 :\n",
    "                ident += 1/n\n",
    "                similaire += 1/n\n",
    "                score += matr_62[index1, index2]\n",
    "            else:\n",
    "                if matr_62[index1, index2] > 0 :\n",
    "                    similaire += 1/n\n",
    "                score += matr_62[index1, index2]\n",
    "    return ident, similaire, score\n",
    "\n",
    "print(testAln)\n",
    "identitee,similarity,score = indentite_calcul(testAln[0], testAln[1], gap_open, gap_ext, matr_62)\n",
    "print (\"identitee= \", identitee , \" similarity= \", similarity, \" score= \", score )\n",
    "\n",
    "#identitee=  0.75  similarity=  0.75  score=  14.0"
   ]
  },
  {
   "cell_type": "markdown",
   "metadata": {
    "id": "8cpbRq5FxpLj"
   },
   "source": [
    "<b>Exercice 3</b>: Matrice de substitution <br>\n",
    "Faire une programme (plusieurs fonctions seront nécessaires) pour produire une matrix de substitution comme Blosum. Utiliser l’alignement du fichiers <b>blocks.dat</b> Vous pouvez tester vous fonctions sue le fichier <b>blockToy.dat</b>. \n"
   ]
  },
  {
   "cell_type": "code",
   "execution_count": 16,
   "metadata": {
    "id": "eOdfz9ooxpLk"
   },
   "outputs": [],
   "source": [
    "from itertools import combinations, combinations_with_replacement\n",
    "from collections import Counter\n",
    "\n",
    "input_block_f = 'blockToy.dat'\n",
    "\n",
    "\n",
    "#For a simple test do:\n",
    "q = 3\n",
    "aa = ['A', 'B', 'C']\n",
    "\n"
   ]
  },
  {
   "cell_type": "code",
   "execution_count": 6,
   "metadata": {
    "id": "dujYZbatxpLk",
    "outputId": "e1b8faba-5e6a-45dc-9625-40ebb14ca3b3"
   },
   "outputs": [
    {
     "name": "stdout",
     "output_type": "stream",
     "text": [
      "['ABCCB', 'ACABA', 'CBCCB', 'ACBBB']\n"
     ]
    }
   ],
   "source": [
    "#read alignment file\n",
    "from io import StringIO \n",
    "import sys\n",
    "\n",
    "def readAlnFile(input_f):\n",
    "    \"\"\"\n",
    "    Input1 input_f : Alignment File name\n",
    "    Output1 aln : List of aligned sequences\n",
    "    Output2 cols : Number of colums (L)\n",
    "    \"\"\"\n",
    "    aln = []\n",
    "    flux = open(input_f)\n",
    "    \n",
    "    for line in flux:\n",
    "        line= line.lstrip().rstrip()\n",
    "        aln.append(line)\n",
    "        \n",
    "    cols = len(aln[0])\n",
    "    \n",
    "    return aln, cols\n",
    "\n",
    "aln, cols  = readAlnFile(input_block_f)\n",
    "#cols = 43\n",
    "cols = 5 #testing toy\n",
    "print ( aln)\n"
   ]
  },
  {
   "cell_type": "code",
   "execution_count": 7,
   "metadata": {
    "id": "rUmAvC7ixpLl",
    "outputId": "43a5a1c8-2e06-44b4-b9ca-c9282c6fa4b6"
   },
   "outputs": [
    {
     "name": "stdout",
     "output_type": "stream",
     "text": [
      "{('A', 'A'): 3, ('A', 'B'): 4, ('A', 'C'): 5, ('B', 'B'): 5, ('B', 'C'): 10, ('C', 'C'): 3}\n"
     ]
    }
   ],
   "source": [
    "#compute fij frequences\n",
    "def frequencies (aln, cols, aa):\n",
    "    \"\"\"\n",
    "    Input1 aln : List of aligned sequences\n",
    "    Input2 cols : Number of colums in the aligment (L)\n",
    "    Input3 aa: residue alphabet\n",
    "    Output1  pairs_freq_dict: a dictionary containing residue pair frequencies\n",
    "    \"\"\"\n",
    "    #generate all aa combination\n",
    "    pairs_freq_dict = {x:0 for x in combinations_with_replacement(aa,2)}\n",
    "    aa.sort()\n",
    "    n = len(aln[0])\n",
    "    paire = []\n",
    "    K = 0\n",
    "    \n",
    "    for k in range(n):\n",
    "        for i in range(cols):\n",
    "            for j in range(i+1, cols-1):\n",
    "                paire.append([aln[i][k], aln[j][k]])\n",
    "                paire[K].sort()\n",
    "                pairs_freq_dict[(paire[K][0], paire[K][1])]+=1\n",
    "                K+=1\n",
    "                \n",
    "                \n",
    "    return pairs_freq_dict\n",
    "\n",
    "pairs_freq_dict = frequencies (aln, cols, aa)\n",
    "print (pairs_freq_dict)\n",
    "#{('A', 'A'): 3, ('A', 'B'): 4, ('A', 'C'): 5, ('B', 'B'): 5, ('B', 'C'): 10, ('C', 'C'): 3}"
   ]
  },
  {
   "cell_type": "code",
   "execution_count": 8,
   "metadata": {
    "id": "exH7_KG2xpLl",
    "outputId": "26ae9f95-6ab0-48fb-dcce-546ea3635751"
   },
   "outputs": [
    {
     "name": "stdout",
     "output_type": "stream",
     "text": [
      "30\n"
     ]
    }
   ],
   "source": [
    "#compute T\n",
    "def calcule_T(pairs_freq_dict):\n",
    "    \"\"\"\n",
    "    Input1 pairs_freq_dict: a dictionary containing residue pair frequencies\n",
    "    Output1 : T, the overall sum \n",
    "    \"\"\"\n",
    "    T = 0\n",
    "    for v in pairs_freq_dict.values():\n",
    "        T+=v\n",
    "    \n",
    "    return T\n",
    "\n",
    "T = calcule_T(pairs_freq_dict)\n",
    "print (T)\n",
    "#30"
   ]
  },
  {
   "cell_type": "code",
   "execution_count": 9,
   "metadata": {
    "id": "JkpXjmJ-xpLm",
    "outputId": "c4660af1-41ef-4b03-e616-44b8cdb66a41"
   },
   "outputs": [
    {
     "name": "stdout",
     "output_type": "stream",
     "text": [
      "[0.25, 0.4, 0.35]\n"
     ]
    }
   ],
   "source": [
    "#compute pi\n",
    "def calcule_p_is(pairs_freq_dict, T):\n",
    "    \"\"\"\n",
    "    Compute the probability of each residue.\n",
    "    Input1 pairs_freq_dict: a dictionary containing residue pair frequencies\n",
    "    Input2 T : the overall sum \n",
    "    Output1 pi: List of probabilities\n",
    "    REMARK : You can compute qij directly from pairs_freq_dict or create a function to do so.\n",
    "    \"\"\"\n",
    "    L = []\n",
    "    for key in pairs_freq_dict.keys():\n",
    "        L.append(key[0])\n",
    "        L.append(key[1])\n",
    "        \n",
    "    L = set(L)\n",
    "    L = [k for k in L]\n",
    "    L.sort()\n",
    "    pi = [0 for k in range(len(L))]\n",
    "    \n",
    "    for nt in L:\n",
    "        for key in pairs_freq_dict.keys():\n",
    "            for nt2 in key:\n",
    "                if nt2 == nt:\n",
    "                    pi[L.index(nt)] += pairs_freq_dict[key]/2/T\n",
    "    \n",
    "    return pi\n",
    "\n",
    "\n",
    "pi = calcule_p_is(pairs_freq_dict, T)\n",
    "print (pi)\n",
    "#[0.25, 0.4, 0.35]"
   ]
  },
  {
   "cell_type": "code",
   "execution_count": 10,
   "metadata": {
    "id": "RLS7JUa2xpLm",
    "outputId": "19c5a3d2-1b56-4257-d0cb-f31dd3def0ef"
   },
   "outputs": [
    {
     "name": "stdout",
     "output_type": "stream",
     "text": [
      "[[ 0.47000363 -0.40546511 -0.04879016]\n",
      " [-0.40546511  0.04082199  0.17435339]\n",
      " [-0.04879016  0.17435339 -0.20294084]]\n"
     ]
    }
   ],
   "source": [
    "#compute Sij\n",
    "def calcule_S_i_j(pairs_freq_dict, p, T):\n",
    "    \"\"\"\n",
    "    Input1 pairs_freq_dict: a dictionary containing residue pair frequencies\n",
    "    Input2 p: List of probabilities for each residue\n",
    "    Input3 T: the overall sum \n",
    "    Output1 s: Score for each residue pair\n",
    "    \"\"\"\n",
    "    n = len(aa)\n",
    "    s = np.zeros((n, n))\n",
    "    for key in pairs_freq_dict:\n",
    "        i = aa.index(key[1])\n",
    "        j = aa.index(key[0])\n",
    "        qij = pairs_freq_dict[key]/T\n",
    "        pi = p[i]\n",
    "        pj = p[j]\n",
    "        \n",
    "        #condition quand pi =0 ou pj = 0 ce qui est le cas quand on test sur block.dat\n",
    "        if pi == 0:\n",
    "            pi = 0.0000001\n",
    "        if pj == 0:\n",
    "            pj = 0.0000001\n",
    "            \n",
    "            \n",
    "        if p[i] == p[j]:\n",
    "            sij = np.log(qij/(pi*pj))\n",
    "        else:\n",
    "            sij = np.log(qij/(2*(pi*pj)))\n",
    "        s[i, j] = sij\n",
    "        s[j, i] = sij\n",
    "        \n",
    "    return s\n",
    "\n",
    "Sij = calcule_S_i_j(pairs_freq_dict, pi, T)\n",
    "print (Sij)\n",
    "#[[0.47000362924573563, -0.40546510810816444, -0.048790164169431945], [-0.40546510810816444, 0.04082199452025478, 0.17435338714477774], [-0.048790164169431945, 0.17435338714477774, -0.20294084399669016]]"
   ]
  },
  {
   "cell_type": "code",
   "execution_count": 11,
   "metadata": {
    "id": "_4_r2vq5xpLm",
    "outputId": "ba538151-27f1-4527-fe84-ae186b3cc8df"
   },
   "outputs": [
    {
     "name": "stdout",
     "output_type": "stream",
     "text": [
      "Blosum matrix from Blocks database:\n",
      "     |    A|    B|    C|\n",
      "    A| 0.47|-0.41|-0.05|\n",
      "    B|-0.41| 0.04| 0.17|\n",
      "    C|-0.05| 0.17|-0.20|\n"
     ]
    }
   ],
   "source": [
    "#print Matrix\n",
    "Sij_c = [[\"{:0.2f}\".format(x) for x in l] for l in Sij]\n",
    "print('Blosum matrix from Blocks database:')\n",
    "row_format =\"{:>5}|\" * (len(aa) + 1)\n",
    "print(row_format.format(\"\", *aa))\n",
    "for aa, row in zip(aa, Sij_c):\n",
    "\tprint(row_format.format(aa, *row))"
   ]
  }
 ],
 "metadata": {
  "colab": {
   "collapsed_sections": [],
   "name": "TME2_corrige.ipynb",
   "provenance": []
  },
  "kernelspec": {
   "display_name": "Python 3",
   "language": "python",
   "name": "python3"
  },
  "language_info": {
   "codemirror_mode": {
    "name": "ipython",
    "version": 3
   },
   "file_extension": ".py",
   "mimetype": "text/x-python",
   "name": "python",
   "nbconvert_exporter": "python",
   "pygments_lexer": "ipython3",
   "version": "3.8.3"
  }
 },
 "nbformat": 4,
 "nbformat_minor": 1
}
