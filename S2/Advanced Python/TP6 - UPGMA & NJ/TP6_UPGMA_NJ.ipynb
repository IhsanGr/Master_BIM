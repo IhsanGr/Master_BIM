{
 "cells": [
  {
   "cell_type": "markdown",
   "metadata": {},
   "source": [
    "# TP UPGMA/NJ "
   ]
  },
  {
   "cell_type": "code",
   "execution_count": 1,
   "metadata": {},
   "outputs": [],
   "source": [
    "import numpy as np"
   ]
  },
  {
   "cell_type": "code",
   "execution_count": 25,
   "metadata": {},
   "outputs": [
    {
     "name": "stdout",
     "output_type": "stream",
     "text": [
      "[[ 0 19 27  8 33 18 13]\n",
      " [19  0 31 18 36  1 13]\n",
      " [27 31  0 26 41 32 29]\n",
      " [ 8 18 26  0 31 17 14]\n",
      " [33 36 41 31  0 35 28]\n",
      " [18  1 32 17 35  0 12]\n",
      " [13 13 29 14 28 12  0]] \n",
      "\n",
      " ['a', 'b', 'c', 'd', 'e', 'f', 'g']\n"
     ]
    }
   ],
   "source": [
    "def readMatrix(nameFile, n): #n = nombre d'espèces dans la matrice\n",
    "    Matrix={}\n",
    "    M = []\n",
    "    i = True\n",
    "    \n",
    "    flux = open(nameFile)\n",
    "    for line in flux:\n",
    "        line = line.rstrip().lstrip()\n",
    "        if line[0] != '#':\n",
    "            line = line.split(None, n)\n",
    "            if i:\n",
    "                alphabet = line\n",
    "            else :\n",
    "                M.append(line[1:])\n",
    "        i = False\n",
    "            \n",
    "    M = np.array(M, dtype = int)\n",
    "    \n",
    "    return M, alphabet\n",
    "\n",
    "MD, alphabet = readMatrix('matrice.txt', 7)\n",
    "print(MD, '\\n\\n', alphabet)"
   ]
  },
  {
   "cell_type": "code",
   "execution_count": 26,
   "metadata": {},
   "outputs": [
    {
     "name": "stdout",
     "output_type": "stream",
     "text": [
      "[[1000   19   27    8   33   18   13]\n",
      " [  19 1000   31   18   36    1   13]\n",
      " [  27   31 1000   26   41   32   29]\n",
      " [   8   18   26 1000   31   17   14]\n",
      " [  33   36   41   31 1000   35   28]\n",
      " [  18    1   32   17   35 1000   12]\n",
      " [  13   13   29   14   28   12 1000]]\n"
     ]
    }
   ],
   "source": [
    "def diag(MD):\n",
    "    n = len(MD)\n",
    "    for i in range(n):\n",
    "        for j in range(i, n):\n",
    "            if i==j :\n",
    "                MD[i, j] = 1000\n",
    "    pass\n",
    "\n",
    "diag(MD)\n",
    "print(MD)"
   ]
  },
  {
   "cell_type": "code",
   "execution_count": 33,
   "metadata": {},
   "outputs": [],
   "source": [
    "def distance(i, j, MD, leni, lenj):\n",
    "    for k in range(len(MD)):\n",
    "        if i!=k and j!=k:\n",
    "            MD[i, k] =  ( MD[i, k]*leni + MD[k, j]*lenj ) / (leni + lenj)\n",
    "            MD[k, i] = MD[i, k]\n",
    "    pass"
   ]
  },
  {
   "cell_type": "code",
   "execution_count": 40,
   "metadata": {},
   "outputs": [
    {
     "name": "stdout",
     "output_type": "stream",
     "text": [
      "{'b': 0.5, 'f': 0.5, 'a': 4.0, 'd': 4.0, '(b, f)': 6.0, 'g': 6.0, '(a, d)': 8.0, '((b, f), g)': 8.0, '((a, d), ((b, f), g))': 14.0, 'c': 14.0, '(((a, d), ((b, f), g)), c)': 16.5, 'e': 16.5} \n",
      "\n",
      " ((((a, d), ((b, f), g)), c), e) \n",
      "\n",
      "((b : 0.5, f : 0.5), g)\n"
     ]
    }
   ],
   "source": [
    "MD, alphabet = readMatrix('matrice.txt', 7)\n",
    "diag(MD)\n",
    "\n",
    "def UPGMA(MD, alphabet):\n",
    "    D = {}\n",
    "    n = len(MD)\n",
    "    k = 0\n",
    "    newick = ''\n",
    "    \n",
    "    while k < n - 1:\n",
    "        i, j = np.unravel_index(np.argmin(MD, axis = None), MD.shape)\n",
    "        \n",
    "        cluster = alphabet[i] + alphabet[j]\n",
    "        d = MD[i, j] / 2\n",
    "        \n",
    "        D[alphabet[i]] = d\n",
    "        D[alphabet[j]] = d\n",
    "        \n",
    "        distance(i, j, MD, len(alphabet[i]), len(alphabet[j]))\n",
    "        \n",
    "        alphabet[i] = '(' + alphabet[i] + ', ' + alphabet[j] + ')'  #fait newick automatiquement\n",
    "            \n",
    "        del alphabet[j]\n",
    "\n",
    "        MD = np.delete(MD, j, axis = 0)\n",
    "        MD = np.delete(MD, j, axis = 1)\n",
    "        k+=1\n",
    "    \n",
    "    return D, alphabet[0]\n",
    "\n",
    "\n",
    "Arbre, newick = UPGMA(MD, alphabet)\n",
    "print(Arbre, '\\n\\n', newick, '\\n')\n",
    "print(Newick('(b : 0.5, f : 0.5)', 'g'))"
   ]
  }
 ],
 "metadata": {
  "kernelspec": {
   "display_name": "Python 3",
   "language": "python",
   "name": "python3"
  },
  "language_info": {
   "codemirror_mode": {
    "name": "ipython",
    "version": 3
   },
   "file_extension": ".py",
   "mimetype": "text/x-python",
   "name": "python",
   "nbconvert_exporter": "python",
   "pygments_lexer": "ipython3",
   "version": "3.8.3"
  }
 },
 "nbformat": 4,
 "nbformat_minor": 4
}
