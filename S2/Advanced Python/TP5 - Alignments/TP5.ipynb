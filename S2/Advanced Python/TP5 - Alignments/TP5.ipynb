{
 "cells": [
  {
   "cell_type": "markdown",
   "metadata": {},
   "source": [
    "# TP5 : Alignement 2 à 2"
   ]
  },
  {
   "cell_type": "markdown",
   "metadata": {},
   "source": [
    "### l. Matrices de score"
   ]
  },
  {
   "cell_type": "code",
   "execution_count": 1,
   "metadata": {},
   "outputs": [],
   "source": [
    "import numpy as np\n",
    "\n",
    "nameFile = \"BLOSUM62.txt\""
   ]
  },
  {
   "cell_type": "code",
   "execution_count": 2,
   "metadata": {},
   "outputs": [
    {
     "name": "stdout",
     "output_type": "stream",
     "text": [
      "Le score de la paire ** est : 1\n"
     ]
    }
   ],
   "source": [
    "def readBlosum(nameFile):\n",
    "\n",
    "    Blosum={}\n",
    "    M = []\n",
    "\n",
    "    flux = open(nameFile)\n",
    "    for line in flux:\n",
    "        line = line.rstrip().lstrip()\n",
    "        if line[0] != '#':\n",
    "            line = line.split(None, 24)\n",
    "            M.append(line)\n",
    "\n",
    "    M = np.array(M)\n",
    "\n",
    "    for i in range(1, len(M)):\n",
    "        lettre1 = str(M[i][0])\n",
    "        for j in range(len(M[1])-1):\n",
    "            lettre2 = str(M[0][j])\n",
    "            Blosum[lettre1 + lettre2] = M[i][j+1]\n",
    "    return Blosum\n",
    "\n",
    "Blosum = (readBlosum(nameFile))\n",
    "print('Le score de la paire ** est :', Blosum[\"**\"])"
   ]
  },
  {
   "cell_type": "code",
   "execution_count": 3,
   "metadata": {},
   "outputs": [
    {
     "name": "stdout",
     "output_type": "stream",
     "text": [
      "{'DD': '6', 'DE': '2', 'DK': '-1', 'ED': '2', 'EE': '5', 'EK': '1', 'KD': '-1', 'KE': '1', 'KK': '5'} \n",
      "\n",
      " {'VV': '4', 'VI': '3', 'VL': '1', 'IV': '3', 'II': '4', 'IL': '2', 'LV': '1', 'LI': '2', 'LL': '4'} \n",
      "\n",
      " {'DV': '-3', 'DI': '-3', 'DL': '-4', 'EV': '-2', 'EI': '-3', 'EL': '-3', 'KV': '-2', 'KI': '-3', 'KL': '-2'}\n"
     ]
    }
   ],
   "source": [
    "def sousblosum(Blosum, L_aa1, L_aa2):\n",
    "    \n",
    "    blosum ={}\n",
    "    \n",
    "    for aa1 in L_aa1:\n",
    "        for aa2 in L_aa2:\n",
    "            for key in Blosum.keys():\n",
    "                if aa1 + aa2 == key:\n",
    "                    blosum[key] = Blosum[key]\n",
    "\n",
    "    return blosum\n",
    "\n",
    "L_aa1 = ['D', 'E', 'K']\n",
    "L_aa2 = L_aa1\n",
    "blosum1 = sousblosum(Blosum, L_aa1, L_aa2)\n",
    "\n",
    "L_aa1 = ['V', 'I', 'L']\n",
    "L_aa2 = L_aa1\n",
    "blosum2 = sousblosum(Blosum, L_aa1, L_aa2)\n",
    "\n",
    "L_aa1 = ['D', 'E', 'K']\n",
    "L_aa2 = ['V', 'I', 'L']\n",
    "blosum3 = sousblosum(Blosum, L_aa1, L_aa2)\n",
    "\n",
    "print(blosum1, '\\n\\n', blosum2, '\\n\\n', blosum3)"
   ]
  },
  {
   "cell_type": "code",
   "execution_count": 4,
   "metadata": {
    "scrolled": true
   },
   "outputs": [
    {
     "name": "stdout",
     "output_type": "stream",
     "text": [
      "Le score moyen de la matrice BLOSUM62 est : -1.2604166666666667 \n",
      "\n",
      "Le score moyen de la sous matrice chargée est : 2.2222222222222223 \n",
      "\n",
      "Le score moyen de la sous matrice hydrophobe est : 2.6666666666666665 \n",
      "\n",
      "Le score moyen de la sous matrice chargée + hydrophobes est : -2.7777777777777777\n"
     ]
    }
   ],
   "source": [
    "def moyenne(Blosum):\n",
    "    S = 0\n",
    "    for s in Blosum.values():\n",
    "        S+=int(s)\n",
    "    return S/len(Blosum)\n",
    "\n",
    "moy = moyenne(Blosum)\n",
    "print('Le score moyen de la matrice BLOSUM62 est :', moy, '\\n')\n",
    "\n",
    "moy1 = moyenne(blosum1)\n",
    "print('Le score moyen de la sous matrice chargée est :', moy1, '\\n')\n",
    "\n",
    "moy2 = moyenne(blosum2)\n",
    "print('Le score moyen de la sous matrice hydrophobe est :', moy2, '\\n')\n",
    "\n",
    "moy3 = moyenne(blosum3)\n",
    "print('Le score moyen de la sous matrice chargée + hydrophobes est :', moy3)"
   ]
  },
  {
   "cell_type": "markdown",
   "metadata": {},
   "source": [
    "Ces résultats nous permettent de conclure que seuls, les acides aminés chargés et hydrophobes ont un score plutôt positifs entre eux mais quand on les oppose leur score devient négatif. Il est plus négatif que celui de leur association et c'est ce qui entrâine une score moyen négatif pour la matrice BLOSUM62 au complet.  \n",
    "On en conclue donce que la matrice BLOSUM62 base les scores d'associations sur des propriétés physico-chimiques des acides aminés telle que leur hydrophobicité."
   ]
  },
  {
   "cell_type": "markdown",
   "metadata": {},
   "source": [
    "### ll. Alignement global de deux séquences par Programmation dynamique"
   ]
  },
  {
   "cell_type": "code",
   "execution_count": 5,
   "metadata": {},
   "outputs": [],
   "source": [
    "seq1 = 'TG'\n",
    "seq2 = 'TGA'"
   ]
  },
  {
   "cell_type": "code",
   "execution_count": 6,
   "metadata": {},
   "outputs": [
    {
     "name": "stdout",
     "output_type": "stream",
     "text": [
      "[[ 0 -1 -2 -3]\n",
      " [-1  0  0  0]\n",
      " [-2  0  0  0]]\n"
     ]
    }
   ],
   "source": [
    "def constMat(seq1, seq2):\n",
    "    \n",
    "    n = len(seq1)\n",
    "    m = len(seq2)\n",
    "    mat = []\n",
    "    \n",
    "    mat.append([-k for k in range(1, m+1)])\n",
    "    mat[0].insert(0, 0)\n",
    "    \n",
    "    for i in range(n):\n",
    "        L = [-i-1]\n",
    "        for j in range(1, m+1):\n",
    "            L.append(0)\n",
    "        mat.append(L)\n",
    "    return np.array(mat)\n",
    "\n",
    "mat = constMat(seq1, seq2)\n",
    "print(mat)"
   ]
  },
  {
   "cell_type": "code",
   "execution_count": 7,
   "metadata": {},
   "outputs": [
    {
     "name": "stdout",
     "output_type": "stream",
     "text": [
      "(-1, 'next')\n"
     ]
    }
   ],
   "source": [
    "def bestScore(mat, i, j, seq1, seq2, gap):\n",
    "    nt1 = seq1[i-1]\n",
    "    nt2 = seq2[j-1]\n",
    "    score = max(mat[i-1, j-1] + int(Blosum[nt1+nt2]), mat[i-1, j] + gap, mat[i, j-1] + gap)\n",
    "        \n",
    "    if score == mat[i-1, j-1] + int(Blosum[nt1+nt2]):\n",
    "        cell = 'diag'\n",
    "        \n",
    "    elif score == mat[i-1, j] + gap:\n",
    "        cell = 'up'\n",
    "        \n",
    "    else :\n",
    "        cell = 'next'\n",
    "        \n",
    "    return (score, cell)\n",
    "\n",
    "print(bestScore(mat, 1, 3, seq1, seq2, -1))"
   ]
  },
  {
   "cell_type": "code",
   "execution_count": 8,
   "metadata": {},
   "outputs": [
    {
     "name": "stdout",
     "output_type": "stream",
     "text": [
      "[[ 0 -1 -2 -3]\n",
      " [-1  5  4  3]\n",
      " [-2  4 11 10]] \n",
      "\n",
      " [['diag' 'next' 'next']\n",
      " ['up' 'diag' 'next']]\n"
     ]
    }
   ],
   "source": [
    "def aliNWS(mat, seq1, seq2, gap):\n",
    "    n = len(mat)\n",
    "    m = len(mat[0])\n",
    "    cases = []\n",
    "    \n",
    "    for i in range(1, n):\n",
    "        L = []\n",
    "        for j in range(1, m):\n",
    "            score, cell = bestScore(mat, i, j, seq1, seq2, gap)\n",
    "            mat[i, j] = score\n",
    "            L.append(cell)\n",
    "        cases.append(L)\n",
    "            \n",
    "    return mat, np.array(cases)\n",
    "\n",
    "mat, cases = aliNWS(mat, seq1, seq2, -1)\n",
    "print(mat,'\\n\\n', cases)"
   ]
  },
  {
   "cell_type": "code",
   "execution_count": 17,
   "metadata": {},
   "outputs": [
    {
     "name": "stdout",
     "output_type": "stream",
     "text": [
      "('TG_', 'TGA')\n"
     ]
    }
   ],
   "source": [
    "def cheminAli(cases, seq1, seq2):\n",
    "    \n",
    "    ali1 = ''\n",
    "    ali2 = ''\n",
    "    i, j = ( len(seq1), len(seq2) )\n",
    "    \n",
    "    while i > 0 and j > 0:\n",
    "        if cases[i-1, j-1] == 'diag' :\n",
    "            i -=1\n",
    "            j -=1\n",
    "            ali1 += seq1[i]\n",
    "            ali2 += seq2[j]\n",
    "            \n",
    "        elif cases[i-1, j-1] == 'up' :\n",
    "            i -=1\n",
    "            ali1 += seq1[i]\n",
    "            ali2 += '_'\n",
    "            \n",
    "        else :\n",
    "            j -=1\n",
    "            ali1 += '_'\n",
    "            ali2 += seq2[j]\n",
    "    \n",
    "    R_ali1 = [k for k in reversed(ali1)]\n",
    "    R_ali2 = [k for k in reversed(ali2)]\n",
    "    \n",
    "    ali1 = ''\n",
    "    ali2 = ''\n",
    "    \n",
    "    for k in range(len(R_ali1)):\n",
    "        ali1 += R_ali1[k]\n",
    "        ali2 += R_ali2[k]\n",
    "    \n",
    "    return (ali1, ali2)\n",
    "\n",
    "print(cheminAli(cases, seq1, seq2))"
   ]
  },
  {
   "cell_type": "code",
   "execution_count": 21,
   "metadata": {},
   "outputs": [
    {
     "name": "stdout",
     "output_type": "stream",
     "text": [
      "1032 \n",
      "\n",
      " 383\n"
     ]
    }
   ],
   "source": [
    "sequence1 = ''\n",
    "flux = open('S288C_YGR258C_RAD2_protein.fsa')\n",
    "for line in flux:\n",
    "    if line[0]!= '>':\n",
    "        line = line.rstrip()\n",
    "        sequence1 += line\n",
    "        \n",
    "sequence2 = ''\n",
    "flux = open('S288C_YKL113C_RAD27_protein.fsa')\n",
    "for line in flux:\n",
    "    line = line.rstrip()\n",
    "    if line[0]!='>':\n",
    "        sequence2 += line\n",
    "        \n",
    "print( len(sequence1), '\\n\\n', len(sequence2) )"
   ]
  },
  {
   "cell_type": "code",
   "execution_count": 30,
   "metadata": {},
   "outputs": [
    {
     "name": "stdout",
     "output_type": "stream",
     "text": [
      "MGV___H___SFWD_IAGPTARPVRLESLED_K____R_MAVDASI_WIYQFL_KAVRDQE_G___N_A_VK_NSHITG_FFRRICKLL_YFGIRPVFVFDGGVP_VLK_RE_TIRQRKERRQGKRESAKSTARKLLALQLQNGSNDNVKNSTPSSGSSVQIFKPQDEWDLPDIPGFKYDKEDAR_VNSNKTFEKLMNSINGDGLEDIDLDTINPASAEFEELPKATQYLILSSLRLKSRLRMGYSKEQLETIFPNSMDFSRFQIDMVKRRNFFTQKLINTTGFQDGGASKLNEEVINRISGQ_KSKEYKLTKTNNGWILGLGANDGSDAQKAIVIDDKDAGALVKQLDSNAED_GDVL__R__WDDLEDNSLKIVRHESSNATTAPQKRSNRSEDEGCDSDECEWEEVELKPKNV_KFVEDFSLKAARLPYMGQSLNNAGSKSFLDKRHDQASPSKTTPTMRISRISVEDDDEDYLKQIEEIEMMEAVQLSKMEKKPEAD__DKSKIAKPVTSKGTEARPPIVQYGLLGAQPDSKQPYHVTNLNSKSESVIKRT__SKTVLSEFRPPSQQEDKGAILTEGEQNLNFISHKIPQFDFNNENSLLFQKNTESNVSQEATK_EKSPIPEMPSWFSSTASQQLYNPYNTTNFVEDKNVRNEQESGAETTNKGSSYELLTGLNATEILERESEKESSNDENKDDDLEVLSEELFEDVPTKSQISKEAEDNDSRKVESINKEHRKPLIFDYDFSEDEEDNIVENMIKEQEEFDTFKNTTLSTSAERNVAENAFVEDELFEQQMK_DKRDSDEVTMDMIKEVQELLSRFGIPYITAPMEAEAQCAELLQLNLVDGIITDDSDVFLFGGTKIYKNMFHEKNYVEFYDAESILKLLGLDRKNMIELAQLLGSDYTNGLKGMGPVSSIEVIAEFGNLKNFKDWYNNGQFDKRKQETENKFEKDLRKKLVNNEIILDDDFPSVMVYDAYMRPEVDHDTTPFVWGVPDLDMLRSFMKTQLGWPHEKSDEILIPLIRDVNKRKKKGKQKRINEFFPREYISGDKKLNTSKRISTATGKLKKRKM* \n",
      "\n",
      " MGIKGLNAIIS__EHV__PSA__IR_KS__DIKSFFGRKVAIDASMS_LYQFLI_AVRQQDGGQLTNEAG_ETTSHLMGMFYRTL_RMIDN_GIKPCYVFDGKPPD_LKSHELT_K_RSSRR__V_E____TEKK_LA________E____AT_____T________E__L_E____KM_KQERRLV_______K_V_S_K____E____H__N______EE___A_Q_____KL_L_G_L_MG________I_P_______Y_I__I______A_____PT___E__A_____E_____A_QC_A_E__LAK___________K_G____K__VY____A_A_A____S__EDM_DTLCYRTPF__L____L___RH_____LT_____F__S__E___A_____KK_E__P__IHE_I_D_T_E___L__V___L_R_G____L____D_______L_T__IEQF_V_____D_L__C__I__M____LG_______CDYCE_S_I___________R______G_VG_______P__VTAL__K___LIK_THGS__I__________E_K__IV___E____F____I_______E_S_____G_ESN_N___TKW_K__IPE__DW___________PY________K_____Q____________________A_____R__________________M___LF________L_______D_____________P___________E___V___I______D__GN_______E__I__N______L_____KW____S___P_P__KE_KE_L____IEY____L_____C_______________D_D_______K__K__F___S__E____ERV_K_SGISR_____L_K_______KGLKS_G_______I_Q_GRL____D____G____________F__________________F____________Q________V__VP_________KT_______K_EQ_L__AAA_A_KRAQENK_K_LN____K_____N_K_N__K_V_T_KG____RR_* \n",
      "\n",
      "\n",
      "Longueur de l' alignement : 1073\n"
     ]
    }
   ],
   "source": [
    "def Needleman(sequence1, sequence2, gap):\n",
    "    mat = constMat(sequence1, sequence2)\n",
    "    mat, cases = aliNWS(mat, sequence1, sequence2, gap)\n",
    "    ali = cheminAli(cases, sequence1, sequence2)\n",
    "    return ali\n",
    "\n",
    "ali1, ali2 = Needleman(sequence1, sequence2, -1)\n",
    "print(ali1, '\\n\\n', ali2, '\\n\\n')\n",
    "print('Longueur de l\\' alignement :', len(ali1) )"
   ]
  }
 ],
 "metadata": {
  "kernelspec": {
   "display_name": "Python 3",
   "language": "python",
   "name": "python3"
  },
  "language_info": {
   "codemirror_mode": {
    "name": "ipython",
    "version": 3
   },
   "file_extension": ".py",
   "mimetype": "text/x-python",
   "name": "python",
   "nbconvert_exporter": "python",
   "pygments_lexer": "ipython3",
   "version": "3.8.3"
  }
 },
 "nbformat": 4,
 "nbformat_minor": 4
}
