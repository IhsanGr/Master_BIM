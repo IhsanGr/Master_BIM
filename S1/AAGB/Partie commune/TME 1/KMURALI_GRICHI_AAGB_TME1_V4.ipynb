{
 "cells": [
  {
   "cell_type": "markdown",
   "id": "c838a0d7",
   "metadata": {},
   "source": [
    "# TME 1"
   ]
  },
  {
   "cell_type": "code",
   "execution_count": 1,
   "id": "ec6ddec3",
   "metadata": {},
   "outputs": [],
   "source": [
    "import numpy as np\n",
    "#import pandas as pd\n",
    "#dataset=pd.read_csv(\"BLOSUM62.txt\")"
   ]
  },
  {
   "cell_type": "markdown",
   "id": "739df03d",
   "metadata": {},
   "source": [
    "## Part 1 :  Needleman & Wunsch"
   ]
  },
  {
   "cell_type": "raw",
   "id": "0ddde744",
   "metadata": {},
   "source": [
    "#  Matrix made by matblas from blosum62.iij\n",
    "#  * column uses minimum score\n",
    "#  BLOSUM Clustered Scoring Matrix in 1/2 Bit Units\n",
    "#  Blocks Database = /data/blocks_5.0/blocks.dat\n",
    "#  Cluster Percentage: >= 62\n",
    "#  Entropy =   0.6979, Expected =  -0.5209\n",
    "\n",
    "   A  R  N  D  C  Q  E  G  H  I  L  K  M  F  P  S  T  W  Y  V  B  Z  X  *\n",
    "A  4 -1 -2 -2  0 -1 -1  0 -2 -1 -1 -1 -1 -2 -1  1  0 -3 -2  0 -2 -1  0 -4 \n",
    "R -1  5  0 -2 -3  1  0 -2  0 -3 -2  2 -1 -3 -2 -1 -1 -3 -2 -3 -1  0 -1 -4 \n",
    "N -2  0  6  1 -3  0  0  0  1 -3 -3  0 -2 -3 -2  1  0 -4 -2 -3  3  0 -1 -4 \n",
    "D -2 -2  1  6 -3  0  2 -1 -1 -3 -4 -1 -3 -3 -1  0 -1 -4 -3 -3  4  1 -1 -4 \n",
    "C  0 -3 -3 -3  9 -3 -4 -3 -3 -1 -1 -3 -1 -2 -3 -1 -1 -2 -2 -1 -3 -3 -2 -4 \n",
    "Q -1  1  0  0 -3  5  2 -2  0 -3 -2  1  0 -3 -1  0 -1 -2 -1 -2  0  3 -1 -4 \n",
    "E -1  0  0  2 -4  2  5 -2  0 -3 -3  1 -2 -3 -1  0 -1 -3 -2 -2  1  4 -1 -4 \n",
    "G  0 -2  0 -1 -3 -2 -2  6 -2 -4 -4 -2 -3 -3 -2  0 -2 -2 -3 -3 -1 -2 -1 -4 \n",
    "H -2  0  1 -1 -3  0  0 -2  8 -3 -3 -1 -2 -1 -2 -1 -2 -2  2 -3  0  0 -1 -4 \n",
    "I -1 -3 -3 -3 -1 -3 -3 -4 -3  4  2 -3  1  0 -3 -2 -1 -3 -1  3 -3 -3 -1 -4 \n",
    "L -1 -2 -3 -4 -1 -2 -3 -4 -3  2  4 -2  2  0 -3 -2 -1 -2 -1  1 -4 -3 -1 -4 \n",
    "K -1  2  0 -1 -3  1  1 -2 -1 -3 -2  5 -1 -3 -1  0 -1 -3 -2 -2  0  1 -1 -4 \n",
    "M -1 -1 -2 -3 -1  0 -2 -3 -2  1  2 -1  5  0 -2 -1 -1 -1 -1  1 -3 -1 -1 -4 \n",
    "F -2 -3 -3 -3 -2 -3 -3 -3 -1  0  0 -3  0  6 -4 -2 -2  1  3 -1 -3 -3 -1 -4 \n",
    "P -1 -2 -2 -1 -3 -1 -1 -2 -2 -3 -3 -1 -2 -4  7 -1 -1 -4 -3 -2 -2 -1 -2 -4 \n",
    "S  1 -1  1  0 -1  0  0  0 -1 -2 -2  0 -1 -2 -1  4  1 -3 -2 -2  0  0  0 -4 \n",
    "T  0 -1  0 -1 -1 -1 -1 -2 -2 -1 -1 -1 -1 -2 -1  1  5 -2 -2  0 -1 -1  0 -4 \n",
    "W -3 -3 -4 -4 -2 -2 -3 -2 -2 -3 -2 -3 -1  1 -4 -3 -2 11  2 -3 -4 -3 -2 -4 \n",
    "Y -2 -2 -2 -3 -2 -1 -2 -3  2 -1 -1 -2 -1  3 -3 -2 -2  2  7 -1 -3 -2 -1 -4 \n",
    "V  0 -3 -3 -3 -1 -2 -2 -3 -3  3  1 -2  1 -1 -2 -2  0 -3 -1  4 -3 -2 -1 -4 \n",
    "B -2 -1  3  4 -3  0  1 -1  0 -3 -4  0 -3 -3 -2  0 -1 -4 -3 -3  4  1 -1 -4 \n",
    "Z -1  0  0  1 -3  3  4 -2  0 -3 -3  1 -1 -3 -1  0 -1 -3 -2 -2  1  4 -1 -4 \n",
    "X  0 -1 -1 -1 -2 -1 -1 -1 -1 -1 -1 -1 -1 -1 -2  0  0 -2 -1 -1 -1 -1 -1 -4 \n",
    "* -4 -4 -4 -4 -4 -4 -4 -4 -4 -4 -4 -4 -4 -4 -4 -4 -4 -4 -4 -4 -4 -4 -4  1 "
   ]
  },
  {
   "cell_type": "code",
   "execution_count": 2,
   "id": "2cc527b7",
   "metadata": {},
   "outputs": [],
   "source": [
    "# Initialisation de l'alphabet\n",
    "alphabet = ['A','T','G','C']\n",
    "\n",
    "#Initialisation des valeurs de match, mismatch et gap\n",
    "match = 1\n",
    "mismatch = -2\n",
    "gap = -1\n",
    "\n",
    "#s1 et s2 sont les deux séquences utilisés pour notre test\n",
    "s1 = \"CATGAC\"\n",
    "s2 = \"TCTGAAC\"\n"
   ]
  },
  {
   "cell_type": "code",
   "execution_count": 3,
   "id": "86b31fed",
   "metadata": {},
   "outputs": [],
   "source": [
    "def mat_dist(alphabet,match,mismatch):\n",
    "    \n",
    "    #Calcul de la longueur de l'alphabet\n",
    "    l_al = len(alphabet)\n",
    "    \n",
    "    #Création de la matrice de distance\n",
    "    mat = np.zeros((l_al,l_al))\n",
    "    \n",
    "    #Parcours sur deux dimensions\n",
    "    for i in range(l_al):\n",
    "        for j in range(l_al):\n",
    "            #Attribution des valeurs de match et mismatch\n",
    "            if(i==j):\n",
    "                mat[i][j] = match\n",
    "            else:\n",
    "                mat[i][j]= mismatch\n",
    "    return mat"
   ]
  },
  {
   "cell_type": "code",
   "execution_count": 4,
   "id": "ec31050f",
   "metadata": {},
   "outputs": [
    {
     "name": "stdout",
     "output_type": "stream",
     "text": [
      "[[ 1. -2. -2. -2.]\n",
      " [-2.  1. -2. -2.]\n",
      " [-2. -2.  1. -2.]\n",
      " [-2. -2. -2.  1.]]\n"
     ]
    }
   ],
   "source": [
    "#Calcul de matrice de distance pour atgc\n",
    "mat = mat_dist(alphabet,match,mismatch)\n",
    "print(mat)"
   ]
  },
  {
   "cell_type": "code",
   "execution_count": 5,
   "id": "d654bb4a",
   "metadata": {},
   "outputs": [
    {
     "name": "stdout",
     "output_type": "stream",
     "text": [
      "[[ 0. -1. -2. -3. -4. -5. -6. -7.]\n",
      " [-1. -2.  0. -1. -2. -3. -4. -5.]\n",
      " [-2. -3. -1. -2. -3. -1. -2. -3.]\n",
      " [-3. -1. -2.  0. -1. -2. -3. -4.]\n",
      " [-4. -2. -3. -1.  1.  0. -1. -2.]\n",
      " [-5. -3. -4. -2.  0.  2.  1.  0.]\n",
      " [-6. -4. -2. -3. -1.  1.  0.  2.]]\n"
     ]
    }
   ],
   "source": [
    "\n",
    "# Calcul de matrice de score sans le traceback\n",
    "def matscorewotb(s1,s2):\n",
    "    \n",
    "    #Initialisation de la matrice de score\n",
    "    ms = np.zeros((len(s1)+1,len(s2)+1))\n",
    "    \n",
    "    #Récupération des longueurs pour l'itération\n",
    "    x,y = ms.shape\n",
    "    for i in range(1,y):\n",
    "        ms[0][i] =i*gap\n",
    "    for j in range(1,x):\n",
    "        ms[j][0] =j*gap\n",
    "    \n",
    "    for i in range(1,x):\n",
    "        for j in range(1,y):\n",
    "            sig = 0\n",
    "            if s1[i-1]==s2[j-1]:\n",
    "                sig = match\n",
    "            else :\n",
    "                sig = mismatch\n",
    "            \n",
    "            v_diag = ms[i-1,j-1]+sig\n",
    "            v_up = ms[i-1,j]+gap\n",
    "            v_left = ms[i,j-1]+gap\n",
    "            \n",
    "            ms[i,j] = max([v_diag,v_up,v_left])\n",
    "    return ms\n",
    "\n",
    "print(matscorewotb(s1,s2))\n"
   ]
  },
  {
   "cell_type": "code",
   "execution_count": 6,
   "id": "3bc6e00a",
   "metadata": {},
   "outputs": [
    {
     "name": "stdout",
     "output_type": "stream",
     "text": [
      "_CATG_AC\n",
      "TC_TGAAC\n",
      "2\n"
     ]
    }
   ],
   "source": [
    "# Calcul de matrice de score avec le traceback\n",
    "def nw(s1,s2):\n",
    "    \n",
    "    #Initialisation de la matrice de score\n",
    "    ms = np.zeros((len(s2)+1,len(s1)+1))\n",
    "    Dir=[]\n",
    "    #Récupération des longueurs pour l'itération\n",
    "    x,y = ms.shape\n",
    "    for i in range(len(s2)+1):\n",
    "        L=[]\n",
    "        for j in range(len(s1)+1):\n",
    "            L.append([])\n",
    "        Dir.append(L)\n",
    "    for i in range(1,x):\n",
    "        ms[i][0] =-i\n",
    "        Dir[i][0]=[1]\n",
    "    for j in range(1,y):\n",
    "        ms[0][j] =-j\n",
    "        Dir[0][j]=[2]\n",
    "    for i in range(1,x):\n",
    "        for j in range(1,y):\n",
    "            sig = 0\n",
    "            if s2[i-1]==s1[j-1]:\n",
    "                sig = match\n",
    "            else :\n",
    "                sig = mismatch\n",
    "            #Traceback\n",
    "            S=np.array([ms[i-1,j-1]+sig, ms[i-1,j]+gap, ms[i,j-1]+gap])\n",
    "            ms[i,j]=max(S)\n",
    "            index=list(np.where(S==max(S))[0])\n",
    "            Dir[i][j]=index\n",
    "    #En diagonale on remonte de la longueur de la séquence en ligne\n",
    "    #En haut on remonte de diag -1\n",
    "    #A gauche c'est évident\n",
    "    sc1 = \"\"\n",
    "    sc2 = \"\" \n",
    "    tbval = 0\n",
    "    i,j=len(Dir)-1,len(Dir[i])-1\n",
    "    while Dir[i][j]!=[]:\n",
    "        if 0 in Dir[i][j]:\n",
    "            i-=1\n",
    "            j-=1                                 #on va vers cette cellule quand on a une diagonale (dans notre Traceback du moins)\n",
    "            sc1+=s1[j]\n",
    "            sc2+=s2[i]\n",
    "        elif 1 in Dir[i][j]:\n",
    "            sc1+='_'\n",
    "            i-=1                                 #on va vers cette cellule quand on monte\n",
    "            sc2+=s2[i]\n",
    "        else:\n",
    "            sc2+='_'\n",
    "            j-=1                                 #évident\n",
    "            sc1+=s1[j]                  \n",
    "    sc1=sc1[::-1]\n",
    "    sc2=sc2[::-1]\n",
    "    for c1 in range(len(sc1)):\n",
    "            if sc1[c1] == sc2[c1]:\n",
    "                tbval += match\n",
    "            else :\n",
    "                if (sc1[c1]=='_' or sc2[c1] == '_'):\n",
    "                    tbval += gap\n",
    "                else:\n",
    "                    tbval +=mismatch\n",
    "    return sc1,sc2,tbval,Dir\n",
    "\n",
    "\n",
    "sc1,sc2,tbval,Dir = nw(s1,s2)\n",
    "print(sc1)\n",
    "print(sc2)\n",
    "print(tbval)"
   ]
  },
  {
   "cell_type": "markdown",
   "id": "dddbe5b6",
   "metadata": {},
   "source": [
    "## Part 2 : Petit exemple"
   ]
  },
  {
   "cell_type": "code",
   "execution_count": null,
   "id": "da2070a8",
   "metadata": {},
   "outputs": [],
   "source": []
  }
 ],
 "metadata": {
  "kernelspec": {
   "display_name": "Python 3 (ipykernel)",
   "language": "python",
   "name": "python3"
  },
  "language_info": {
   "codemirror_mode": {
    "name": "ipython",
    "version": 3
   },
   "file_extension": ".py",
   "mimetype": "text/x-python",
   "name": "python",
   "nbconvert_exporter": "python",
   "pygments_lexer": "ipython3",
   "version": "3.10.7"
  },
  "vscode": {
   "interpreter": {
    "hash": "8e34c564ff11baf284cb400e7f3e3bd149ac1aa1e2a9dc39b311358bd09fe12d"
   }
  }
 },
 "nbformat": 4,
 "nbformat_minor": 5
}
