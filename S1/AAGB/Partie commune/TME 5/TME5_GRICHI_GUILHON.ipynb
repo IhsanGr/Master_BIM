{
 "cells": [
  {
   "cell_type": "markdown",
   "metadata": {},
   "source": [
    "# TME 5 : AAGB "
   ]
  },
  {
   "cell_type": "code",
   "execution_count": 1,
   "metadata": {},
   "outputs": [],
   "source": [
    "import numpy as np\n",
    "import matplotlib.pyplot as plt\n",
    "import itertools as it\n",
    "import time"
   ]
  },
  {
   "cell_type": "markdown",
   "metadata": {},
   "source": [
    "## 1. Introduction"
   ]
  },
  {
   "cell_type": "code",
   "execution_count": 2,
   "metadata": {},
   "outputs": [],
   "source": [
    "all_dict = [{}, {}, {}]\n",
    "for dico in range(3):\n",
    "    with open('reseau'+ str(dico+1) + '.txt', 'r') as f:\n",
    "        for line in f:\n",
    "            source, point = line.split(',')\n",
    "            point = int(point.rstrip('\\n'))\n",
    "            all_dict[dico][source] = all_dict[dico].get(source, []) + [int(point)]\n"
   ]
  },
  {
   "cell_type": "markdown",
   "metadata": {},
   "source": [
    "## 2. Contexte biologique "
   ]
  },
  {
   "cell_type": "markdown",
   "metadata": {},
   "source": [
    "## 3. Degree Distribution "
   ]
  },
  {
   "cell_type": "markdown",
   "metadata": {},
   "source": [
    "#### Question 1)"
   ]
  },
  {
   "cell_type": "markdown",
   "metadata": {},
   "source": [
    "Soit G(V,E) un graph avec V l'ensemble des noeuds\n",
    "                          E l'ensemble des arêtes\n",
    "                          \n",
    "On dit que G est dirigé si les arcs/arêtes ont une direction.\n",
    "Le degré d'un noeud v (deg(v)) est le nombre de connexions de ce noeuds à d'autres noeuds."
   ]
  },
  {
   "cell_type": "markdown",
   "metadata": {},
   "source": [
    "#### Question 2) "
   ]
  },
  {
   "cell_type": "markdown",
   "metadata": {},
   "source": [
    "Étudier la distribution des degrés d'un graph est :\n",
    "\n",
    "-> scale free : distribution suit une loi de puissance \n",
    "P(k) = k^-alpha avec (2 < alpha < 3)\n",
    "\n",
    "-> aléatoire : P(k) = (k parmi n-1) * p^k * q^n-1-k où n est le nombre de noeuds du graphe."
   ]
  },
  {
   "cell_type": "markdown",
   "metadata": {},
   "source": [
    "##### Question 3) "
   ]
  },
  {
   "cell_type": "code",
   "execution_count": 3,
   "metadata": {
    "scrolled": false
   },
   "outputs": [
    {
     "data": {
      "text/plain": [
       "<BarContainer object of 12 artists>"
      ]
     },
     "execution_count": 3,
     "metadata": {},
     "output_type": "execute_result"
    },
    {
     "data": {
      "image/png": "[encoded data removed]",
      "text/plain": [
       "<Figure size 432x288 with 1 Axes>"
      ]
     },
     "metadata": {
      "needs_background": "light"
     },
     "output_type": "display_data"
    },
    {
     "data": {
      "image/png": "[encoded data removed]",
      "text/plain": [
       "<Figure size 432x288 with 1 Axes>"
      ]
     },
     "metadata": {
      "needs_background": "light"
     },
     "output_type": "display_data"
    },
    {
     "data": {
      "image/png": "[encoded data removed]",
      "text/plain": [
       "<Figure size 432x288 with 1 Axes>"
      ]
     },
     "metadata": {
      "needs_background": "light"
     },
     "output_type": "display_data"
    }
   ],
   "source": [
    "lengths = []\n",
    "for i in range(2):\n",
    "    length_i = np.zeros(len(all_dict[i]), dtype= int)\n",
    "    for j in range(len(length_i)):\n",
    "        length_i[j] = len(all_dict[i].get(str(j),[]))\n",
    "    lengths.append(length_i)\n",
    "    plt.figure()\n",
    "    plt.bar(np.arange(0,len(np.bincount(length_i))),np.bincount(length_i))\n",
    "\n",
    "\n",
    "length_i = np.zeros(len(all_dict[2]), dtype=int)\n",
    "for j,key in enumerate(all_dict[2]):\n",
    "    length_i[j] = len(all_dict[2].get(key,[]))\n",
    "lengths.append(length_i)\n",
    "plt.figure()\n",
    "plt.bar(np.arange(0,len(np.bincount(length_i))),np.bincount(length_i))"
   ]
  },
  {
   "cell_type": "markdown",
   "metadata": {},
   "source": [
    "##### Question 4)"
   ]
  },
  {
   "cell_type": "markdown",
   "metadata": {},
   "source": [
    "Un réseau scale-free est un réseau dont la distribution des degrés des noeuds suit une loi de puissance, c'est le cas dans le premier réseau.\n",
    "L'autre est aléatoire car il sa distribution de degrés suit une loi binomiale."
   ]
  },
  {
   "cell_type": "markdown",
   "metadata": {},
   "source": [
    "## 4. Clustering coefficient "
   ]
  },
  {
   "cell_type": "markdown",
   "metadata": {},
   "source": [
    "###### Définition :"
   ]
  },
  {
   "cell_type": "markdown",
   "metadata": {},
   "source": [
    "On souhaite calculer le coefficient de clustering, pour cela on note :  \n",
    "    -v le noeud  \n",
    "    -kv son degré  \n",
    "    -Nv le nombre de connexions entre ses voisins\n",
    "    \n",
    "Ainsi la formule du coefficient de clustering local est :\n",
    "    \n",
    "    cc(v) = 2 x Nv/(kv x (kv-1))"
   ]
  },
  {
   "cell_type": "markdown",
   "metadata": {},
   "source": [
    "###### Question 1)"
   ]
  },
  {
   "cell_type": "markdown",
   "metadata": {},
   "source": [
    "Pour cc(A),  \n",
    "kA = 10  \n",
    "NA = 0  \n",
    "Donc cc(A) = 2x0/(10x9) = 0  \n",
    "  \n",
    "Pour cc(B),  \n",
    "kB = 10  \n",
    "NB = 4  \n",
    "Donc cc(B) = 2x4/(10x9) = 4/45  \n",
    "  \n",
    "Pour cc(C),  \n",
    "kC = 10  \n",
    "NC = 2  \n",
    "Donc cc(C) = 2x2/(10x9) = 2/45  \n",
    "  \n",
    "Pour cc(D),  \n",
    "kD = 3  \n",
    "ND = 1  \n",
    "Donc cc(D) = 2x1/(3x2) = 1/3  \n",
    "  \n",
    "Pour cc(E),  \n",
    "kE = 10  \n",
    "NE = 6  \n",
    "Donc cc(E) = 2x6/(10x9) = 2/15"
   ]
  },
  {
   "cell_type": "code",
   "execution_count": 4,
   "metadata": {},
   "outputs": [
    {
     "name": "stdout",
     "output_type": "stream",
     "text": [
      "Réseau n° 1 0.01336050682215795\n",
      "Réseau n° 2 0.12117462819917715\n",
      "Réseau n° 3 0.13876262626262625\n"
     ]
    }
   ],
   "source": [
    "def mean_CC(dico):\n",
    "    \"\"\"\n",
    "    Fonction calculant la moyenne des coefficients de clustering d'un réseau donné\n",
    "    \"\"\"\n",
    "    S = 0 # initialisation de la somme des coefficients de clustering\n",
    "    \n",
    "    # Pour chaque sommet du réseau, on regarde les sommets connectés à celui-ci :\n",
    "    # Si ceux si sont connectés à d'autres sommets apartenant aux connexions du noeud origine (node)\n",
    "    # alors on incrémente de 1 le score ENv (ie E(N(v)) le nombre de triangles passant par le noeud v)\n",
    "    for node in dico.keys():\n",
    "        degree = len(dico[node])\n",
    "        ENv = 0\n",
    "        for i in dico[node]:\n",
    "            i = str(i)\n",
    "            if i in dico:\n",
    "                for key in dico[i]:\n",
    "                    if key in dico[node]:\n",
    "                        ENv+=1\n",
    "            # Si le degré du noeud (ie le nombre de sommets connectés à celui-ci) est inférieur à deux\n",
    "            # (ie égal à 1 c'est à dire un sommet isolé) alors son coefficient est nul sinon il vaut :\n",
    "            if degree>2:\n",
    "                S+= 2*ENv/(degree*(degree-1))\n",
    "    return S / len(dico)\n",
    "\n",
    "for k in range(len(all_dict)):\n",
    "    print('Réseau n°', k+1, mean_CC(all_dict[k]))"
   ]
  },
  {
   "cell_type": "markdown",
   "metadata": {},
   "source": [
    "On en déduit donc que le réseau 1, qui est scale free est très peu interconnecté tandis que les deux autres réseaux aléatoires sont eux bien plus connectés. Mais de manière générale les voisins d'un noeud sont rarement connectés (12-14% pour les réseaux aléatoires et 1.3% pour le réseau scale-free."
   ]
  },
  {
   "cell_type": "markdown",
   "metadata": {},
   "source": [
    "## 5. Betweenness centrality "
   ]
  },
  {
   "cell_type": "markdown",
   "metadata": {},
   "source": [
    "###### Question 1) "
   ]
  },
  {
   "cell_type": "markdown",
   "metadata": {},
   "source": [
    "Les noeuds qui servent de \"hub\" permettent de mettre en évidence le concept de betweenness centrality.  \n",
    "En effet une forte centralité intermédiaire pourrait indiquer que l'on passe souvent pas le noeud \"v\" qui sert de hub et qui donne accès à de nombreux autres noeuds.  \n",
    "  \n",
    "Un réseau contenant quelques noeuds avec une forte centralité est assez robuste car il comporte uniquement quelques hubs qui affectent d'autres noeuds plus isolés.  \n",
    "Ainsi, ajouter quelques noeuds ne changera rien à l'influence de ces dits hubs.  \n",
    "  \n",
    "On pourrait utiliser cette mesure afin de détecter des noeuds \"hubs\" ou \"leaders\" autour desquels peuvent s'organiser des groupes. Ces groupes sous influence pourraient donc être décemment considérés comme des communautés."
   ]
  },
  {
   "cell_type": "markdown",
   "metadata": {},
   "source": [
    "###### Question 2) "
   ]
  },
  {
   "cell_type": "code",
   "execution_count": 5,
   "metadata": {},
   "outputs": [],
   "source": [
    "def betweenness_centrality_s_t(dico, s, t, path):\n",
    "    # Tant qu'on a pas trouvé un plus court chemin on rajoute une colonne et on continue les chemins \n",
    "    # Critère d'arrêt : si un des derniers sommets est la cible t alors on a trouvé au minimum 1 plus petit chemin\n",
    "    while not (path[:,-1] == t ).any() == True :\n",
    "        # Sécurité d'arrêt : dans le cas où aucun chemin ne mène de s à t\n",
    "        if all(path[-1]==-1) == True:\n",
    "            break\n",
    "        cop_path = np.zeros(len(path[0])+1)-1 # on suppose que -1 n'est pas une clé et sera le critère de break\n",
    "        cop_path = np.expand_dims(cop_path, axis=0) # array d'une dimension que l'on doit étendre à 2 pour pouvoir  faire les calculs suivants\n",
    "        \n",
    "        # Pour chaque chemin en mémoire on part du dernier sommet pour aller dans toutes les cibles de ce sommet\n",
    "        for former_path in path:\n",
    "            last_node = str(int(former_path[-1]))\n",
    "            if last_node in dico:\n",
    "                for new_node in dico[ last_node ]:\n",
    "                    new_path = np.copy(former_path)\n",
    "                    new_path = np.append(new_path, [new_node])\n",
    "                    new_path = np.expand_dims(new_path, axis=0)\n",
    "                    cop_path = np.concatenate((cop_path, new_path), axis=0)\n",
    "                    del new_path\n",
    "        path = np.copy(cop_path)\n",
    "        del cop_path\n",
    "    # On prend tous les chemins qui mènent à la cible t\n",
    "    res = []\n",
    "    for part in path:\n",
    "        if part[-1] == t:\n",
    "            res.append(part)\n",
    "    del path\n",
    "    return np.array(res)\n",
    "        "
   ]
  },
  {
   "cell_type": "code",
   "execution_count": 5,
   "metadata": {},
   "outputs": [],
   "source": [
    "def betweenness_centrality_s_t(dico, s, t, path):\n",
    "    # Tant qu'on a pas trouvé un plus court chemin on rajoute une colonne et on continue les chemins \n",
    "    # Critère d'arrêt : si un des derniers sommets est la cible t alors on a trouvé au minimum 1 plus petit chemin\n",
    "    while not (path[:,-1] == t ).any() == True :\n",
    "        # Sécurité d'arrêt : dans le cas où aucun chemin ne mène de s à t\n",
    "        if all(path[-1]==-1) == True:\n",
    "            break\n",
    "        cop_path = np.zeros(len(path[0])+1)-1 # on suppose que -1 n'est pas une clé et sera le critère de break\n",
    "        cop_path = np.expand_dims(cop_path, axis=0) # array d'une dimension que l'on doit étendre à 2 pour pouvoir  faire les calculs suivants\n",
    "   \n",
    "        # Pour chaque chemin en mémoire on part du dernier sommet pour aller dans toutes les cibles de ce sommet\n",
    "        for former_path in path:\n",
    "            last_node = str(int(former_path[-1]))\n",
    "            if last_node in dico:\n",
    "                for new_node in dico[ last_node ]:\n",
    "                    new_path = np.copy(former_path)\n",
    "                    new_path = np.append(new_path, [new_node])\n",
    "                    new_path = np.expand_dims(new_path, axis=0)\n",
    "                    cop_path = np.concatenate((cop_path, new_path), axis=0)\n",
    "                    del new_path\n",
    "        path = np.copy(cop_path)\n",
    "        del cop_path\n",
    "    # On prend tous les chemins qui mènent à la cible t\n",
    "    return path[ np.where(path[:,-1]==t)[0] ] \n",
    "        "
   ]
  },
  {
   "cell_type": "code",
   "execution_count": 6,
   "metadata": {},
   "outputs": [
    {
     "name": "stdout",
     "output_type": "stream",
     "text": [
      "[[0]]\n",
      "[0]\n",
      "0\n",
      "False\n",
      "True\n",
      "[[  0.  17. 973.]\n",
      " [  0. 491. 973.]]\n",
      "2\n"
     ]
    }
   ],
   "source": [
    "#print(all_dict[0])\n",
    "depart = 0\n",
    "arrivee= 973\n",
    "init = np.array([[depart]])\n",
    "res = betweenness_centrality_s_t(all_dict[0] , depart, arrivee, init)\n",
    "print(res)\n",
    "print(len(res))"
   ]
  },
  {
   "cell_type": "code",
   "execution_count": 23,
   "metadata": {},
   "outputs": [
    {
     "name": "stderr",
     "output_type": "stream",
     "text": [
      "C:\\Users\\HENRI\\AppData\\Local\\Temp/ipykernel_18472/2102346756.py:9: DeprecationWarning: The truth value of an empty array is ambiguous. Returning False, but in future this will result in an error. Use `array.size > 0` to check that an array is not empty.\n",
      "  if chemins != []:\n",
      "C:\\Users\\HENRI\\AppData\\Local\\Temp/ipykernel_18472/2102346756.py:9: DeprecationWarning: elementwise comparison failed; this will raise an error in the future.\n",
      "  if chemins != []:\n"
     ]
    },
    {
     "name": "stdout",
     "output_type": "stream",
     "text": [
      "{4: 1362, 5: 1059, 7: 512, 3: 541, 15: 535, 13: 696, 8: 321, 12: 270, 16: 507, 26: 420, 18: 41, 25: 112, 32: 147, 6: 348, 29: 192, 34: 597, 10: 484, 41: 416, 9: 381, 50: 356, 49: 136, 65: 182, 56: 1298, 43: 170, 14: 321, 57: 288, 39: 364, 19: 335, 45: 795, 47: 298, 40: 186, 21: 102, 66: 534, 76: 35, 60: 38, 64: 36, 63: 78, 44: 633, 37: 499, 55: 180, 94: 135, 71: 731, 97: 298, 75: 176, 24: 169, 17: 60, 22: 66, 105: 134, 69: 163, 87: 411, 109: 37, 134: 214, 127: 28, 36: 394, 147: 136, 96: 280, 90: 81, 78: 171, 124: 322, 62: 46, 27: 220, 146: 299, 111: 249, 107: 148, 88: 98, 100: 204, 48: 57, 38: 553, 113: 710, 168: 166, 131: 98, 46: 47, 93: 154, 172: 116, 176: 216, 23: 22, 83: 171, 137: 119, 59: 253, 99: 249, 136: 13, 188: 50, 140: 58, 67: 149, 200: 148, 85: 582, 126: 173, 52: 151, 77: 175, 108: 67, 158: 84, 161: 186, 118: 41, 31: 109, 106: 40, 217: 125, 33: 627, 120: 46, 174: 168, 154: 45, 205: 50, 145: 59, 209: 102, 170: 310, 184: 51, 28: 20, 206: 396, 159: 41, 202: 60, 198: 33, 129: 156, 215: 112, 73: 42, 247: 35, 175: 86, 180: 91, 235: 136, 116: 77, 151: 78, 160: 237, 150: 29, 197: 24, 275: 10, 72: 139, 280: 69, 135: 156, 20: 67, 207: 85, 185: 105, 84: 179, 143: 66, 255: 25, 182: 65, 218: 10, 171: 48, 310: 48, 288: 68, 301: 204, 302: 111, 295: 70, 42: 143, 152: 11, 257: 74, 322: 58, 142: 39, 110: 7, 236: 41, 347: 91, 292: 146, 144: 675, 313: 92, 132: 591, 166: 70, 365: 19, 284: 110, 378: 136, 361: 33, 224: 108, 349: 67, 157: 168, 348: 41, 165: 82, 327: 52, 372: 300, 346: 23, 121: 65, 80: 22, 369: 21, 250: 57, 101: 29, 58: 47, 216: 34, 394: 51, 92: 64, 98: 122, 443: 105, 340: 55, 54: 52, 253: 45, 436: 98, 403: 152, 429: 48, 156: 198, 119: 58, 273: 106, 123: 16, 265: 24, 289: 71, 459: 24, 484: 12, 256: 108, 222: 47, 419: 52, 11: 41, 30: 227, 79: 771, 316: 35, 362: 28, 463: 10, 223: 79, 138: 28, 399: 25, 440: 46, 404: 119, 245: 21, 373: 24, 491: 75, 220: 20, 516: 32, 51: 125, 525: 24, 139: 17, 391: 85, 162: 71, 422: 22, 363: 17, 441: 27, 163: 36, 337: 33, 386: 58, 344: 22, 424: 34, 444: 24, 475: 90, 425: 31, 178: 65, 343: 24, 300: 60, 521: 33, 492: 40, 439: 20, 532: 75, 473: 29, 558: 28, 552: 24, 506: 22, 281: 325, 232: 67, 570: 48, 259: 46, 307: 85, 381: 30, 593: 60, 412: 26, 190: 6, 246: 47, 434: 16, 357: 63, 395: 31, 374: 80, 497: 21, 35: 523, 68: 724, 74: 93, 104: 62, 95: 48, 102: 64, 122: 71, 183: 78, 103: 817, 193: 140, 114: 98, 167: 268, 254: 18, 130: 54, 264: 215, 148: 25, 219: 412, 212: 189, 141: 18, 293: 357, 153: 101, 305: 18, 315: 116, 237: 72, 332: 42, 155: 95, 371: 16, 266: 128, 149: 102, 278: 145, 201: 60, 177: 129, 189: 32, 396: 167, 82: 45, 329: 33, 299: 108, 230: 56, 345: 54, 115: 59, 86: 15, 186: 76, 415: 21, 70: 40, 446: 45, 455: 64, 472: 63, 416: 28, 437: 115, 320: 109, 294: 31, 380: 31, 432: 187, 495: 22, 427: 7, 213: 101, 227: 18, 308: 36, 282: 32, 240: 102, 312: 14, 577: 54, 228: 31, 297: 11, 376: 11, 433: 18, 229: 32, 483: 24, 242: 188, 204: 75, 267: 117, 252: 36, 317: 286, 194: 150, 196: 219, 269: 59, 406: 35, 276: 40, 89: 115, 423: 20, 243: 75, 187: 23, 241: 97, 225: 21, 477: 87, 476: 32, 390: 46, 81: 22, 173: 20, 283: 126, 522: 78, 402: 77, 505: 14, 331: 91, 559: 82, 306: 22, 350: 245, 319: 16, 388: 95, 466: 32, 309: 139, 499: 32, 461: 25, 125: 9, 290: 36, 285: 65, 407: 53, 542: 29, 210: 37, 279: 40, 339: 83, 318: 325, 287: 69, 179: 57, 296: 18, 238: 93, 352: 51, 208: 109, 164: 239, 248: 52, 271: 35, 370: 87, 298: 31, 464: 33, 410: 11, 291: 12, 482: 47, 262: 186, 387: 55, 244: 20, 211: 11}\n",
      "Execution time: 722.1407980918884 seconds\n"
     ]
    }
   ],
   "source": [
    "st = time.time()\n",
    "tools = it.combinations(range(len(all_dict[0])), 2)\n",
    "all_nodes = {}\n",
    "all_path = 0\n",
    "# On initialise le nombre total de chemins et le nombre total de fois où l'on passe par un sommet qui n'est pas source ni cible\n",
    "for tool in tools:\n",
    "    s, t = tool\n",
    "    init = np.array([[s]])\n",
    "    chemins = betweenness_centrality_s_t(all_dict[0] , s, t, init)\n",
    "    # Si un chemin existe, alots path n'est pas vide\n",
    "    if chemins.size > 0:\n",
    "        all_path += len(chemins)\n",
    "    # On prend chacun de ces chemins et l'on incremente de 1 les compteurs de chaque sommet intermédiaire \n",
    "    for sole_path in chemins:\n",
    "        for node_v in sole_path[1:-1]:\n",
    "            node_v = int(node_v)\n",
    "            all_nodes[node_v] = all_nodes.get(node_v, 0) + 1\n",
    "print(all_nodes)\n",
    "for key in all_nodes:\n",
    "    all_nodes[key] /= all_path\n",
    "print('Execution time:', time.time() - st, 'seconds')"
   ]
  },
  {
   "cell_type": "markdown",
   "metadata": {},
   "source": [
    "{4: 1362, 5: 1059, 7: 512, 3: 541, 15: 535, 13: 696, 8: 321, 12: 270, 16: 507, 26: 420, 18: 41, 25: 112, 32: 147, 6: 348, 29: 192, 34: 597, 10: 484, 41: 416, 9: 381, 50: 356, 49: 136, 65: 182, 56: 1298, 43: 170, 14: 321, 57: 288, 39: 364, 19: 335, 45: 795, 47: 298, 40: 186, 21: 102, 66: 534, 76: 35, 60: 38, 64: 36, 63: 78, 44: 633, 37: 499, 55: 180, 94: 135, 71: 731, 97: 298, 75: 176, 24: 169, 17: 60, 22: 66, 105: 134, 69: 163, 87: 411, 109: 37, 134: 214, 127: 28, 36: 394, 147: 136, 96: 280, 90: 81, 78: 171, 124: 322, 62: 46, 27: 220, 146: 299, 111: 249, 107: 148, 88: 98, 100: 204, 48: 57, 38: 553, 113: 710, 168: 166, 131: 98, 46: 47, 93: 154, 172: 116, 176: 216, 23: 22, 83: 171, 137: 119, 59: 253, 99: 249, 136: 13, 188: 50, 140: 58, 67: 149, 200: 148, 85: 582, 126: 173, 52: 151, 77: 175, 108: 67, 158: 84, 161: 186, 118: 41, 31: 109, 106: 40, 217: 125, 33: 627, 120: 46, 174: 168, 154: 45, 205: 50, 145: 59, 209: 102, 170: 310, 184: 51, 28: 20, 206: 396, 159: 41, 202: 60, 198: 33, 129: 156, 215: 112, 73: 42, 247: 35, 175: 86, 180: 91, 235: 136, 116: 77, 151: 78, 160: 237, 150: 29, 197: 24, 275: 10, 72: 139, 280: 69, 135: 156, 20: 67, 207: 85, 185: 105, 84: 179, 143: 66, 255: 25, 182: 65, 218: 10, 171: 48, 310: 48, 288: 68, 301: 204, 302: 111, 295: 70, 42: 143, 152: 11, 257: 74, 322: 58, 142: 39, 110: 7, 236: 41, 347: 91, 292: 146, 144: 675, 313: 92, 132: 591, 166: 70, 365: 19, 284: 110, 378: 136, 361: 33, 224: 108, 349: 67, 157: 168, 348: 41, 165: 82, 327: 52, 372: 300, 346: 23, 121: 65, 80: 22, 369: 21, 250: 57, 101: 29, 58: 47, 216: 34, 394: 51, 92: 64, 98: 122, 443: 105, 340: 55, 54: 52, 253: 45, 436: 98, 403: 152, 429: 48, 156: 198, 119: 58, 273: 106, 123: 16, 265: 24, 289: 71, 459: 24, 484: 12, 256: 108, 222: 47, 419: 52, 11: 41, 30: 227, 79: 771, 316: 35, 362: 28, 463: 10, 223: 79, 138: 28, 399: 25, 440: 46, 404: 119, 245: 21, 373: 24, 491: 75, 220: 20, 516: 32, 51: 125, 525: 24, 139: 17, 391: 85, 162: 71, 422: 22, 363: 17, 441: 27, 163: 36, 337: 33, 386: 58, 344: 22, 424: 34, 444: 24, 475: 90, 425: 31, 178: 65, 343: 24, 300: 60, 521: 33, 492: 40, 439: 20, 532: 75, 473: 29, 558: 28, 552: 24, 506: 22, 281: 325, 232: 67, 570: 48, 259: 46, 307: 85, 381: 30, 593: 60, 412: 26, 190: 6, 246: 47, 434: 16, 357: 63, 395: 31, 374: 80, 497: 21, 35: 523, 68: 724, 74: 93, 104: 62, 95: 48, 102: 64, 122: 71, 183: 78, 103: 817, 193: 140, 114: 98, 167: 268, 254: 18, 130: 54, 264: 215, 148: 25, 219: 412, 212: 189, 141: 18, 293: 357, 153: 101, 305: 18, 315: 116, 237: 72, 332: 42, 155: 95, 371: 16, 266: 128, 149: 102, 278: 145, 201: 60, 177: 129, 189: 32, 396: 167, 82: 45, 329: 33, 299: 108, 230: 56, 345: 54, 115: 59, 86: 15, 186: 76, 415: 21, 70: 40, 446: 45, 455: 64, 472: 63, 416: 28, 437: 115, 320: 109, 294: 31, 380: 31, 432: 187, 495: 22, 427: 7, 213: 101, 227: 18, 308: 36, 282: 32, 240: 102, 312: 14, 577: 54, 228: 31, 297: 11, 376: 11, 433: 18, 229: 32, 483: 24, 242: 188, 204: 75, 267: 117, 252: 36, 317: 286, 194: 150, 196: 219, 269: 59, 406: 35, 276: 40, 89: 115, 423: 20, 243: 75, 187: 23, 241: 97, 225: 21, 477: 87, 476: 32, 390: 46, 81: 22, 173: 20, 283: 126, 522: 78, 402: 77, 505: 14, 331: 91, 559: 82, 306: 22, 350: 245, 319: 16, 388: 95, 466: 32, 309: 139, 499: 32, 461: 25, 125: 9, 290: 36, 285: 65, 407: 53, 542: 29, 210: 37, 279: 40, 339: 83, 318: 325, 287: 69, 179: 57, 296: 18, 238: 93, 352: 51, 208: 109, 164: 239, 248: 52, 271: 35, 370: 87, 298: 31, 464: 33, 410: 11, 291: 12, 482: 47, 262: 186, 387: 55, 244: 20, 211: 11}"
   ]
  },
  {
   "cell_type": "markdown",
   "metadata": {},
   "source": [
    "{4: 0.05821259135786639, 5: 0.04526221310424414, 7: 0.021883147412061377, 3: 0.023122622558447666, 15: 0.02286617942471257, 13: 0.02974740351327093, 8: 0.013719707654827542, 12: 0.011539941018079241, 16: 0.021669444800615462, 26: 0.017951019361456596, 18: 0.0017523614138564773, 25: 0.004786938496388426, 32: 0.006282856776509809, 6: 0.014873701756635466, 29: 0.008206180279523016, 34: 0.025516091806641876, 10: 0.020686412787964268, 41: 0.01778005727229987, 9: 0.016284138992178485, 50: 0.015215625934948926, 49: 0.005812711031328803, 65: 0.007778775056631192, 56: 0.05547719793135872, 43: 0.007265888789161004, 14: 0.013719707654827542, 57: 0.012309270419284524, 39: 0.015557550113262384, 19: 0.014318074966876095, 45: 0.03397871521989999, 47: 0.012736675642176348, 40: 0.007949737145787922, 21: 0.004359533273496602, 66: 0.022823438902423387, 76: 0.001495918280121383, 60: 0.0016241398469889303, 64: 0.0015386588024105655, 63: 0.003333760738556225, 44: 0.027054750609052443, 37: 0.021327520622302004, 55: 0.007693294012052827, 94: 0.0057699705090396205, 71: 0.031243321793392315, 97: 0.012736675642176348, 75: 0.007522331922896097, 24: 0.007223148266871821, 17: 0.0025644313373509426, 22: 0.0028208744710860366, 105: 0.005727229986750438, 69: 0.006966705133136727, 87: 0.017566354660853954, 109: 0.0015813993246997478, 134: 0.009146471769885029, 127: 0.0011967346240971065, 36: 0.016839765781937854, 147: 0.005812711031328803, 96: 0.011967346240971065, 90: 0.0034619823054237724, 78: 0.007308629311450186, 124: 0.013762448177116724, 62: 0.001966064025302389, 27: 0.009402914903620122, 146: 0.01277941616446553, 111: 0.01064239005000641, 107: 0.006325597298798991, 88: 0.004188571184339873, 100: 0.008719066546993203, 48: 0.0024362097704833953, 38: 0.02363550882591785, 113: 0.030345770825319484, 168: 0.007094926700004274, 131: 0.004188571184339873, 46: 0.0020088045475915714, 93: 0.006582040432534086, 172: 0.004957900585545155, 176: 0.009231952814463392, 23: 0.0009402914903620122, 83: 0.007308629311450186, 137: 0.0050861221524127025, 59: 0.010813352139163141, 99: 0.01064239005000641, 136: 0.0005556267897593709, 188: 0.0021370261144591186, 140: 0.0024789502927725776, 67: 0.006368337821088174, 200: 0.006325597298798991, 85: 0.024874983972304143, 126: 0.007394110356028551, 52: 0.0064538188656665385, 77: 0.0074795914006069155, 108: 0.002863614993375219, 158: 0.0035902038722913196, 161: 0.007949737145787922, 118: 0.0017523614138564773, 31: 0.004658716929520879, 106: 0.001709620891567295, 217: 0.005342565286147797, 33: 0.02679830747531735, 120: 0.001966064025302389, 174: 0.007180407744582639, 154: 0.0019233235030132068, 205: 0.0021370261144591186, 145: 0.00252169081506176, 209: 0.004359533273496602, 170: 0.013249561909646535, 184: 0.002179766636748301, 28: 0.0008548104457836475, 206: 0.01692524682651622, 159: 0.0017523614138564773, 202: 0.0025644313373509426, 198: 0.0014104372355430183, 129: 0.00666752147711245, 215: 0.004786938496388426, 73: 0.0017951019361456598, 247: 0.001495918280121383, 175: 0.003675684916869684, 180: 0.003889387528315596, 235: 0.005812711031328803, 116: 0.003291020216267043, 151: 0.003333760738556225, 160: 0.010129503782536223, 150: 0.0012394751463862888, 197: 0.001025772534940377, 275: 0.00042740522289182376, 72: 0.0059409325981963496, 280: 0.002949096037953584, 135: 0.00666752147711245, 20: 0.002863614993375219, 207: 0.003632944394580502, 185: 0.004487754840364149, 84: 0.007650553489763645, 143: 0.0028208744710860366, 255: 0.0010685130572295593, 182: 0.0027781339487968544, 218: 0.00042740522289182376, 171: 0.002051545069880754, 310: 0.002051545069880754, 288: 0.0029063555156644016, 301: 0.008719066546993203, 302: 0.0047441979740992435, 295: 0.002991836560242766, 42: 0.0061118946873530795, 152: 0.0004701457451810061, 257: 0.0031627986493994956, 322: 0.0024789502927725776, 142: 0.0016668803692781126, 110: 0.00029918365602427663, 236: 0.0017523614138564773, 347: 0.003889387528315596, 292: 0.006240116254220627, 144: 0.0288498525451981, 313: 0.003932128050604778, 132: 0.02525964867290678, 166: 0.002991836560242766, 365: 0.0008120699234944652, 284: 0.004701457451810061, 378: 0.005812711031328803, 361: 0.0014104372355430183, 224: 0.004615976407231696, 349: 0.002863614993375219, 157: 0.007180407744582639, 348: 0.0017523614138564773, 165: 0.0035047228277129546, 327: 0.0022225071590374836, 372: 0.012822156686754712, 346: 0.0009830320126511945, 121: 0.0027781339487968544, 80: 0.0009402914903620122, 369: 0.0008975509680728299, 250: 0.0024362097704833953, 101: 0.0012394751463862888, 58: 0.0020088045475915714, 216: 0.0014531777578322008, 394: 0.002179766636748301, 92: 0.002735393426507672, 98: 0.00521434371928025, 443: 0.004487754840364149, 340: 0.0023507287259050304, 54: 0.0022225071590374836, 253: 0.0019233235030132068, 436: 0.004188571184339873, 403: 0.006496559387955721, 429: 0.002051545069880754, 156: 0.00846262341325811, 119: 0.0024789502927725776, 273: 0.004530495362653332, 123: 0.000683848356626918, 265: 0.001025772534940377, 289: 0.0030345770825319484, 459: 0.001025772534940377, 484: 0.0005128862674701885, 256: 0.004615976407231696, 222: 0.0020088045475915714, 419: 0.0022225071590374836, 11: 0.0017523614138564773, 30: 0.0097020985596444, 79: 0.03295294268495961, 316: 0.001495918280121383, 362: 0.0011967346240971065, 463: 0.00042740522289182376, 223: 0.0033765012608454074, 138: 0.0011967346240971065, 399: 0.0010685130572295593, 440: 0.001966064025302389, 404: 0.0050861221524127025, 245: 0.0008975509680728299, 373: 0.001025772534940377, 491: 0.003205539171688678, 220: 0.0008548104457836475, 516: 0.001367696713253836, 51: 0.005342565286147797, 525: 0.001025772534940377, 139: 0.0007265888789161004, 391: 0.003632944394580502, 162: 0.0030345770825319484, 422: 0.0009402914903620122, 363: 0.0007265888789161004, 441: 0.001153994101807924, 163: 0.0015386588024105655, 337: 0.0014104372355430183, 386: 0.0024789502927725776, 344: 0.0009402914903620122, 424: 0.0014531777578322008, 444: 0.001025772534940377, 475: 0.0038466470060264137, 425: 0.0013249561909646536, 178: 0.0027781339487968544, 343: 0.001025772534940377, 300: 0.0025644313373509426, 521: 0.0014104372355430183, 492: 0.001709620891567295, 439: 0.0008548104457836475, 532: 0.003205539171688678, 473: 0.0012394751463862888, 558: 0.0011967346240971065, 552: 0.001025772534940377, 506: 0.0009402914903620122, 281: 0.013890669743984271, 232: 0.002863614993375219, 570: 0.002051545069880754, 259: 0.001966064025302389, 307: 0.003632944394580502, 381: 0.0012822156686754713, 593: 0.0025644313373509426, 412: 0.0011112535795187418, 190: 0.00025644313373509426, 246: 0.0020088045475915714, 434: 0.000683848356626918, 357: 0.0026926529042184894, 395: 0.0013249561909646536, 374: 0.00341924178313459, 497: 0.0008975509680728299, 35: 0.022353293157242382, 68: 0.03094413813736804, 74: 0.003974868572893961, 104: 0.002649912381929307, 95: 0.002051545069880754, 102: 0.002735393426507672, 122: 0.0030345770825319484, 183: 0.003333760738556225, 103: 0.034919006710262, 193: 0.005983673120485532, 114: 0.004188571184339873, 167: 0.011454459973500876, 254: 0.0007693294012052828, 130: 0.002307988203615848, 264: 0.00918921229217421, 148: 0.0010685130572295593, 219: 0.017609095183143138, 212: 0.008077958712655469, 141: 0.0007693294012052828, 293: 0.015258366457238107, 153: 0.00431679275120742, 305: 0.0007693294012052828, 315: 0.004957900585545155, 237: 0.003077317604821131, 332: 0.0017951019361456598, 155: 0.004060349617472325, 371: 0.000683848356626918, 266: 0.005470786853015344, 149: 0.004359533273496602, 278: 0.006197375731931444, 201: 0.0025644313373509426, 177: 0.005513527375304526, 189: 0.001367696713253836, 396: 0.0071376672222934565, 82: 0.0019233235030132068, 329: 0.0014104372355430183, 299: 0.004615976407231696, 230: 0.002393469248194213, 345: 0.002307988203615848, 115: 0.00252169081506176, 86: 0.0006411078343377356, 186: 0.0032482796939778606, 415: 0.0008975509680728299, 70: 0.001709620891567295, 446: 0.0019233235030132068, 455: 0.002735393426507672, 472: 0.0026926529042184894, 416: 0.0011967346240971065, 437: 0.004915160063255973, 320: 0.004658716929520879, 294: 0.0013249561909646536, 380: 0.0013249561909646536, 432: 0.007992477668077104, 495: 0.0009402914903620122, 427: 0.00029918365602427663, 213: 0.00431679275120742, 227: 0.0007693294012052828, 308: 0.0015386588024105655, 282: 0.001367696713253836, 240: 0.004359533273496602, 312: 0.0005983673120485533, 577: 0.002307988203615848, 228: 0.0013249561909646536, 297: 0.0004701457451810061, 376: 0.0004701457451810061, 433: 0.0007693294012052828, 229: 0.001367696713253836, 483: 0.001025772534940377, 242: 0.008035218190366285, 204: 0.003205539171688678, 267: 0.005000641107834338, 252: 0.0015386588024105655, 317: 0.012223789374706159, 194: 0.006411078343377356, 196: 0.00936017438133094, 269: 0.00252169081506176, 406: 0.001495918280121383, 276: 0.001709620891567295, 89: 0.004915160063255973, 423: 0.0008548104457836475, 243: 0.003205539171688678, 187: 0.0009830320126511945, 241: 0.00414583066205069, 225: 0.0008975509680728299, 477: 0.0037184254391588664, 476: 0.001367696713253836, 390: 0.001966064025302389, 81: 0.0009402914903620122, 173: 0.0008548104457836475, 283: 0.005385305808436979, 522: 0.003333760738556225, 402: 0.003291020216267043, 505: 0.0005983673120485533, 331: 0.003889387528315596, 559: 0.0035047228277129546, 306: 0.0009402914903620122, 350: 0.010471427960849681, 319: 0.000683848356626918, 388: 0.004060349617472325, 466: 0.001367696713253836, 309: 0.0059409325981963496, 499: 0.001367696713253836, 461: 0.0010685130572295593, 125: 0.0003846647006026414, 290: 0.0015386588024105655, 285: 0.0027781339487968544, 407: 0.002265247681326666, 542: 0.0012394751463862888, 210: 0.0015813993246997478, 279: 0.001709620891567295, 339: 0.003547463350002137, 318: 0.013890669743984271, 287: 0.002949096037953584, 179: 0.0024362097704833953, 296: 0.0007693294012052828, 238: 0.003974868572893961, 352: 0.002179766636748301, 208: 0.004658716929520879, 164: 0.010214984827114587, 248: 0.0022225071590374836, 271: 0.001495918280121383, 370: 0.0037184254391588664, 298: 0.0013249561909646536, 464: 0.0014104372355430183, 410: 0.0004701457451810061, 291: 0.0005128862674701885, 482: 0.0020088045475915714, 262: 0.007949737145787922, 387: 0.0023507287259050304, 244: 0.0008548104457836475, 211: 0.0004701457451810061}"
   ]
  },
  {
   "cell_type": "markdown",
   "metadata": {},
   "source": [
    "Nombre de connexions : 23397"
   ]
  },
  {
   "cell_type": "code",
   "execution_count": 24,
   "metadata": {},
   "outputs": [
    {
     "name": "stdout",
     "output_type": "stream",
     "text": [
      "{4: 0.05821259135786639, 5: 0.04526221310424414, 7: 0.021883147412061377, 3: 0.023122622558447666, 15: 0.02286617942471257, 13: 0.02974740351327093, 8: 0.013719707654827542, 12: 0.011539941018079241, 16: 0.021669444800615462, 26: 0.017951019361456596, 18: 0.0017523614138564773, 25: 0.004786938496388426, 32: 0.006282856776509809, 6: 0.014873701756635466, 29: 0.008206180279523016, 34: 0.025516091806641876, 10: 0.020686412787964268, 41: 0.01778005727229987, 9: 0.016284138992178485, 50: 0.015215625934948926, 49: 0.005812711031328803, 65: 0.007778775056631192, 56: 0.05547719793135872, 43: 0.007265888789161004, 14: 0.013719707654827542, 57: 0.012309270419284524, 39: 0.015557550113262384, 19: 0.014318074966876095, 45: 0.03397871521989999, 47: 0.012736675642176348, 40: 0.007949737145787922, 21: 0.004359533273496602, 66: 0.022823438902423387, 76: 0.001495918280121383, 60: 0.0016241398469889303, 64: 0.0015386588024105655, 63: 0.003333760738556225, 44: 0.027054750609052443, 37: 0.021327520622302004, 55: 0.007693294012052827, 94: 0.0057699705090396205, 71: 0.031243321793392315, 97: 0.012736675642176348, 75: 0.007522331922896097, 24: 0.007223148266871821, 17: 0.0025644313373509426, 22: 0.0028208744710860366, 105: 0.005727229986750438, 69: 0.006966705133136727, 87: 0.017566354660853954, 109: 0.0015813993246997478, 134: 0.009146471769885029, 127: 0.0011967346240971065, 36: 0.016839765781937854, 147: 0.005812711031328803, 96: 0.011967346240971065, 90: 0.0034619823054237724, 78: 0.007308629311450186, 124: 0.013762448177116724, 62: 0.001966064025302389, 27: 0.009402914903620122, 146: 0.01277941616446553, 111: 0.01064239005000641, 107: 0.006325597298798991, 88: 0.004188571184339873, 100: 0.008719066546993203, 48: 0.0024362097704833953, 38: 0.02363550882591785, 113: 0.030345770825319484, 168: 0.007094926700004274, 131: 0.004188571184339873, 46: 0.0020088045475915714, 93: 0.006582040432534086, 172: 0.004957900585545155, 176: 0.009231952814463392, 23: 0.0009402914903620122, 83: 0.007308629311450186, 137: 0.0050861221524127025, 59: 0.010813352139163141, 99: 0.01064239005000641, 136: 0.0005556267897593709, 188: 0.0021370261144591186, 140: 0.0024789502927725776, 67: 0.006368337821088174, 200: 0.006325597298798991, 85: 0.024874983972304143, 126: 0.007394110356028551, 52: 0.0064538188656665385, 77: 0.0074795914006069155, 108: 0.002863614993375219, 158: 0.0035902038722913196, 161: 0.007949737145787922, 118: 0.0017523614138564773, 31: 0.004658716929520879, 106: 0.001709620891567295, 217: 0.005342565286147797, 33: 0.02679830747531735, 120: 0.001966064025302389, 174: 0.007180407744582639, 154: 0.0019233235030132068, 205: 0.0021370261144591186, 145: 0.00252169081506176, 209: 0.004359533273496602, 170: 0.013249561909646535, 184: 0.002179766636748301, 28: 0.0008548104457836475, 206: 0.01692524682651622, 159: 0.0017523614138564773, 202: 0.0025644313373509426, 198: 0.0014104372355430183, 129: 0.00666752147711245, 215: 0.004786938496388426, 73: 0.0017951019361456598, 247: 0.001495918280121383, 175: 0.003675684916869684, 180: 0.003889387528315596, 235: 0.005812711031328803, 116: 0.003291020216267043, 151: 0.003333760738556225, 160: 0.010129503782536223, 150: 0.0012394751463862888, 197: 0.001025772534940377, 275: 0.00042740522289182376, 72: 0.0059409325981963496, 280: 0.002949096037953584, 135: 0.00666752147711245, 20: 0.002863614993375219, 207: 0.003632944394580502, 185: 0.004487754840364149, 84: 0.007650553489763645, 143: 0.0028208744710860366, 255: 0.0010685130572295593, 182: 0.0027781339487968544, 218: 0.00042740522289182376, 171: 0.002051545069880754, 310: 0.002051545069880754, 288: 0.0029063555156644016, 301: 0.008719066546993203, 302: 0.0047441979740992435, 295: 0.002991836560242766, 42: 0.0061118946873530795, 152: 0.0004701457451810061, 257: 0.0031627986493994956, 322: 0.0024789502927725776, 142: 0.0016668803692781126, 110: 0.00029918365602427663, 236: 0.0017523614138564773, 347: 0.003889387528315596, 292: 0.006240116254220627, 144: 0.0288498525451981, 313: 0.003932128050604778, 132: 0.02525964867290678, 166: 0.002991836560242766, 365: 0.0008120699234944652, 284: 0.004701457451810061, 378: 0.005812711031328803, 361: 0.0014104372355430183, 224: 0.004615976407231696, 349: 0.002863614993375219, 157: 0.007180407744582639, 348: 0.0017523614138564773, 165: 0.0035047228277129546, 327: 0.0022225071590374836, 372: 0.012822156686754712, 346: 0.0009830320126511945, 121: 0.0027781339487968544, 80: 0.0009402914903620122, 369: 0.0008975509680728299, 250: 0.0024362097704833953, 101: 0.0012394751463862888, 58: 0.0020088045475915714, 216: 0.0014531777578322008, 394: 0.002179766636748301, 92: 0.002735393426507672, 98: 0.00521434371928025, 443: 0.004487754840364149, 340: 0.0023507287259050304, 54: 0.0022225071590374836, 253: 0.0019233235030132068, 436: 0.004188571184339873, 403: 0.006496559387955721, 429: 0.002051545069880754, 156: 0.00846262341325811, 119: 0.0024789502927725776, 273: 0.004530495362653332, 123: 0.000683848356626918, 265: 0.001025772534940377, 289: 0.0030345770825319484, 459: 0.001025772534940377, 484: 0.0005128862674701885, 256: 0.004615976407231696, 222: 0.0020088045475915714, 419: 0.0022225071590374836, 11: 0.0017523614138564773, 30: 0.0097020985596444, 79: 0.03295294268495961, 316: 0.001495918280121383, 362: 0.0011967346240971065, 463: 0.00042740522289182376, 223: 0.0033765012608454074, 138: 0.0011967346240971065, 399: 0.0010685130572295593, 440: 0.001966064025302389, 404: 0.0050861221524127025, 245: 0.0008975509680728299, 373: 0.001025772534940377, 491: 0.003205539171688678, 220: 0.0008548104457836475, 516: 0.001367696713253836, 51: 0.005342565286147797, 525: 0.001025772534940377, 139: 0.0007265888789161004, 391: 0.003632944394580502, 162: 0.0030345770825319484, 422: 0.0009402914903620122, 363: 0.0007265888789161004, 441: 0.001153994101807924, 163: 0.0015386588024105655, 337: 0.0014104372355430183, 386: 0.0024789502927725776, 344: 0.0009402914903620122, 424: 0.0014531777578322008, 444: 0.001025772534940377, 475: 0.0038466470060264137, 425: 0.0013249561909646536, 178: 0.0027781339487968544, 343: 0.001025772534940377, 300: 0.0025644313373509426, 521: 0.0014104372355430183, 492: 0.001709620891567295, 439: 0.0008548104457836475, 532: 0.003205539171688678, 473: 0.0012394751463862888, 558: 0.0011967346240971065, 552: 0.001025772534940377, 506: 0.0009402914903620122, 281: 0.013890669743984271, 232: 0.002863614993375219, 570: 0.002051545069880754, 259: 0.001966064025302389, 307: 0.003632944394580502, 381: 0.0012822156686754713, 593: 0.0025644313373509426, 412: 0.0011112535795187418, 190: 0.00025644313373509426, 246: 0.0020088045475915714, 434: 0.000683848356626918, 357: 0.0026926529042184894, 395: 0.0013249561909646536, 374: 0.00341924178313459, 497: 0.0008975509680728299, 35: 0.022353293157242382, 68: 0.03094413813736804, 74: 0.003974868572893961, 104: 0.002649912381929307, 95: 0.002051545069880754, 102: 0.002735393426507672, 122: 0.0030345770825319484, 183: 0.003333760738556225, 103: 0.034919006710262, 193: 0.005983673120485532, 114: 0.004188571184339873, 167: 0.011454459973500876, 254: 0.0007693294012052828, 130: 0.002307988203615848, 264: 0.00918921229217421, 148: 0.0010685130572295593, 219: 0.017609095183143138, 212: 0.008077958712655469, 141: 0.0007693294012052828, 293: 0.015258366457238107, 153: 0.00431679275120742, 305: 0.0007693294012052828, 315: 0.004957900585545155, 237: 0.003077317604821131, 332: 0.0017951019361456598, 155: 0.004060349617472325, 371: 0.000683848356626918, 266: 0.005470786853015344, 149: 0.004359533273496602, 278: 0.006197375731931444, 201: 0.0025644313373509426, 177: 0.005513527375304526, 189: 0.001367696713253836, 396: 0.0071376672222934565, 82: 0.0019233235030132068, 329: 0.0014104372355430183, 299: 0.004615976407231696, 230: 0.002393469248194213, 345: 0.002307988203615848, 115: 0.00252169081506176, 86: 0.0006411078343377356, 186: 0.0032482796939778606, 415: 0.0008975509680728299, 70: 0.001709620891567295, 446: 0.0019233235030132068, 455: 0.002735393426507672, 472: 0.0026926529042184894, 416: 0.0011967346240971065, 437: 0.004915160063255973, 320: 0.004658716929520879, 294: 0.0013249561909646536, 380: 0.0013249561909646536, 432: 0.007992477668077104, 495: 0.0009402914903620122, 427: 0.00029918365602427663, 213: 0.00431679275120742, 227: 0.0007693294012052828, 308: 0.0015386588024105655, 282: 0.001367696713253836, 240: 0.004359533273496602, 312: 0.0005983673120485533, 577: 0.002307988203615848, 228: 0.0013249561909646536, 297: 0.0004701457451810061, 376: 0.0004701457451810061, 433: 0.0007693294012052828, 229: 0.001367696713253836, 483: 0.001025772534940377, 242: 0.008035218190366285, 204: 0.003205539171688678, 267: 0.005000641107834338, 252: 0.0015386588024105655, 317: 0.012223789374706159, 194: 0.006411078343377356, 196: 0.00936017438133094, 269: 0.00252169081506176, 406: 0.001495918280121383, 276: 0.001709620891567295, 89: 0.004915160063255973, 423: 0.0008548104457836475, 243: 0.003205539171688678, 187: 0.0009830320126511945, 241: 0.00414583066205069, 225: 0.0008975509680728299, 477: 0.0037184254391588664, 476: 0.001367696713253836, 390: 0.001966064025302389, 81: 0.0009402914903620122, 173: 0.0008548104457836475, 283: 0.005385305808436979, 522: 0.003333760738556225, 402: 0.003291020216267043, 505: 0.0005983673120485533, 331: 0.003889387528315596, 559: 0.0035047228277129546, 306: 0.0009402914903620122, 350: 0.010471427960849681, 319: 0.000683848356626918, 388: 0.004060349617472325, 466: 0.001367696713253836, 309: 0.0059409325981963496, 499: 0.001367696713253836, 461: 0.0010685130572295593, 125: 0.0003846647006026414, 290: 0.0015386588024105655, 285: 0.0027781339487968544, 407: 0.002265247681326666, 542: 0.0012394751463862888, 210: 0.0015813993246997478, 279: 0.001709620891567295, 339: 0.003547463350002137, 318: 0.013890669743984271, 287: 0.002949096037953584, 179: 0.0024362097704833953, 296: 0.0007693294012052828, 238: 0.003974868572893961, 352: 0.002179766636748301, 208: 0.004658716929520879, 164: 0.010214984827114587, 248: 0.0022225071590374836, 271: 0.001495918280121383, 370: 0.0037184254391588664, 298: 0.0013249561909646536, 464: 0.0014104372355430183, 410: 0.0004701457451810061, 291: 0.0005128862674701885, 482: 0.0020088045475915714, 262: 0.007949737145787922, 387: 0.0023507287259050304, 244: 0.0008548104457836475, 211: 0.0004701457451810061}\n",
      "23397\n"
     ]
    }
   ],
   "source": [
    "print(all_nodes)\n",
    "print(all_path)"
   ]
  },
  {
   "cell_type": "code",
   "execution_count": 7,
   "metadata": {},
   "outputs": [
    {
     "ename": "KeyboardInterrupt",
     "evalue": "",
     "output_type": "error",
     "traceback": [
      "\u001b[1;31m---------------------------------------------------------------------------\u001b[0m",
      "\u001b[1;31mKeyboardInterrupt\u001b[0m                         Traceback (most recent call last)",
      "\u001b[1;32m~\\AppData\\Local\\Temp/ipykernel_18852/82463102.py\u001b[0m in \u001b[0;36m<module>\u001b[1;34m\u001b[0m\n\u001b[0;32m      6\u001b[0m     \u001b[0ms\u001b[0m\u001b[1;33m,\u001b[0m \u001b[0mt\u001b[0m \u001b[1;33m=\u001b[0m \u001b[0mtool\u001b[0m\u001b[1;33m\u001b[0m\u001b[1;33m\u001b[0m\u001b[0m\n\u001b[0;32m      7\u001b[0m     \u001b[0minit\u001b[0m \u001b[1;33m=\u001b[0m \u001b[0mnp\u001b[0m\u001b[1;33m.\u001b[0m\u001b[0marray\u001b[0m\u001b[1;33m(\u001b[0m\u001b[1;33m[\u001b[0m\u001b[1;33m[\u001b[0m\u001b[0ms\u001b[0m\u001b[1;33m]\u001b[0m\u001b[1;33m]\u001b[0m\u001b[1;33m)\u001b[0m\u001b[1;33m\u001b[0m\u001b[1;33m\u001b[0m\u001b[0m\n\u001b[1;32m----> 8\u001b[1;33m     \u001b[0mchemins\u001b[0m \u001b[1;33m=\u001b[0m \u001b[0mbetweenness_centrality_s_t\u001b[0m\u001b[1;33m(\u001b[0m\u001b[0mall_dict\u001b[0m\u001b[1;33m[\u001b[0m\u001b[1;36m1\u001b[0m\u001b[1;33m]\u001b[0m \u001b[1;33m,\u001b[0m \u001b[0ms\u001b[0m\u001b[1;33m,\u001b[0m \u001b[0mt\u001b[0m\u001b[1;33m,\u001b[0m \u001b[0minit\u001b[0m\u001b[1;33m)\u001b[0m\u001b[1;33m\u001b[0m\u001b[1;33m\u001b[0m\u001b[0m\n\u001b[0m\u001b[0;32m      9\u001b[0m     \u001b[1;32mif\u001b[0m \u001b[0mchemins\u001b[0m \u001b[1;33m!=\u001b[0m \u001b[1;33m[\u001b[0m\u001b[1;33m]\u001b[0m\u001b[1;33m:\u001b[0m\u001b[1;33m\u001b[0m\u001b[1;33m\u001b[0m\u001b[0m\n\u001b[0;32m     10\u001b[0m         \u001b[0mall_path\u001b[0m \u001b[1;33m+=\u001b[0m \u001b[1;36m1\u001b[0m\u001b[1;33m\u001b[0m\u001b[1;33m\u001b[0m\u001b[0m\n",
      "\u001b[1;32m~\\AppData\\Local\\Temp/ipykernel_18852/2791999856.py\u001b[0m in \u001b[0;36mbetweenness_centrality_s_t\u001b[1;34m(dico, s, t, path)\u001b[0m\n\u001b[0;32m     15\u001b[0m                     \u001b[0mnew_path\u001b[0m \u001b[1;33m=\u001b[0m \u001b[0mnp\u001b[0m\u001b[1;33m.\u001b[0m\u001b[0mappend\u001b[0m\u001b[1;33m(\u001b[0m\u001b[0mnew_path\u001b[0m\u001b[1;33m,\u001b[0m \u001b[1;33m[\u001b[0m\u001b[0mnew_node\u001b[0m\u001b[1;33m]\u001b[0m\u001b[1;33m)\u001b[0m\u001b[1;33m\u001b[0m\u001b[1;33m\u001b[0m\u001b[0m\n\u001b[0;32m     16\u001b[0m                     \u001b[0mnew_path\u001b[0m \u001b[1;33m=\u001b[0m \u001b[0mnp\u001b[0m\u001b[1;33m.\u001b[0m\u001b[0mexpand_dims\u001b[0m\u001b[1;33m(\u001b[0m\u001b[0mnew_path\u001b[0m\u001b[1;33m,\u001b[0m \u001b[0maxis\u001b[0m\u001b[1;33m=\u001b[0m\u001b[1;36m0\u001b[0m\u001b[1;33m)\u001b[0m\u001b[1;33m\u001b[0m\u001b[1;33m\u001b[0m\u001b[0m\n\u001b[1;32m---> 17\u001b[1;33m                     \u001b[0mcop_path\u001b[0m \u001b[1;33m=\u001b[0m \u001b[0mnp\u001b[0m\u001b[1;33m.\u001b[0m\u001b[0mconcatenate\u001b[0m\u001b[1;33m(\u001b[0m\u001b[1;33m(\u001b[0m\u001b[0mcop_path\u001b[0m\u001b[1;33m,\u001b[0m \u001b[0mnew_path\u001b[0m\u001b[1;33m)\u001b[0m\u001b[1;33m,\u001b[0m \u001b[0maxis\u001b[0m\u001b[1;33m=\u001b[0m\u001b[1;36m0\u001b[0m\u001b[1;33m)\u001b[0m\u001b[1;33m\u001b[0m\u001b[1;33m\u001b[0m\u001b[0m\n\u001b[0m\u001b[0;32m     18\u001b[0m                     \u001b[1;32mdel\u001b[0m \u001b[0mnew_path\u001b[0m\u001b[1;33m\u001b[0m\u001b[1;33m\u001b[0m\u001b[0m\n\u001b[0;32m     19\u001b[0m         \u001b[0mpath\u001b[0m \u001b[1;33m=\u001b[0m \u001b[0mnp\u001b[0m\u001b[1;33m.\u001b[0m\u001b[0mcopy\u001b[0m\u001b[1;33m(\u001b[0m\u001b[0mcop_path\u001b[0m\u001b[1;33m)\u001b[0m\u001b[1;33m\u001b[0m\u001b[1;33m\u001b[0m\u001b[0m\n",
      "\u001b[1;32m<__array_function__ internals>\u001b[0m in \u001b[0;36mconcatenate\u001b[1;34m(*args, **kwargs)\u001b[0m\n",
      "\u001b[1;31mKeyboardInterrupt\u001b[0m: "
     ]
    }
   ],
   "source": [
    "st = time.time()\n",
    "tools = it.combinations(range(len(all_dict[1])), 2)\n",
    "all_nodes = {}\n",
    "all_path = 0\n",
    "for tool in tools:\n",
    "    s, t = tool\n",
    "    init = np.array([[s]])\n",
    "    chemins = betweenness_centrality_s_t(all_dict[1] , s, t, init)\n",
    "    if chemins != []:\n",
    "        all_path += 1\n",
    "    for sole_path in chemins:\n",
    "        for node_v in sole_path[1:-1]:\n",
    "            node_v = int(node_v)\n",
    "            all_nodes[node_v] = all_nodes.get(node_v, 0) + 1\n",
    "    del chemins\n",
    "print(all_nodes)\n",
    "for key in all_nodes:\n",
    "    all_nodes[key] /= all_path\n",
    "print('Execution time:', time.time() - st, 'seconds')"
   ]
  },
  {
   "cell_type": "code",
   "execution_count": 7,
   "metadata": {},
   "outputs": [
    {
     "name": "stdout",
     "output_type": "stream",
     "text": [
      "{'0': [3, 4, 5, 7, 520, 13, 15, 17, 18, 21, 22, 23, 25, 540, 34, 41, 43, 558, 48, 8, 50, 565, 566, 55, 61, 62, 63, 576, 80, 593, 93, 94, 610, 109, 110, 118, 120, 639, 960, 131, 646, 658, 150, 151, 154, 159, 181, 694, 197, 202, 716, 214, 216, 224, 228, 127, 236, 763, 897, 268, 270, 286, 49, 818, 835, 842, 337, 347, 354, 361, 366, 369, 64, 391, 406, 409, 930, 419, 938, 429, 435, 448, 968, 470, 997, 491, 494, 508], '1': [3, 6, 9, 10, 11, 12, 13, 14, 528, 20, 21, 23, 24, 154, 29, 421, 38, 817, 938, 839, 746, 177, 562, 51, 52, 310, 137, 568, 313, 955, 62, 435, 139, 609, 328, 73, 74, 333, 78, 336, 849, 84, 216, 729, 349, 97, 251, 230, 232, 233, 234, 108, 109, 239, 113, 371, 190, 119, 123, 253, 255], '2': [3, 4, 6, 24, 659, 789, 152, 28, 31, 33, 297, 683, 45, 51, 181, 312, 187, 60, 190, 707, 710, 417, 841, 759, 334, 719, 82, 218, 681, 958, 758, 247], '3': [4, 5, 12, 399, 274, 275, 302, 159, 160, 546, 292, 421, 39, 40, 682, 46, 303, 688, 947, 54, 722, 953, 786, 59, 316, 61, 978, 835, 324, 389, 205, 338, 724, 341, 548, 96, 227, 236, 18, 500, 885, 246, 762, 892, 125], '4': [669, 5, 6, 7, 8, 9, 10, 290, 140, 354, 14, 15, 16, 17, 18, 148, 174, 222, 791, 26, 29, 32, 162, 547, 134, 39, 43, 556, 173, 46, 47, 48, 692, 181, 696, 820, 399, 735, 138, 704, 324, 829, 390, 200, 518, 587, 205, 207, 81, 340, 88, 335, 661, 94, 95, 864, 97, 98, 740, 165, 145, 109, 282, 984, 276, 250, 123, 126, 533], '5': [7, 8, 9, 10, 11, 12, 856, 20, 22, 23, 25, 28, 541, 40, 553, 556, 52, 53, 55, 57, 573, 63, 580, 581, 72, 585, 77, 592, 83, 85, 697, 602, 93, 784, 610, 100, 101, 105, 618, 786, 116, 118, 106, 129, 136, 141, 151, 158, 171, 185, 700, 195, 198, 717, 210, 733, 228, 747, 125, 757, 760, 253, 780, 783, 272, 274, 275, 648, 310, 316, 321, 839, 653, 336, 855, 344, 346, 355, 873, 363, 364, 365, 373, 381, 98, 917, 751, 412, 414, 436, 73, 459, 461, 986, 479, 490, 497, 511], '6': [134, 16, 275, 788, 942, 278, 668, 29, 289, 930, 35, 36, 37, 294, 41, 428, 174, 47, 178, 64, 577, 584, 201, 82, 852, 213, 609, 915], '7': [386, 11, 770, 14, 147, 276, 150, 27, 798, 287, 32, 795, 548, 421, 166, 39, 424, 425, 43, 176, 53, 918, 311, 803, 58, 579, 970, 76, 595, 339, 87, 223, 993, 996, 422, 102, 104, 233, 492, 111, 19, 244, 373, 532, 379, 124], '8': [385, 131, 140, 13, 782, 784, 728, 146, 663, 24, 158, 166, 583, 951, 441, 62, 69, 71, 78, 597, 983, 600, 738, 105, 758, 246], '9': [137, 266, 15, 148, 919, 26, 538, 929, 40, 305, 50, 51, 183, 954, 60, 446, 447, 195, 967, 972, 460, 77, 463, 505, 121, 347, 862, 998, 487, 119, 20, 508, 127], '10': [619, 392, 399, 146, 26, 155, 413, 32, 36, 38, 427, 688, 57, 991, 446, 64, 928, 66, 835, 325, 458, 75, 208, 594, 86, 90, 95, 994, 483, 103, 490, 359, 877, 366, 893, 240, 497, 756, 119, 874, 383], '11': [612, 872, 999, 142, 495, 916, 533, 346, 859, 734], '12': [34, 211, 65, 626, 578, 304, 112, 184, 50, 35, 478, 630, 88, 153, 504, 30], '13': [259, 516, 265, 524, 145, 19, 662, 25, 412, 218, 415, 674, 163, 36, 805, 422, 295, 552, 44, 434, 180, 521, 184, 57, 186, 63, 449, 197, 327, 72, 332, 76, 77, 206, 463, 465, 85, 90, 864, 485, 742, 17, 620, 110, 636], '14': [264, 21, 921, 545, 163, 169, 433, 52, 951, 202, 447, 962, 582, 329, 74, 587, 718, 591, 83, 212, 474, 605, 356, 229, 358, 108, 893, 626, 851, 500, 501, 122, 637], '15': [387, 135, 395, 16, 19, 34, 935, 42, 307, 944, 179, 439, 244, 59, 197, 210, 211, 84, 727, 92, 742, 617, 750, 372, 124, 509, 895], '16': [384, 918, 775, 524, 22, 154, 28, 30, 939, 44, 561, 308, 66, 967, 589, 350, 224, 245, 886], '17': [192, 891, 521, 973, 143, 580, 117, 260, 623], '18': [96, 505, 379, 31], '19': [352, 175, 484, 753, 265, 846, 79, 80, 337, 115, 117, 471, 600, 860, 543], '20': [320, 454, 680, 782, 304, 712, 869, 457, 553, 27, 816, 645], '21': [651, 581, 385, 427, 717, 142, 303, 440, 628, 182, 983, 88, 665, 506, 348], '22': [896, 771, 935, 493, 179, 121, 251, 220], '23': [900, 776, 529, 190, 415], '24': [99, 132, 453, 161, 458, 598, 590, 431, 114, 277, 54, 189, 671], '25': [257, 423, 682, 143, 49, 920, 601, 924, 31], '26': [259, 280, 27, 285, 670, 416, 33, 293, 47, 30, 826, 964, 76, 595, 980, 89, 860, 94, 101, 373, 248], '27': [321, 164, 293, 294, 362, 273, 269, 271, 81, 595, 664, 829, 979], '28': [243, 870], '29': [648, 35, 598, 871, 104, 297, 42, 107, 381, 49, 371, 374, 521, 761, 699, 155, 61], '30': [352, 496, 519, 360, 78, 531, 512, 410, 191], '31': [160, 225, 931, 331, 533], '32': [33, 834, 739, 69, 808, 777, 364, 687, 513, 505, 260, 975, 828], '33': [139, 525, 797, 425, 45, 306, 958, 192, 288, 838, 455, 73, 979, 740, 898, 484, 998, 230, 361, 111, 690], '34': [152, 284, 802, 37, 550, 45, 53, 66, 75, 207, 720, 468, 890, 480, 100, 362, 494, 634, 510], '35': [97, 226, 38, 296, 426, 715, 238, 125, 954, 58, 219, 92, 958, 383], '36': [65, 195, 37, 327, 456, 41, 876, 558, 943, 821, 117, 153, 59, 319], '37': [640, 832, 870, 103, 365, 208, 241, 514, 115, 934, 833, 379, 413, 126, 607], '38': [544, 939, 487, 779, 75, 760, 177, 116, 106, 56, 250, 122, 42, 629], '39': [546, 130, 165, 552, 393, 713, 107, 44, 162, 697, 79, 209, 367, 87, 345, 283, 499, 255], '40': [534, 705, 67, 70, 231, 712, 323, 469, 86, 217, 89, 634, 319, 166, 426, 350, 133], '41': [65, 70, 673, 137, 87, 748, 589, 46, 526, 55, 58, 410, 222], '42': [608, 322, 69, 351], '43': [288, 473, 806, 71, 906, 754, 526, 48, 690, 404, 151, 824, 185, 410, 283, 575], '44': [135, 142, 534, 408, 289, 802, 305, 323, 72, 81, 218, 737, 98, 103, 488, 234, 748, 112, 376], '45': [71, 79, 176, 564, 631], '46': [550, 359, 183, 632], '47': [907, 940, 942, 719, 120, 82, 54, 56, 825], '48': [397, 175, 530, 627, 820, 566, 376, 345, 922, 868], '49': [67, 948, 729, 404, 185, 635], '50': [133, 398, 655, 530, 927, 168, 56, 60, 702, 575, 321, 326, 84, 730, 859, 993, 484, 491, 749, 110, 247, 890, 959, 255], '51': [68, 769, 811, 397, 83, 691, 118, 697, 537], '52': [67, 129, 232, 583, 209, 894, 150, 217, 732, 222, 351], '53': [996, 811, 941, 854], '54': [457, 138, 526, 817, 722, 622], '55': [256, 737, 136, 298, 172, 974, 623, 104, 467, 414, 406, 666, 955, 285, 254], '56': [769, 267, 878, 164, 966, 557, 317, 68, 582, 457, 85, 214, 353, 482, 102, 494, 881, 245, 124, 126], '57': [263, 392, 273, 285, 671, 547, 168, 428, 943, 178, 567, 188, 701, 830, 704, 580, 325, 74, 845, 525, 86, 352, 871, 363, 242], '58': [658, 437], '59': [194, 294, 136, 300, 206, 378, 127], '60': [290, 872, 269, 853, 91], '61': [661, 639], '62': [161, 905, 333, 654, 310, 376, 641], '63': [128, 100, 108, 594, 374, 790], '64': [994, 99, 424, 589, 756], '65': [731, 68, 982, 247, 91], '66': [160, 393, 895, 132, 677, 481, 201, 466, 338, 723, 180, 277, 217, 89, 444, 92, 778, 805], '67': [672, 229, 305, 203, 140, 786, 210, 433], '68': [132, 710, 147, 284, 926, 688, 70, 944, 691, 825, 191, 198, 80, 977, 220, 106, 495, 112, 499], '69': [192, 226, 355, 139, 354, 240, 419], '70': [937, 473], '71': [96, 130, 612, 170, 620, 431, 113, 339, 855, 298, 221, 383], '72': [291, 200, 296, 276, 312, 569, 762, 702, 869], '73': [266], '74': [614, 426, 237, 592, 878, 343, 90], '75': [215, 866, 114, 277, 182, 183, 344], '76': [467, 531, 822, 91], '77': [576, 449, 102, 826, 524, 111, 851, 212, 917, 585, 477, 509, 221, 574], '78': [544, 514, 773, 395, 236, 272, 436, 887, 156], '79': [128, 496, 739, 228, 774, 904, 235, 174, 176, 113, 756, 406, 407, 867, 252, 861], '80': [788, 418], '81': [516, 863], '82': [456, 169, 141, 840, 657, 405, 986, 572], '83': [193, 196, 200, 329, 171, 972, 879, 616, 759, 542], '84': [507, 168, 143, 308, 789, 93, 254, 703], '85': [129, 99, 225, 299, 204, 750, 397, 464, 504, 180, 953, 311, 628, 591, 507, 637, 318], '86': [450, 509, 766], '87': [356, 133, 780, 360, 204, 237, 413, 144, 437, 121, 250, 699, 157, 95], '88': [170, 460, 848, 411], '89': [105, 495, 442], '90': [640, 644, 679, 570, 156], '91': [948], '92': [385, 452, 993, 794, 159], '93': [353, 418, 992, 678, 904, 777, 394, 205, 400, 914, 995, 245, 375, 601, 186, 444, 998, 741], '94': [503, 554, 107, 498, 724, 438, 215, 184, 603, 188, 714], '95': [135], '96': [128, 450, 196, 966, 742, 809, 267, 598, 535, 156], '97': [934, 806, 423, 455, 208, 301, 144, 114, 115, 149, 342, 408, 592], '98': [384, 859, 389, 453, 461, 590, 400, 995, 470, 375, 667, 101], '99': [194, 283, 903, 813, 270, 884, 123, 348], '100': [539, 170, 173, 987, 949, 502, 349, 318, 223], '101': [433, 657, 414], '102': [172, 819, 732], '103': [134, 265, 146, 535, 281, 538, 434, 438, 313, 957, 556, 194, 464, 466, 341, 220, 224, 741, 874, 153, 889], '104': [131, 663, 984], '105': [908, 122, 157, 254], '106': [226, 523, 633], '107': [167, 649, 234, 466, 340, 138], '108': [738, 264, 755, 213, 381], '109': [451, 165, 689, 847, 145, 341, 502, 120], '110': [353], '111': [992, 515, 903, 167, 169, 238, 241, 562, 116, 731], '112': [649], '113': [416, 130, 452, 997, 454, 167, 161, 258, 177, 914, 898, 219, 574], '114': [523, 965, 850, 242, 633], '115': [779, 332, 441, 893], '116': [304, 625, 279, 478], '117': [804], '118': [301, 790, 223], '119': [141, 493, 211, 469, 745, 472, 541, 286, 621], '120': [231, 328, 711, 403, 853], '121': [256, 417, 420, 666], '122': [179, 507], '123': [474], '124': [198, 296, 267, 172, 941, 888, 147, 629, 570, 891, 476, 157, 382], '125': [713, 227], '126': [320, 323, 459, 209], '127': [775, 367, 856, 152], '128': [952], '129': [258, 550, 621, 530, 148, 437], '130': [708, 390, 263, 863], '131': [448, 262, 807, 585, 182], '132': [272, 144, 336, 370, 292, 252], '134': [937, 327, 240, 242, 149, 249], '135': [257, 299, 813, 432, 405], '136': [833, 199, 875, 922, 957], '137': [193, 199, 714, 215, 693, 801, 158], '138': [683, 694, 519, 328, 652], '139': [752, 537], '140': [201, 233, 827], '141': [282], '142': [527, 343, 990], '143': [544, 715, 333, 309], '144': [409, 196, 517, 832, 503, 370, 590, 207, 817, 306, 244, 149, 374, 773, 477, 884, 549], '145': [291, 365, 238, 540], '146': [720, 164, 358, 203, 876, 173, 525, 368, 793, 216, 388, 987, 510], '147': [923, 905, 779, 671, 654, 155, 287], '148': [468, 270], '149': [387, 389, 675, 933, 485], '150': [288, 478], '151': [420, 807, 584, 842, 613, 280, 378, 605, 357], '152': [325], '153': [737, 322, 809, 989, 725, 439, 452, 445, 510], '154': [295, 235, 716, 722, 471, 952, 734], '155': [768, 620, 624, 375, 411], '156': [162, 229, 976, 753, 472, 189], '157': [928, 706, 899, 796, 647, 396, 622, 279, 479], '158': [219], '159': [261, 940, 465, 249, 799], '160': [357, 398, 368, 515, 163, 281, 186, 990], '161': [369, 522, 535, 311, 284, 221], '162': [395, 542], '163': [366, 555], '164': [256, 264, 636], '165': [673, 642, 434, 402, 407, 280, 463], '166': [418, 171, 462, 335, 371, 438], '167': [243, 281, 542], '168': [225, 481, 202, 364, 178, 430, 175, 631, 191], '169': [913, 915], '170': [781, 334, 239, 660, 206, 860, 501], '171': [659, 315, 735], '172': [231, 990, 401, 658, 757, 187, 606], '173': [520, 971], '174': [232, 461, 718, 561, 601, 506, 634, 286], '175': [989, 271, 504, 409, 314, 445], '176': [736, 193, 227, 260, 684, 367, 188, 189], '177': [581, 396, 563, 821], '178': [549, 568, 348], '179': [390, 904, 945, 468, 725], '180': [441, 278], '182': [313], '183': [518, 828, 489, 187, 380, 830, 767], '184': [596, 241], '185': [555, 292, 308, 316], '186': [253, 459], '187': [648, 476], '188': [369, 199], '189': [401], '190': [992, 614, 646], '191': [677, 781], '193': [203, 655, 435, 213], '194': [360, 560, 823, 347], '195': [710], '196': [768, 422, 307, 588, 886, 377, 412], '197': [289], '198': [252, 641], '199': [862], '200': [870, 295, 235, 204, 978, 214], '201': [883, 391], '202': [384, 964, 330, 907, 300, 885, 633, 249], '203': [843], '204': [899, 263, 300, 721], '205': [716, 237, 540], '206': [251, 965, 259, 628, 309, 246, 407, 248, 315, 858], '207': [776, 331, 974, 306, 836, 987], '208': [902, 908, 212, 854, 474, 668], '209': [736, 262, 239], '210': [290], '211': [497], '212': [449, 386, 698, 332, 755, 726, 791, 377, 282, 349, 351], '213': [578, 611, 551, 607], '214': [763], '215': [640, 258, 776, 464, 342, 343, 632, 444], '216': [565, 439, 442], '217': [677, 230, 619, 856, 946, 243, 661, 248, 603], '218': [802, 314], '219': [293, 614, 680, 271, 451, 793, 572, 639], '220': [534], '222': [741, 583, 844, 489, 588, 274, 858], '223': [257, 261, 684, 473, 517], '224': [451, 394, 398, 623, 635, 818, 443, 863], '225': [696, 490], '227': [554], '228': [593, 807], '229': [804, 610], '230': [454, 424, 751, 723], '232': [514, 394, 946, 599, 700], '233': [896], '234': [988], '235': [380, 278], '236': [359, 936, 362, 460], '237': [481, 340], '238': [432, 798], '240': [907, 687, 761, 571, 266], '241': [672, 546, 485, 824, 499, 506], '242': [262, 787, 405, 988, 309], '243': [475, 814], '244': [618], '245': [920, 528], '246': [420, 615, 694], '247': [269], '248': [329, 882, 726, 798], '250': [432], '251': [764], '252': [850, 279], '253': [458, 844, 344], '254': [261], '255': [945, 312, 445], '256': [480, 643, 488, 745, 522], '257': [833, 840, 331, 382], '259': [604, 326], '262': [842, 301, 754], '264': [834, 268, 299, 493, 823, 361, 346], '265': [927, 476], '266': [586, 695, 911, 443, 382, 543], '267': [608, 747, 268, 273, 667], '268': [801, 638, 767], '269': [386, 686, 503], '270': [975, 660, 638], '271': [335], '273': [865, 472, 287], '274': [946, 989], '275': [291, 825], '276': [617, 553, 440], '277': [792, 693], '278': [391, 811, 558], '279': [342], '280': [393, 483, 324, 297, 879, 629, 664, 894, 319], '281': [330, 302, 337, 430, 599, 731, 618, 881], '282': [865, 627, 566, 883], '283': [800, 747, 847, 529, 372], '284': [388, 808, 936, 563, 630], '285': [974, 378, 670], '286': [746, 810, 765, 799], '287': [387, 743, 686, 630, 857, 795], '288': [836, 999, 317], '289': [545, 559, 477], '290': [681, 810, 302], '291': [936, 882, 602], '292': [704, 588, 718, 368, 307, 603], '293': [358, 298, 372, 404], '294': [517, 651, 575], '295': [322, 644, 557, 880, 616, 792, 763], '296': [810, 632, 411, 970], '297': [928, 674, 984, 597, 982], '298': [508], '299': [419, 977, 498], '300': [944, 303, 880, 569], '301': [652, 317], '302': [320, 963], '303': [782], '304': [650], '305': [326], '306': [608, 673, 820, 920], '307': [604, 587], '308': [416, 555, 844], '309': [929, 482, 548, 582, 679, 972, 626, 912], '310': [330, 689, 446, 315], '312': [573], '313': [932, 370, 964, 314, 858, 543], '315': [935, 681, 527, 339, 892], '316': [512, 578, 679, 338, 664, 765], '317': [318, 949], '318': [356, 720, 350], '319': [625], '320': [513, 600, 703], '322': [486, 334, 778], '323': [822], '325': [685, 793], '327': [402, 563, 726], '328': [885], '329': [417], '330': [909], '331': [657, 593], '332': [355, 423, 910], '333': [771], '335': [772], '336': [642, 876], '337': [752, 557], '338': [708], '339': [345, 981], '340': [455], '341': [758], '342': [750], '343': [568], '344': [715, 560, 701], '345': [425], '346': [408], '347': [363, 738, 794, 475], '348': [450, 401], '349': [396, 787, 695, 868], '350': [357, 518, 489, 621, 975, 689, 901], '351': [778, 950], '352': [955, 709, 428, 501, 442, 539, 732, 831], '353': [780, 711], '354': [706], '355': [676], '356': [680, 846], '357': [616], '358': [744], '359': [883], '360': [685], '361': [392], '362': [512, 560], '363': [551, 712, 985], '364': [911, 808, 953], '365': [642, 653, 377, 735], '366': [795, 962], '369': [637, 430], '370': [469, 431], '371': [706, 924, 683, 684, 380], '372': [622, 402, 627, 564, 822, 569, 436, 724], '373': [498, 531], '374': [448, 624, 841, 511], '375': [643], '376': [908, 597], '377': [852, 809], '378': [388, 777, 403, 415], '379': [931], '380': [769, 519, 977, 700], '381': [615, 969, 606], '383': [961, 821], '384': [853], '385': [938], '386': [559], '387': [602], '388': [443], '390': [675, 516, 743, 956], '391': [772, 573, 760, 541], '392': [929], '394': [400, 730, 447], '395': [708, 624, 721], '396': [832, 652, 496, 403, 799], '398': [906, 910], '399': [522, 427, 784], '402': [536, 584], '403': [805, 462, 440, 662, 828, 797], '404': [617, 429, 528, 702], '406': [429, 656, 665], '407': [523, 753, 978, 502], '410': [594], '412': [960, 611, 676], '413': [864], '415': [925, 470], '416': [488], '417': [819], '419': [492, 751, 797], '420': [965], '421': [766], '422': [549], '423': [682, 471], '424': [520, 814, 976, 561], '425': [567], '427': [547, 932], '429': [515, 900, 465, 635, 764], '430': [650], '431': [877], '432': [577, 559, 532, 538], '433': [604, 757], '434': [615], '436': [577, 462, 816], '437': [480, 676, 456, 492, 552, 888], '438': [667, 910], '439': [571], '440': [527, 849, 728], '441': [551, 663, 919], '442': [812], '443': [453, 467, 725], '444': [687, 562], '446': [739, 913, 529, 475], '449': [823], '452': [837], '453': [803], '454': [749], '455': [479, 483], '456': [899, 646], '457': [968], '459': [486, 867], '460': [651], '461': [605], '463': [513, 994, 942], '464': [576], '465': [816, 752, 981], '466': [647, 650, 482, 791], '468': [668, 662], '469': [654], '471': [879, 985], '472': [931, 486, 775, 878, 500, 891], '473': [574], '475': [837, 564, 607], '476': [656, 857, 511], '477': [491, 748, 884, 789], '479': [997], '480': [881, 631, 698], '481': [841, 889], '482': [613], '483': [781, 613], '484': [653, 487], '485': [788], '486': [862], '491': [973, 591, 532], '492': [912, 854, 665, 571], '493': [849], '495': [709, 916, 539], '497': [800, 806, 554, 625], '498': [692], '499': [545], '502': [695], '504': [838, 815, 692], '505': [565], '506': [762, 596], '507': [723], '508': [636], '510': [868], '511': [918], '512': [729], '513': [882, 717], '514': [733], '515': [898, 869, 693], '516': [536, 980], '517': [721], '518': [966, 830], '520': [873], '521': [770, 875, 619, 570, 734], '522': [867, 586, 971, 690, 536], '524': [660], '525': [537, 770], '526': [638, 727], '528': [924], '531': [812, 921], '532': [611, 675, 572], '534': [666], '536': [837, 783], '538': [713, 813], '539': [896], '542': [612], '543': [645], '544': [686], '547': [886, 678], '548': [696], '549': [945, 956], '550': [672, 897, 787], '552': [596], '554': [914, 727], '556': [933], '557': [901], '558': [586], '559': [801, 785, 567, 606], '560': [705], '562': [644], '563': [866], '567': [698, 645], '569': [839, 647, 911, 796], '570': [579, 678, 599, 952], '572': [656], '573': [761, 707], '575': [733, 831], '577': [705, 579, 903], '580': [766], '581': [783], '583': [745, 669], '586': [988, 861], '587': [819], '588': [643, 711, 940], '591': [847], '592': [641], '593': [609, 902, 982, 925], '595': [699, 774], '596': [703], '598': [902], '599': [947], '601': [749, 649], '604': [794], '605': [831], '607': [728], '608': [659, 685], '609': [796], '612': [845], '614': [785], '615': [804], '618': [824, 829], '619': [746], '623': [995], '625': [771], '626': [917], '628': [959, 743], '629': [792, 669], '631': [674, 900], '633': [848], '636': [691], '640': [865], '643': [970, 812, 922], '645': [848], '649': [815, 818, 826], '650': [740], '651': [709], '653': [943, 655], '661': [873, 846, 670], '662': [843], '664': [906, 954], '666': [912], '668': [919], '669': [852], '670': [872], '671': [855, 767], '676': [744], '678': [877], '679': [707, 772, 937], '682': [915, 827], '685': [714, 744], '687': [850, 861], '691': [887], '693': [800], '694': [768], '695': [933], '696': [845, 814, 755], '697': [701], '698': [774], '699': [843], '702': [895, 759], '705': [971, 892], '706': [976], '707': [909], '709': [719], '710': [948], '711': [968], '712': [730], '713': [889], '714': [932], '715': [950], '716': [736], '719': [890, 963], '722': [880], '726': [754], '727': [923], '729': [981], '732': [939], '739': [901], '744': [897], '747': [969], '749': [840], '750': [857], '751': [875, 765], '752': [764], '754': [909], '755': [957], '756': [803], '757': [834, 983], '759': [815], '760': [785, 894], '762': [773], '763': [959], '765': [923, 836, 827], '769': [961, 963], '781': [866, 838, 949], '786': [967, 973, 956], '787': [790, 916], '790': [887], '792': [913], '793': [874], '801': [951], '803': [927], '804': [996], '809': [934], '823': [930], '825': [921, 999], '841': [969], '843': [851], '845': [979], '848': [941], '851': [925], '860': [871], '865': [888], '869': [985], '870': [905], '899': [950], '900': [961], '908': [926], '919': [926], '925': [980], '929': [960], '931': [962], '943': [947], '970': [986], '973': [991], '984': [991]}\n"
     ]
    }
   ],
   "source": [
    "print(all_dict[0])"
   ]
  }
 ],
 "metadata": {
  "kernelspec": {
   "display_name": "Python 3.10.7 64-bit (microsoft store)",
   "language": "python",
   "name": "python3"
  },
  "language_info": {
   "codemirror_mode": {
    "name": "ipython",
    "version": 3
   },
   "file_extension": ".py",
   "mimetype": "text/x-python",
   "name": "python",
   "nbconvert_exporter": "python",
   "pygments_lexer": "ipython3",
   "version": "3.10.7"
  },
  "vscode": {
   "interpreter": {
    "hash": "8e34c564ff11baf284cb400e7f3e3bd149ac1aa1e2a9dc39b311358bd09fe12d"
   }
  }
 },
 "nbformat": 4,
 "nbformat_minor": 4
}
