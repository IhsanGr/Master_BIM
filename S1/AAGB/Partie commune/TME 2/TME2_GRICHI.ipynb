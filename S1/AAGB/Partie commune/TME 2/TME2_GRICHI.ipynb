{
 "cells": [
  {
   "cell_type": "markdown",
   "metadata": {},
   "source": [
    "# TME 2 "
   ]
  },
  {
   "cell_type": "markdown",
   "metadata": {},
   "source": [
    "## 1. Introduction"
   ]
  },
  {
   "cell_type": "code",
   "execution_count": 1,
   "metadata": {},
   "outputs": [],
   "source": [
    "import pandas as pd\n",
    "import itertools as it\n",
    "import numpy as np"
   ]
  },
  {
   "cell_type": "code",
   "execution_count": 2,
   "metadata": {},
   "outputs": [
    {
     "data": {
      "text/html": [
       "<div>\n",
       "<style scoped>\n",
       "    .dataframe tbody tr th:only-of-type {\n",
       "        vertical-align: middle;\n",
       "    }\n",
       "\n",
       "    .dataframe tbody tr th {\n",
       "        vertical-align: top;\n",
       "    }\n",
       "\n",
       "    .dataframe thead th {\n",
       "        text-align: right;\n",
       "    }\n",
       "</style>\n",
       "<table border=\"1\" class=\"dataframe\">\n",
       "  <thead>\n",
       "    <tr style=\"text-align: right;\">\n",
       "      <th></th>\n",
       "      <th>0</th>\n",
       "      <th>1</th>\n",
       "      <th>2</th>\n",
       "      <th>3</th>\n",
       "      <th>4</th>\n",
       "      <th>5</th>\n",
       "      <th>6</th>\n",
       "    </tr>\n",
       "  </thead>\n",
       "  <tbody>\n",
       "    <tr>\n",
       "      <th>0</th>\n",
       "      <td>0</td>\n",
       "      <td>19</td>\n",
       "      <td>27</td>\n",
       "      <td>8</td>\n",
       "      <td>33</td>\n",
       "      <td>18</td>\n",
       "      <td>13</td>\n",
       "    </tr>\n",
       "    <tr>\n",
       "      <th>1</th>\n",
       "      <td>19</td>\n",
       "      <td>0</td>\n",
       "      <td>31</td>\n",
       "      <td>18</td>\n",
       "      <td>36</td>\n",
       "      <td>1</td>\n",
       "      <td>13</td>\n",
       "    </tr>\n",
       "    <tr>\n",
       "      <th>2</th>\n",
       "      <td>27</td>\n",
       "      <td>31</td>\n",
       "      <td>0</td>\n",
       "      <td>26</td>\n",
       "      <td>41</td>\n",
       "      <td>32</td>\n",
       "      <td>29</td>\n",
       "    </tr>\n",
       "    <tr>\n",
       "      <th>3</th>\n",
       "      <td>8</td>\n",
       "      <td>18</td>\n",
       "      <td>26</td>\n",
       "      <td>0</td>\n",
       "      <td>31</td>\n",
       "      <td>17</td>\n",
       "      <td>14</td>\n",
       "    </tr>\n",
       "    <tr>\n",
       "      <th>4</th>\n",
       "      <td>33</td>\n",
       "      <td>36</td>\n",
       "      <td>41</td>\n",
       "      <td>31</td>\n",
       "      <td>0</td>\n",
       "      <td>35</td>\n",
       "      <td>28</td>\n",
       "    </tr>\n",
       "    <tr>\n",
       "      <th>5</th>\n",
       "      <td>18</td>\n",
       "      <td>1</td>\n",
       "      <td>32</td>\n",
       "      <td>17</td>\n",
       "      <td>35</td>\n",
       "      <td>0</td>\n",
       "      <td>12</td>\n",
       "    </tr>\n",
       "    <tr>\n",
       "      <th>6</th>\n",
       "      <td>13</td>\n",
       "      <td>13</td>\n",
       "      <td>29</td>\n",
       "      <td>14</td>\n",
       "      <td>28</td>\n",
       "      <td>12</td>\n",
       "      <td>0</td>\n",
       "    </tr>\n",
       "  </tbody>\n",
       "</table>\n",
       "</div>"
      ],
      "text/plain": [
       "    0   1   2   3   4   5   6\n",
       "0   0  19  27   8  33  18  13\n",
       "1  19   0  31  18  36   1  13\n",
       "2  27  31   0  26  41  32  29\n",
       "3   8  18  26   0  31  17  14\n",
       "4  33  36  41  31   0  35  28\n",
       "5  18   1  32  17  35   0  12\n",
       "6  13  13  29  14  28  12   0"
      ]
     },
     "execution_count": 2,
     "metadata": {},
     "output_type": "execute_result"
    }
   ],
   "source": [
    "M1 = [[0,8,7,12], [8,0,9,14], [7,9,0,11], [12,14,11,0]]\n",
    "M2 = [[0,2,3,8,14,18],[2,0,3,8,14,18],\n",
    "      [3,3,0,8,14,18],[8,8,8,0,14,18],\n",
    "      [14,14,14,14,0,18],[18,18,18,18,18,0]]\n",
    "#UPGMA\n",
    "M3 = [[0,19,27,8,33,18,13],[19,0,31,18,36,1,13],\n",
    "          [27,31,0,26,41,32,29],[8,18,26,0,31,17,14],\n",
    "          [33,36,41,31,0,35,28],[18,1,32,17,35,0,12],\n",
    "          [13,13,29,14,28,12,0]]\n",
    "#Neighbor Joining\n",
    "M4 = [[0,2,4,6,6,8],[2,0,4,6,6,8],\n",
    "          [4,4,0,6,6,8],[6,6,6,0,4,8],\n",
    "          [6,6,6,4,0,8],[8,8,8,8,8,0]]\n",
    "\n",
    "M1D = pd.DataFrame(M1)\n",
    "M2D = pd.DataFrame(M2)\n",
    "UPGMAD = pd.DataFrame(M3) \n",
    "NJD = pd.DataFrame(M4)\n",
    "\n",
    "M1D\n",
    "UPGMAD"
   ]
  },
  {
   "cell_type": "markdown",
   "metadata": {},
   "source": [
    "###### Question 1"
   ]
  },
  {
   "cell_type": "markdown",
   "metadata": {},
   "source": [
    "##### Matrice additive"
   ]
  },
  {
   "cell_type": "markdown",
   "metadata": {},
   "source": [
    "Une est matrice additive si et seulement si la condition des 4 points est vraie pour tous les quartets i,j,k et l où 1<=i,j,k,l<=n).\n",
    "La condition des 4 points est remplie quand Dij + Dkl <= max(Dik+Djl,Dil+Djk)."
   ]
  },
  {
   "cell_type": "code",
   "execution_count": 3,
   "metadata": {},
   "outputs": [],
   "source": [
    "def estadditive(M):\n",
    "    comb=it.combinations(range(len(M)),4)\n",
    "    for groupe in comb:\n",
    "        print(groupe)\n",
    "        i,j,k,l=groupe\n",
    "        if not (M[i,j]+M[k,l]<=max(M[i,k]+M[j,l],M[i,l]+M[j,k])):\n",
    "            return False\n",
    "    return True"
   ]
  },
  {
   "cell_type": "code",
   "execution_count": 4,
   "metadata": {},
   "outputs": [
    {
     "name": "stdout",
     "output_type": "stream",
     "text": [
      "(0, 1, 2, 3)\n",
      "True\n"
     ]
    }
   ],
   "source": [
    "M1 = [[0,8,7,12], [8,0,9,14], [7,9,0,11], [12,14,11,0]]\n",
    "M1 = np.array(M1)\n",
    "print(estadditive(M1))"
   ]
  },
  {
   "cell_type": "markdown",
   "metadata": {},
   "source": [
    "##### Ultramétricité"
   ]
  },
  {
   "cell_type": "markdown",
   "metadata": {},
   "source": [
    "Une matrice est dite ultramétrique quand, pour tout choix de 3 points i,j,k au moins deux distances sont égales : Dij et Djk.\n",
    "\n",
    "On a alors mathématiquement : Dij = Djk >Dik\n",
    "\n",
    "Une matrice ultramétrique est forcément additive."
   ]
  },
  {
   "cell_type": "code",
   "execution_count": 5,
   "metadata": {},
   "outputs": [],
   "source": [
    "def estultra(M):\n",
    "    comb=it.combinations(range(len(M)),3)\n",
    "    for groupe in comb:\n",
    "        i,j,k=groupe\n",
    "        if not(M[i,k]<=max(M[i,j],M[j,k])):\n",
    "            return False\n",
    "    return True"
   ]
  },
  {
   "cell_type": "code",
   "execution_count": 6,
   "metadata": {},
   "outputs": [
    {
     "name": "stdout",
     "output_type": "stream",
     "text": [
      "False\n"
     ]
    }
   ],
   "source": [
    "M1 = np.array(M1)\n",
    "print(estultra(M1))"
   ]
  },
  {
   "cell_type": "markdown",
   "metadata": {},
   "source": [
    "###### Question 2"
   ]
  },
  {
   "cell_type": "code",
   "execution_count": 7,
   "metadata": {},
   "outputs": [],
   "source": [
    "def cluster(M,i):            #i = l'espèce en question\n",
    "    return np.sum(M[i])"
   ]
  },
  {
   "cell_type": "code",
   "execution_count": 8,
   "metadata": {},
   "outputs": [],
   "source": [
    "def groupe(M):\n",
    "    L=[]\n",
    "    for k in range(len(M)):\n",
    "        L.append(cluster(M,k))\n",
    "    return L"
   ]
  },
  {
   "cell_type": "code",
   "execution_count": 9,
   "metadata": {},
   "outputs": [
    {
     "name": "stdout",
     "output_type": "stream",
     "text": [
      "31\n",
      "[27, 31, 27, 37]\n"
     ]
    }
   ],
   "source": [
    "print(cluster(M1,1))\n",
    "print(groupe(M1))"
   ]
  },
  {
   "cell_type": "markdown",
   "metadata": {},
   "source": [
    "## 2. UPGMA"
   ]
  },
  {
   "cell_type": "markdown",
   "metadata": {},
   "source": [
    "###### Question 1 "
   ]
  },
  {
   "cell_type": "markdown",
   "metadata": {},
   "source": [
    "Le format Newick est un format de fichier utilisé en phylogénie pour décrire les relations phylogénétiques entre différents clusters.\n",
    "Par exemple si on a un ancêtre commun entre A et B puis entre AB et C on écrira sous ce format :\n",
    "\n",
    "(C : longueur de la branche (A : longueur, B : longueur) : longueur restante de la branche)\n",
    "\n",
    "L'extension de ce format est .nwk"
   ]
  },
  {
   "cell_type": "markdown",
   "metadata": {},
   "source": [
    "###### Question 2"
   ]
  },
  {
   "cell_type": "code",
   "execution_count": 10,
   "metadata": {},
   "outputs": [],
   "source": [
    "def UPGMA(M):\n",
    "    Alphabet = 'ABCDEFGHIJKLMNOPQRSTUVWYZ'\n",
    "    M1 = np.copy(M)\n",
    "    Cardinal = [1 for k in range(len(M1))]\n",
    "    Clusters = [Alphabet[k] for k in range(len(M1))]\n",
    "    Newick = ''\n",
    "    for i in range(len(M1)):\n",
    "        for j in range(len(M1[i])):\n",
    "            if i==j:\n",
    "                M1[i,j] = 1000\n",
    "    while len(M1)>1:\n",
    "        Indice = np.argmin(M1)\n",
    "        i,j = np.unravel_index(np.argmin(M1), M1.shape)  #trouve la ligne et la colonne correspondant au argmin\n",
    "        d = M1[i,j]/2\n",
    "        for l in range(len(M1)):\n",
    "            if l!=i and l!=j:\n",
    "                M1[i,l] = (M1[i,l]*Cardinal[i]+M1[j,l]*Cardinal[l])/(Cardinal[i]+Cardinal[l])\n",
    "                M1[l,i] = M1[i,l]\n",
    "        Cardinal[i]+=Cardinal[j]\n",
    "        del Cardinal[j]\n",
    "        Newick+=Clusters[i]+Clusters[j]\n",
    "        del Clusters[j]\n",
    "        print(Newick,i,j)\n",
    "        M1 = np.delete(M1,j,0)\n",
    "        M1 = np.delete(M1,j,1)\n",
    "    return M1"
   ]
  },
  {
   "cell_type": "code",
   "execution_count": 11,
   "metadata": {},
   "outputs": [
    {
     "name": "stdout",
     "output_type": "stream",
     "text": [
      "BF 1 5\n",
      "BFAD 0 3\n",
      "BFADBG 1 4\n",
      "BFADBGAB 0 1\n",
      "BFADBGABAC 0 1\n",
      "BFADBGABACAE 0 1\n",
      "[[1000.]]\n"
     ]
    }
   ],
   "source": [
    "M3 = np.array(M3,dtype=float)\n",
    "UPGMAD\n",
    "print(UPGMA(M3))"
   ]
  },
  {
   "cell_type": "code",
   "execution_count": 12,
   "metadata": {},
   "outputs": [
    {
     "name": "stdout",
     "output_type": "stream",
     "text": [
      "BF 1 5\n",
      "BFAD 0 3\n",
      "BFADBG 1 4\n",
      "BFADBGAB 0 1\n",
      "BFADBGABAC 0 1\n",
      "BFADBGABACAE 0 1\n"
     ]
    },
    {
     "data": {
      "text/html": [
       "<div>\n",
       "<style scoped>\n",
       "    .dataframe tbody tr th:only-of-type {\n",
       "        vertical-align: middle;\n",
       "    }\n",
       "\n",
       "    .dataframe tbody tr th {\n",
       "        vertical-align: top;\n",
       "    }\n",
       "\n",
       "    .dataframe thead th {\n",
       "        text-align: right;\n",
       "    }\n",
       "</style>\n",
       "<table border=\"1\" class=\"dataframe\">\n",
       "  <thead>\n",
       "    <tr style=\"text-align: right;\">\n",
       "      <th></th>\n",
       "      <th>0</th>\n",
       "    </tr>\n",
       "  </thead>\n",
       "  <tbody>\n",
       "    <tr>\n",
       "      <th>0</th>\n",
       "      <td>1000.0</td>\n",
       "    </tr>\n",
       "  </tbody>\n",
       "</table>\n",
       "</div>"
      ],
      "text/plain": [
       "        0\n",
       "0  1000.0"
      ]
     },
     "execution_count": 12,
     "metadata": {},
     "output_type": "execute_result"
    }
   ],
   "source": [
    "UPGMAD = pd.DataFrame(UPGMA(M3))\n",
    "UPGMAD"
   ]
  },
  {
   "cell_type": "markdown",
   "metadata": {},
   "source": [
    "## 3. NJ"
   ]
  },
  {
   "cell_type": "markdown",
   "metadata": {},
   "source": [
    "##### Question 1"
   ]
  },
  {
   "cell_type": "code",
   "execution_count": 13,
   "metadata": {},
   "outputs": [],
   "source": [
    "def U(M,i,N):      #i est l'indice sur les lignes représente un cluster donné\n",
    "    u=0\n",
    "    n=len(M)\n",
    "    for j in range (n):\n",
    "        u+=M[i,j]/(N-2)\n",
    "    return u"
   ]
  },
  {
   "cell_type": "code",
   "execution_count": 14,
   "metadata": {},
   "outputs": [
    {
     "name": "stdout",
     "output_type": "stream",
     "text": [
      "23.6\n",
      "[[ 0. 19. 27.  8. 33. 18. 13.]\n",
      " [19.  0. 31. 18. 36.  1. 13.]\n",
      " [27. 31.  0. 26. 41. 32. 29.]\n",
      " [ 8. 18. 26.  0. 31. 17. 14.]\n",
      " [33. 36. 41. 31.  0. 35. 28.]\n",
      " [18.  1. 32. 17. 35.  0. 12.]\n",
      " [13. 13. 29. 14. 28. 12.  0.]]\n"
     ]
    }
   ],
   "source": [
    "print(U(M3,0,7))\n",
    "print(M3)"
   ]
  },
  {
   "cell_type": "markdown",
   "metadata": {},
   "source": [
    "##### Question 2"
   ]
  },
  {
   "cell_type": "code",
   "execution_count": 15,
   "metadata": {},
   "outputs": [],
   "source": [
    "def Q(M,i,j,n):\n",
    "    Ui=U(M,i,n)\n",
    "    Uj=U(M,j,n)\n",
    "    return M[i,j]-Ui-Uj"
   ]
  },
  {
   "cell_type": "code",
   "execution_count": 16,
   "metadata": {},
   "outputs": [
    {
     "name": "stdout",
     "output_type": "stream",
     "text": [
      "-45.6\n"
     ]
    }
   ],
   "source": [
    "print(Q(M3,1,5,7))"
   ]
  },
  {
   "cell_type": "markdown",
   "metadata": {},
   "source": [
    "##### Question 3"
   ]
  },
  {
   "cell_type": "code",
   "execution_count": 17,
   "metadata": {},
   "outputs": [],
   "source": [
    "def NJ(M):\n",
    "    Alphabet = 'ABCDEFGHIJKLMNOPQRSTUVWYZ'\n",
    "    M1 = np.copy(M)\n",
    "    N=len(M)\n",
    "    Clusters = [Alphabet[k] for k in range(N)]\n",
    "    for k in range(len(M1)):\n",
    "        M1[k,k]=1000\n",
    "    while len(M1)>1:\n",
    "        n = len(M1)\n",
    "        MQ = np.zeros((n,n),dtype='float')\n",
    "        for k in range(n):\n",
    "            MQ[k,k] = 1000\n",
    "        comb = it.combinations(range(n),2)\n",
    "        for groupe in comb:\n",
    "            i,j = groupe\n",
    "            MQ[i,j] = Q(M1,i,j,N)\n",
    "            MQ[j,i] = Q(M1,i,j,N)\n",
    "        i,j = np.unravel_index(np.argmin(MQ), MQ.shape)\n",
    "        Ui = U(M1,i,N)\n",
    "        Uj = U(M1,j,N)\n",
    "        d = M1[i,j]\n",
    "        Di = (d+(Ui-Uj))/2\n",
    "        Di = (d+(Uj-Ui))/2\n",
    "        for l in range(len(M1)):\n",
    "            if l!=i and l!=j:\n",
    "                M1[i,l] = (M1[i,l]+M1[j,l]-d)/2\n",
    "                M1[l,i] = M1[i,l]\n",
    "        M1 = np.delete(M1,j,0)\n",
    "        M1 = np.delete(M1,j,1)\n",
    "    return M1"
   ]
  },
  {
   "cell_type": "code",
   "execution_count": 18,
   "metadata": {},
   "outputs": [
    {
     "name": "stdout",
     "output_type": "stream",
     "text": [
      "[[1000.]]\n"
     ]
    }
   ],
   "source": [
    "print(NJ(M3))"
   ]
  },
  {
   "cell_type": "code",
   "execution_count": null,
   "metadata": {},
   "outputs": [],
   "source": []
  }
 ],
 "metadata": {
  "kernelspec": {
   "display_name": "Python 3.10.7 64-bit (microsoft store)",
   "language": "python",
   "name": "python3"
  },
  "language_info": {
   "codemirror_mode": {
    "name": "ipython",
    "version": 3
   },
   "file_extension": ".py",
   "mimetype": "text/x-python",
   "name": "python",
   "nbconvert_exporter": "python",
   "pygments_lexer": "ipython3",
   "version": "3.10.7"
  },
  "vscode": {
   "interpreter": {
    "hash": "8e34c564ff11baf284cb400e7f3e3bd149ac1aa1e2a9dc39b311358bd09fe12d"
   }
  }
 },
 "nbformat": 4,
 "nbformat_minor": 5
}
