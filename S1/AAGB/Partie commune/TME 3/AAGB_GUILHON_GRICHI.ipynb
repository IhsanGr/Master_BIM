{
 "cells": [
  {
   "cell_type": "markdown",
   "id": "fa574b77",
   "metadata": {},
   "source": [
    "# TME 2 "
   ]
  },
  {
   "cell_type": "markdown",
   "id": "20e468b0",
   "metadata": {},
   "source": [
    "## 1. Introduction"
   ]
  },
  {
   "cell_type": "code",
   "execution_count": 1,
   "id": "a3d93175",
   "metadata": {},
   "outputs": [],
   "source": [
    "import pandas as pd\n",
    "import itertools as it\n",
    "import numpy as np"
   ]
  },
  {
   "cell_type": "code",
   "execution_count": 2,
   "id": "fa269ed7",
   "metadata": {},
   "outputs": [
    {
     "data": {
      "text/html": [
       "<div>\n",
       "<style scoped>\n",
       "    .dataframe tbody tr th:only-of-type {\n",
       "        vertical-align: middle;\n",
       "    }\n",
       "\n",
       "    .dataframe tbody tr th {\n",
       "        vertical-align: top;\n",
       "    }\n",
       "\n",
       "    .dataframe thead th {\n",
       "        text-align: right;\n",
       "    }\n",
       "</style>\n",
       "<table border=\"1\" class=\"dataframe\">\n",
       "  <thead>\n",
       "    <tr style=\"text-align: right;\">\n",
       "      <th></th>\n",
       "      <th>0</th>\n",
       "      <th>1</th>\n",
       "      <th>2</th>\n",
       "      <th>3</th>\n",
       "      <th>4</th>\n",
       "      <th>5</th>\n",
       "      <th>6</th>\n",
       "    </tr>\n",
       "  </thead>\n",
       "  <tbody>\n",
       "    <tr>\n",
       "      <th>0</th>\n",
       "      <td>0</td>\n",
       "      <td>19</td>\n",
       "      <td>27</td>\n",
       "      <td>8</td>\n",
       "      <td>33</td>\n",
       "      <td>18</td>\n",
       "      <td>13</td>\n",
       "    </tr>\n",
       "    <tr>\n",
       "      <th>1</th>\n",
       "      <td>19</td>\n",
       "      <td>0</td>\n",
       "      <td>31</td>\n",
       "      <td>18</td>\n",
       "      <td>36</td>\n",
       "      <td>1</td>\n",
       "      <td>13</td>\n",
       "    </tr>\n",
       "    <tr>\n",
       "      <th>2</th>\n",
       "      <td>27</td>\n",
       "      <td>31</td>\n",
       "      <td>0</td>\n",
       "      <td>26</td>\n",
       "      <td>41</td>\n",
       "      <td>32</td>\n",
       "      <td>29</td>\n",
       "    </tr>\n",
       "    <tr>\n",
       "      <th>3</th>\n",
       "      <td>8</td>\n",
       "      <td>18</td>\n",
       "      <td>26</td>\n",
       "      <td>0</td>\n",
       "      <td>31</td>\n",
       "      <td>17</td>\n",
       "      <td>14</td>\n",
       "    </tr>\n",
       "    <tr>\n",
       "      <th>4</th>\n",
       "      <td>33</td>\n",
       "      <td>36</td>\n",
       "      <td>41</td>\n",
       "      <td>31</td>\n",
       "      <td>0</td>\n",
       "      <td>35</td>\n",
       "      <td>28</td>\n",
       "    </tr>\n",
       "    <tr>\n",
       "      <th>5</th>\n",
       "      <td>18</td>\n",
       "      <td>1</td>\n",
       "      <td>32</td>\n",
       "      <td>17</td>\n",
       "      <td>35</td>\n",
       "      <td>0</td>\n",
       "      <td>12</td>\n",
       "    </tr>\n",
       "    <tr>\n",
       "      <th>6</th>\n",
       "      <td>13</td>\n",
       "      <td>13</td>\n",
       "      <td>29</td>\n",
       "      <td>14</td>\n",
       "      <td>28</td>\n",
       "      <td>12</td>\n",
       "      <td>0</td>\n",
       "    </tr>\n",
       "  </tbody>\n",
       "</table>\n",
       "</div>"
      ],
      "text/plain": [
       "    0   1   2   3   4   5   6\n",
       "0   0  19  27   8  33  18  13\n",
       "1  19   0  31  18  36   1  13\n",
       "2  27  31   0  26  41  32  29\n",
       "3   8  18  26   0  31  17  14\n",
       "4  33  36  41  31   0  35  28\n",
       "5  18   1  32  17  35   0  12\n",
       "6  13  13  29  14  28  12   0"
      ]
     },
     "execution_count": 2,
     "metadata": {},
     "output_type": "execute_result"
    }
   ],
   "source": [
    "M1 = [[0,8,7,12], [8,0,9,14], [7,9,0,11], [12,14,11,0]]\n",
    "M2 = [[0,2,3,8,14,18],[2,0,3,8,14,18],\n",
    "      [3,3,0,8,14,18],[8,8,8,0,14,18],\n",
    "      [14,14,14,14,0,18],[18,18,18,18,18,0]]\n",
    "#UPGMA\n",
    "M3 = [[0,19,27,8,33,18,13],[19,0,31,18,36,1,13],\n",
    "          [27,31,0,26,41,32,29],[8,18,26,0,31,17,14],\n",
    "          [33,36,41,31,0,35,28],[18,1,32,17,35,0,12],\n",
    "          [13,13,29,14,28,12,0]]\n",
    "#Neighbor Joining\n",
    "M4 = [[0,2,4,6,6,8],[2,0,4,6,6,8],\n",
    "          [4,4,0,6,6,8],[6,6,6,0,4,8],\n",
    "          [6,6,6,4,0,8],[8,8,8,8,8,0]]\n",
    "\n",
    "M1D = pd.DataFrame(M1)\n",
    "M2D = pd.DataFrame(M2)\n",
    "UPGMAD = pd.DataFrame(M3) \n",
    "NJD = pd.DataFrame(M4)\n",
    "\n",
    "M1D\n",
    "UPGMAD"
   ]
  },
  {
   "cell_type": "markdown",
   "id": "0762347f",
   "metadata": {},
   "source": [
    "###### Question 1"
   ]
  },
  {
   "cell_type": "markdown",
   "id": "dcab52c2",
   "metadata": {},
   "source": [
    "##### Matrice additive"
   ]
  },
  {
   "cell_type": "markdown",
   "id": "885c2f9a",
   "metadata": {},
   "source": [
    "Une est matrice additive si et seulement si la condition des 4 points est vraie pour tous les quartets i,j,k et l où 1<=i,j,k,l<=n).\n",
    "La condition des 4 points est remplie quand Dij + Dkl <= max(Dik+Djl,Dil+Djk)."
   ]
  },
  {
   "cell_type": "code",
   "execution_count": 3,
   "id": "6c2ae841",
   "metadata": {},
   "outputs": [],
   "source": [
    "def estadditive(M):\n",
    "    comb=it.combinations(range(len(M)),4)\n",
    "    for groupe in comb:\n",
    "        print(groupe)\n",
    "        i,j,k,l=groupe\n",
    "        if not (M[i,j]+M[k,l]<=max(M[i,k]+M[j,l],M[i,l]+M[j,k])):\n",
    "            return False\n",
    "    return True"
   ]
  },
  {
   "cell_type": "code",
   "execution_count": 4,
   "id": "28d6d832",
   "metadata": {},
   "outputs": [
    {
     "name": "stdout",
     "output_type": "stream",
     "text": [
      "(0, 1, 2, 3)\n",
      "True\n"
     ]
    }
   ],
   "source": [
    "M1 = [[0,8,7,12], [8,0,9,14], [7,9,0,11], [12,14,11,0]]\n",
    "M1 = np.array(M1)\n",
    "print(estadditive(M1))"
   ]
  },
  {
   "cell_type": "markdown",
   "id": "29ffba00",
   "metadata": {},
   "source": [
    "##### Ultramétricité"
   ]
  },
  {
   "cell_type": "markdown",
   "id": "52d6c0ae",
   "metadata": {},
   "source": [
    "Une matrice est dite ultramétrique quand, pour tout choix de 3 points i,j,k au moins deux distances sont égales : Dij et Djk.\n",
    "\n",
    "On a alors mathématiquement : Dij = Djk >Dik\n",
    "\n",
    "Une matrice ultramétrique est forcément additive."
   ]
  },
  {
   "cell_type": "code",
   "execution_count": 5,
   "id": "c5616d62",
   "metadata": {},
   "outputs": [],
   "source": [
    "def estultra(M):\n",
    "    comb=it.combinations(range(len(M)),3)\n",
    "    for groupe in comb:\n",
    "        i,j,k=groupe\n",
    "        if not(M[i,k]<=max(M[i,j],M[j,k])):\n",
    "            return False\n",
    "    return True"
   ]
  },
  {
   "cell_type": "code",
   "execution_count": 6,
   "id": "7b17a5f2",
   "metadata": {},
   "outputs": [
    {
     "name": "stdout",
     "output_type": "stream",
     "text": [
      "False\n"
     ]
    }
   ],
   "source": [
    "M1 = np.array(M1)\n",
    "print(estultra(M1))"
   ]
  },
  {
   "cell_type": "markdown",
   "id": "befef8b8",
   "metadata": {},
   "source": [
    "###### Question 2"
   ]
  },
  {
   "cell_type": "code",
   "execution_count": 7,
   "id": "6e92c2ac",
   "metadata": {},
   "outputs": [],
   "source": [
    "def cluster(M,i):            #i = l'espèce en question\n",
    "    return np.sum(M[i])"
   ]
  },
  {
   "cell_type": "code",
   "execution_count": 8,
   "id": "1c77e330",
   "metadata": {},
   "outputs": [],
   "source": [
    "def groupe(M):\n",
    "    L=[]\n",
    "    for k in range(len(M)):\n",
    "        L.append(cluster(M,k))\n",
    "    return L"
   ]
  },
  {
   "cell_type": "code",
   "execution_count": 9,
   "id": "16ad3190",
   "metadata": {},
   "outputs": [
    {
     "name": "stdout",
     "output_type": "stream",
     "text": [
      "31\n",
      "[27, 31, 27, 37]\n"
     ]
    }
   ],
   "source": [
    "print(cluster(M1,1))\n",
    "print(groupe(M1))"
   ]
  },
  {
   "cell_type": "markdown",
   "id": "7fabc415",
   "metadata": {},
   "source": [
    "## 2. UPGMA"
   ]
  },
  {
   "cell_type": "markdown",
   "id": "795a1af7",
   "metadata": {},
   "source": [
    "###### Question 1 "
   ]
  },
  {
   "cell_type": "markdown",
   "id": "56f6a30c",
   "metadata": {},
   "source": [
    "Le format Newick est un format de fichier utilisé en phylogénie pour décrire les relations phylogénétiques entre différents clusters.\n",
    "Par exemple si on a un ancêtre commun entre A et B puis entre AB et C on écrira sous ce format :\n",
    "\n",
    "(C : longueur de la branche (A : longueur, B : longueur) : longueur restante de la branche)\n",
    "\n",
    "L'extension de ce format est .nwk"
   ]
  },
  {
   "cell_type": "markdown",
   "id": "da8fe93f",
   "metadata": {},
   "source": [
    "###### Question 2"
   ]
  },
  {
   "cell_type": "code",
   "execution_count": 45,
   "id": "3fecbf6d",
   "metadata": {},
   "outputs": [],
   "source": [
    "def UPGMA(M):\n",
    "    Alphabet = 'ABCDEFGHIJKLMNOPQRSTUVWYZ'\n",
    "    nodes = 'abcdefghijklm'\n",
    "    nodes = [i for i in nodes]\n",
    "    M1 = np.copy(M)\n",
    "    n=len(M1)\n",
    "    Cardinal = [1 for k in range(n)]\n",
    "    Clusters = [Alphabet[k] for k in range(n)]\n",
    "    Newick = ''\n",
    "    arbre = {}\n",
    "    for i in range(len(M1)):\n",
    "        for j in range(len(M1[i])):\n",
    "            if i==j:\n",
    "                M1[i,j] = 1000\n",
    "    while len(M1)>1:\n",
    "        Indice = np.argmin(M1)\n",
    "        i,j = np.unravel_index(np.argmin(M1), M1.shape)  #trouve la ligne et la colonne correspondant au argmin\n",
    "        d = np.round(M1[i,j]/2,1)\n",
    "\n",
    "        for l in range(len(M1)):\n",
    "            if l!=i and l!=j:\n",
    "                M1[i,l] = (M1[i,l]*Cardinal[i]+M1[j,l]*Cardinal[l])/(Cardinal[i]+Cardinal[l])\n",
    "                M1[l,i] = M1[i,l]\n",
    "        \n",
    "        \n",
    "        \n",
    "        parent = nodes.pop(0)\n",
    "        child1, child2 = Clusters[i], Clusters[j]\n",
    "        di = d         \n",
    "            \n",
    "        while child1 in arbre or child2 in arbre:         # tant que un des enfants est un noeud on n'a pas atteint la longueur \n",
    "            if child1 in arbre:\n",
    "                print('add1', arbre[child1][1][1])\n",
    "                print('d avant:',di)\n",
    "                di += arbre[child1][1][1]\n",
    "                print('d après', di)\n",
    "                child1,child2 = arbre[child1][1][0], arbre[child1][2][0]\n",
    "            elif child2 in arbre:\n",
    "                print('add2', arbre[child2][1][1])\n",
    "                print('d avant:',di)\n",
    "                di += arbre[child2][1][1]\n",
    "                print('d après', di)\n",
    "                child1,child2 = arbre[child2][1][0], arbre[child2][2][0]\n",
    "                \n",
    "        if Clusters[i] in arbre and not Clusters[j] in arbre :\n",
    "            arbre[parent] = (Cardinal[i]+Cardinal[j], (Clusters[i], d), (Clusters[j], di))\n",
    "        elif Clusters[j] in arbre and not Clusters[i] in arbre:\n",
    "            arbre[parent] = (Cardinal[i]+Cardinal[j], (Clusters[i], di), (Clusters[j], d))\n",
    "        else:\n",
    "            arbre[parent] = (Cardinal[i]+Cardinal[j], (Clusters[i], d), (Clusters[j], d))\n",
    "        print(arbre)\n",
    "                \n",
    "        Clusters[i] = parent\n",
    "        del Clusters[j]\n",
    "        Cardinal[i] += Cardinal[j]\n",
    "        del Cardinal[j]\n",
    "        M1 = np.delete(M1,j,0)\n",
    "        M1 = np.delete(M1,j,1)\n",
    "\n",
    "    return M1, arbre, Clusters[0]"
   ]
  },
  {
   "cell_type": "code",
   "execution_count": 46,
   "id": "97b7450d",
   "metadata": {},
   "outputs": [
    {
     "name": "stdout",
     "output_type": "stream",
     "text": [
      "{'a': (2, ('B', 0.5), ('F', 0.5))}\n",
      "{'a': (2, ('B', 0.5), ('F', 0.5)), 'b': (2, ('A', 4.0), ('D', 4.0))}\n",
      "add1 0.5\n",
      "d avant: 6.2\n",
      "d après 6.7\n",
      "{'a': (2, ('B', 0.5), ('F', 0.5)), 'b': (2, ('A', 4.0), ('D', 4.0)), 'c': (3, ('a', 6.2), ('G', 6.7))}\n",
      "add1 4.0\n",
      "d avant: 7.8\n",
      "d après 11.8\n",
      "{'a': (2, ('B', 0.5), ('F', 0.5)), 'b': (2, ('A', 4.0), ('D', 4.0)), 'c': (3, ('a', 6.2), ('G', 6.7)), 'd': (5, ('b', 7.8), ('c', 7.8))}\n",
      "add1 7.8\n",
      "d avant: 13.9\n",
      "d après 21.7\n",
      "add1 4.0\n",
      "d avant: 21.7\n",
      "d après 25.7\n",
      "{'a': (2, ('B', 0.5), ('F', 0.5)), 'b': (2, ('A', 4.0), ('D', 4.0)), 'c': (3, ('a', 6.2), ('G', 6.7)), 'd': (5, ('b', 7.8), ('c', 7.8)), 'e': (6, ('d', 13.9), ('C', 25.7))}\n",
      "add1 13.9\n",
      "d avant: 16.9\n",
      "d après 30.799999999999997\n",
      "add1 7.8\n",
      "d avant: 30.799999999999997\n",
      "d après 38.599999999999994\n",
      "add1 4.0\n",
      "d avant: 38.599999999999994\n",
      "d après 42.599999999999994\n",
      "{'a': (2, ('B', 0.5), ('F', 0.5)), 'b': (2, ('A', 4.0), ('D', 4.0)), 'c': (3, ('a', 6.2), ('G', 6.7)), 'd': (5, ('b', 7.8), ('c', 7.8)), 'e': (6, ('d', 13.9), ('C', 25.7)), 'f': (7, ('e', 16.9), ('E', 42.599999999999994))}\n",
      "[[1000.]]\n"
     ]
    }
   ],
   "source": [
    "M3 = np.array(M3,dtype=float)\n",
    "UPGMAD\n",
    "print(UPGMA(M3)[0])"
   ]
  },
  {
   "cell_type": "code",
   "execution_count": 47,
   "id": "3ade6086",
   "metadata": {},
   "outputs": [
    {
     "name": "stdout",
     "output_type": "stream",
     "text": [
      "{'a': (2, ('B', 0.5), ('F', 0.5))}\n",
      "{'a': (2, ('B', 0.5), ('F', 0.5)), 'b': (2, ('A', 4.0), ('D', 4.0))}\n",
      "add1 0.5\n",
      "d avant: 6.2\n",
      "d après 6.7\n",
      "{'a': (2, ('B', 0.5), ('F', 0.5)), 'b': (2, ('A', 4.0), ('D', 4.0)), 'c': (3, ('a', 6.2), ('G', 6.7))}\n",
      "add1 4.0\n",
      "d avant: 7.8\n",
      "d après 11.8\n",
      "{'a': (2, ('B', 0.5), ('F', 0.5)), 'b': (2, ('A', 4.0), ('D', 4.0)), 'c': (3, ('a', 6.2), ('G', 6.7)), 'd': (5, ('b', 7.8), ('c', 7.8))}\n",
      "add1 7.8\n",
      "d avant: 13.9\n",
      "d après 21.7\n",
      "add1 4.0\n",
      "d avant: 21.7\n",
      "d après 25.7\n",
      "{'a': (2, ('B', 0.5), ('F', 0.5)), 'b': (2, ('A', 4.0), ('D', 4.0)), 'c': (3, ('a', 6.2), ('G', 6.7)), 'd': (5, ('b', 7.8), ('c', 7.8)), 'e': (6, ('d', 13.9), ('C', 25.7))}\n",
      "add1 13.9\n",
      "d avant: 16.9\n",
      "d après 30.799999999999997\n",
      "add1 7.8\n",
      "d avant: 30.799999999999997\n",
      "d après 38.599999999999994\n",
      "add1 4.0\n",
      "d avant: 38.599999999999994\n",
      "d après 42.599999999999994\n",
      "{'a': (2, ('B', 0.5), ('F', 0.5)), 'b': (2, ('A', 4.0), ('D', 4.0)), 'c': (3, ('a', 6.2), ('G', 6.7)), 'd': (5, ('b', 7.8), ('c', 7.8)), 'e': (6, ('d', 13.9), ('C', 25.7)), 'f': (7, ('e', 16.9), ('E', 42.599999999999994))}\n",
      "res ((((A:4.0,D:4.0):7.8,((B:0.5,F:0.5):6.2,G:6.7):7.8):13.9,C:25.7):16.9,E:42.599999999999994)\n"
     ]
    }
   ],
   "source": [
    "def pile_str_modifie(arbre, parent, leaf):\n",
    "    \"\"\"\n",
    "    Fonction qui convertit l'arbre de l'algorithme NJ\n",
    "    \"\"\"\n",
    "    Res = ''\n",
    "    pile = [ parent ]\n",
    "    while pile != []:\n",
    "        ref = pile.pop(-1)\n",
    "        if ref in arbre.keys():\n",
    "            pile.append(')')\n",
    "            pile.append(':' + str(arbre[ref][2][1]))\n",
    "            pile.append(arbre[ref][2][0])\n",
    "            pile.append(',')\n",
    "            pile.append(':' + str(arbre[ref][1][1]))\n",
    "            pile.append(arbre[ref][1][0])\n",
    "            pile.append('(')\n",
    "        else:\n",
    "            Res += ref\n",
    "    return Res\n",
    "\n",
    "feuilles = ['A', 'B', 'C', 'D', 'E', 'F', 'G']\n",
    "mat, arbre, racine = UPGMA(M3)\n",
    "res = pile_str_modifie(arbre, racine, feuilles)\n",
    "print('res', res)"
   ]
  },
  {
   "cell_type": "code",
   "execution_count": null,
   "id": "82e32665",
   "metadata": {},
   "outputs": [],
   "source": [
    "'(((((F:0.5,B:0.5):5.75,G:6.25):3.25,(D:4.0,A:4.0):5.5):3.5,C:13.0):4.0,E:17.0)'"
   ]
  },
  {
   "cell_type": "code",
   "execution_count": null,
   "id": "00e0b088",
   "metadata": {},
   "outputs": [],
   "source": [
    "UPGMAD = pd.DataFrame(UPGMA(M3))\n",
    "UPGMAD"
   ]
  },
  {
   "cell_type": "markdown",
   "id": "fdd92eb8",
   "metadata": {},
   "source": [
    "## 3. NJ"
   ]
  },
  {
   "cell_type": "markdown",
   "id": "e87dd6c8",
   "metadata": {},
   "source": [
    "##### Question 1"
   ]
  },
  {
   "cell_type": "code",
   "execution_count": null,
   "id": "800099fa",
   "metadata": {},
   "outputs": [],
   "source": [
    "def U(M,i,N):      #i est l'indice sur les lignes représente un cluster donné\n",
    "    u=0\n",
    "    n=len(M)\n",
    "    for j in range (n):\n",
    "        u+=M[i,j]/(N-2)\n",
    "    return u"
   ]
  },
  {
   "cell_type": "code",
   "execution_count": null,
   "id": "4b3ea223",
   "metadata": {},
   "outputs": [],
   "source": [
    "print(U(M3,0,7))\n",
    "print(M3)"
   ]
  },
  {
   "cell_type": "markdown",
   "id": "9b1c053e",
   "metadata": {},
   "source": [
    "##### Question 2"
   ]
  },
  {
   "cell_type": "code",
   "execution_count": null,
   "id": "1ad43ce9",
   "metadata": {},
   "outputs": [],
   "source": [
    "def Q(M,i,j,n):\n",
    "    Ui=U(M,i,n)\n",
    "    Uj=U(M,j,n)\n",
    "    return M[i,j]-Ui-Uj"
   ]
  },
  {
   "cell_type": "code",
   "execution_count": null,
   "id": "cf585544",
   "metadata": {},
   "outputs": [],
   "source": [
    "print(Q(M3,1,5,7))"
   ]
  },
  {
   "cell_type": "markdown",
   "id": "c32c797f",
   "metadata": {},
   "source": [
    "##### Question 3"
   ]
  },
  {
   "cell_type": "code",
   "execution_count": null,
   "id": "a7adde59",
   "metadata": {},
   "outputs": [],
   "source": [
    "def NJ(M):\n",
    "    Alphabet = 'ABCDEFGHIJKLMNOPQRSTUVWXYZ'\n",
    "    nodes = 'abcdefghijklmopqrstuvwxyz'\n",
    "    nodes = [i for i in nodes]\n",
    "    N=len(M)\n",
    "    Clusters = [Alphabet[i] for i in range(N)]\n",
    "    print('Clusters', Clusters)\n",
    "    M1 = np.copy(M)\n",
    "    arbre = {}\n",
    "    for k in range(len(M1)):\n",
    "        M1[k,k]=1000\n",
    "    while len(M1)>1:\n",
    "        n = len(M1)\n",
    "        MQ = np.zeros((n,n),dtype='float')\n",
    "        for k in range(n):\n",
    "            MQ[k,k] = 1000\n",
    "        comb = it.combinations(range(n),2)\n",
    "        for groupe in comb:\n",
    "            i, j = groupe\n",
    "            MQ[i,j] = Q(M1,i,j,N)\n",
    "            MQ[j,i] = Q(M1,i,j,N)\n",
    "        i,j = np.unravel_index(np.argmin(MQ), MQ.shape)\n",
    "        Ui = U(M1,i,N)\n",
    "        Uj = U(M1,j,N)\n",
    "        d = M1[i,j]\n",
    "        Di = (d+(Ui-Uj))/2\n",
    "        Dj = (d+(Uj-Ui))/2\n",
    "        \n",
    "        print('i', i)\n",
    "        print('j', j)\n",
    "        parent = nodes.pop(0)\n",
    "        arbre[parent] = (0, (Clusters[i],Di), (Clusters[j],Dj))\n",
    "        \n",
    "        Clusters[i] = parent\n",
    "        print(j, Clusters[j])\n",
    "        Clusters.pop(j)\n",
    "        print('Clusters', Clusters)\n",
    "        \n",
    "        for l in range(len(M1)):\n",
    "            if l!=i and l!=j:\n",
    "                M1[i,l] = (M1[i,l]+M1[j,l]-d)/2\n",
    "                M1[l,i] = M1[i,l]\n",
    "        M1 = np.delete(M1,j,0)\n",
    "        M1 = np.delete(M1,j,1)\n",
    "        print(M1)\n",
    "    return arbre, Clusters[0]\n",
    "    "
   ]
  },
  {
   "cell_type": "code",
   "execution_count": null,
   "id": "6f8cd697",
   "metadata": {},
   "outputs": [],
   "source": [
    "print(NJ(M3))"
   ]
  },
  {
   "cell_type": "code",
   "execution_count": null,
   "id": "057277d8",
   "metadata": {},
   "outputs": [],
   "source": [
    "def pile_str_modifie(arbre, parent, leaf):\n",
    "    \"\"\"\n",
    "    Fonction qui convertit l'arbre de l'algorithme NJ\n",
    "    \"\"\"\n",
    "    Res = ''\n",
    "    pile = [ parent ]\n",
    "    while pile != []:\n",
    "        ref = pile.pop(-1)\n",
    "        if ref in arbre.keys():\n",
    "            pile.append(')')\n",
    "            pile.append(':' + str(arbre[ref][2][1]))\n",
    "            pile.append(arbre[ref][2][0])\n",
    "            pile.append(',')\n",
    "            pile.append(':' + str(arbre[ref][1][1]))\n",
    "            pile.append(arbre[ref][1][0])\n",
    "            pile.append('(')\n",
    "        else:\n",
    "            Res += ref\n",
    "    return Res\n",
    "\n",
    "tree, parent = NJ(M3)"
   ]
  },
  {
   "cell_type": "code",
   "execution_count": null,
   "id": "03b9f700",
   "metadata": {},
   "outputs": [],
   "source": [
    "Alphabet = 'ABCDEFGHIJKLMNOPQRSTUVWXYZ'\n",
    "feuilles = [Alphabet[i] for i in range(len(M3))]\n",
    "print(tree)\n",
    "Newick = pile_str_modifie(tree, parent , feuilles)\n",
    "print(Newick)"
   ]
  }
 ],
 "metadata": {
  "kernelspec": {
   "display_name": "Python 3 (ipykernel)",
   "language": "python",
   "name": "python3"
  },
  "language_info": {
   "codemirror_mode": {
    "name": "ipython",
    "version": 3
   },
   "file_extension": ".py",
   "mimetype": "text/x-python",
   "name": "python",
   "nbconvert_exporter": "python",
   "pygments_lexer": "ipython3",
   "version": "3.9.7"
  }
 },
 "nbformat": 4,
 "nbformat_minor": 5
}
