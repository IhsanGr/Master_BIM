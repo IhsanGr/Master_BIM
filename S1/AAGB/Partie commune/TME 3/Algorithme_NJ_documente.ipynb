{
 "cells": [
  {
   "cell_type": "code",
   "execution_count": 62,
   "id": "23c8dc23",
   "metadata": {},
   "outputs": [],
   "source": [
    "import pandas as pds\n",
    "import itertools as it\n",
    "import numpy as np\n",
    "from copy import copy"
   ]
  },
  {
   "cell_type": "code",
   "execution_count": 63,
   "id": "647a4f95",
   "metadata": {},
   "outputs": [],
   "source": [
    "def ultrametricite(matrice):\n",
    "    taille = len(matrice)\n",
    "    for i in range(taille):\n",
    "        for j in range(taille):\n",
    "            for k in range(taille):\n",
    "                if i !=j !=k:\n",
    "                    if not matrice[i][k] <= max( matrice[i][j], matrice[j][k] ):\n",
    "                        return False\n",
    "    return True\n",
    "\n",
    "def additive(matrice):\n",
    "    taille = len(matrice)\n",
    "    for i in range(taille):\n",
    "        for j in range(taille):\n",
    "            for k in range(taille):\n",
    "                for l in range(taille):\n",
    "                    if i !=j !=k !=l:\n",
    "                        maxi = max(matrice[i][k]+matrice[j][l], matrice[i][l]+matrice[j][k])\n",
    "                        if not matrice[i][j]+matrice[k][l] <= maxi:\n",
    "                            return False\n",
    "    return True\n",
    "\n",
    "def ultrametricite(matrice):\n",
    "    tools = it.combinations(range(len(matrice)), 3)\n",
    "    for tool in tools:\n",
    "        i,j,k = tool\n",
    "        if not ( matrice[i][k] <= max( matrice[i][j], matrice[j][k] )):\n",
    "            return False\n",
    "    return True\n",
    "\n",
    "def additive(matrice):\n",
    "    tools = it.combinations(range(len(matrice)), 4)\n",
    "    for tool in tools:\n",
    "        i,j,k,l = tool\n",
    "        maxi = max(matrice[i][k]+matrice[j][l], matrice[i][l]+matrice[j][k])\n",
    "        if not matrice[i][j]+matrice[k][l] <= maxi:\n",
    "            return False\n",
    "    return True\n",
    "\n",
    "# Toute distance ultramétrique est additive, mais le contraire n'est pas vrai\n",
    "\n",
    "def somme_distances(matrice):\n",
    "    \"\"\"\n",
    "    somme des distances pour chaque cluster\n",
    "    \"\"\"\n",
    "    taille = len(matrice)\n",
    "    Sommes = [0 for i in range(taille)]\n",
    "    for i in range(taille):\n",
    "        for j in range(taille):\n",
    "            if i<j:\n",
    "                Sommes[i] += matrice[i][j]\n",
    "            elif i>j:\n",
    "                Sommes[i] += matrice[j][i]\n",
    "    return Sommes\n",
    "\n",
    "def somme_clusterI(matrice, i):\n",
    "    return np.sum(matrice[i])\n",
    "def somme_clusters(matrice):\n",
    "    return np.sum(matrice, axis=1)"
   ]
  },
  {
   "cell_type": "code",
   "execution_count": 64,
   "id": "52940588",
   "metadata": {},
   "outputs": [],
   "source": [
    "M1 = [[0,8,7,12],\n",
    "      [8,0,9,14],\n",
    "      [7,9,0,11],\n",
    "      [12,14,11,0]]\n",
    "\n",
    "M2 = [[0,2,3,8,14,18],\n",
    "      [2,0,3,8,14,18],\n",
    "      [3,3,0,8,14,18],\n",
    "      [8,8,8,0,14,18],\n",
    "      [14,14,14,14,0,18],\n",
    "      [18,18,18,18,18,0]]\n",
    "\n",
    "#UPGMA\n",
    "M3 = [[0,19,27,8,33,18,13],\n",
    "      [19,0,31,18,36,1,13],\n",
    "      [27,31,0,26,41,32,29],\n",
    "      [8,18,26,0,31,17,14],\n",
    "      [33,36,41,31,0,35,28],\n",
    "      [18,1,32,17,35,0,12],\n",
    "      [13,13,29,14,28,12,0]]\n",
    "#Neighbor Joining\n",
    "M4 = [[0,2,4,6,6,8],\n",
    "      [2,0,4,6,6,8],\n",
    "      [4,4,0,6,6,8],\n",
    "      [6,6,6,0,4,8],\n",
    "      [6,6,6,4,0,8],\n",
    "      [8,8,8,8,8,0]]"
   ]
  },
  {
   "cell_type": "code",
   "execution_count": 65,
   "id": "370243d7",
   "metadata": {},
   "outputs": [
    {
     "name": "stdout",
     "output_type": "stream",
     "text": [
      "M1 est additive\n",
      "M2 est ultramétrique\n",
      "M3 n'est ni ultramétrique ni addtive\n",
      "M4 est ultramétrique\n"
     ]
    }
   ],
   "source": [
    "M = [M1,M2,M3,M4]\n",
    "names = ['M1','M2','M3','M4']\n",
    "for m in M:\n",
    "    if ultrametricite(m):\n",
    "        print(names[M.index(m)], 'est ultramétrique')\n",
    "    elif additive(m):\n",
    "        print(names[M.index(m)], 'est additive')\n",
    "    else:\n",
    "        print(names[M.index(m)], 'n\\'est ni ultramétrique ni addtive')"
   ]
  },
  {
   "cell_type": "code",
   "execution_count": 5,
   "id": "bb4f8904",
   "metadata": {},
   "outputs": [
    {
     "name": "stdout",
     "output_type": "stream",
     "text": [
      "[27 31 27 37]\n"
     ]
    }
   ],
   "source": [
    "print(somme_clusters(np.array(M1)))"
   ]
  },
  {
   "cell_type": "code",
   "execution_count": 100,
   "id": "6bab7839",
   "metadata": {},
   "outputs": [],
   "source": [
    "def NJ(matrice):\n",
    "    \"\"\"\n",
    "    Au même titre que UPGMA, NJ renvoie un arbre sous forme de dictionnaire de la forme :\n",
    "        arbre[parent] = (poids du parent, (enfant1, distance_enfant1), (enfant) \n",
    "    \"\"\"\n",
    "    L = 'ABCDEFGHIJKLMNOPQRSTUVWXYZ'\n",
    "    nodes = [L[i] for i in range(len(matrice))]  # on initialise les clusters\n",
    "    noeuds_internes = 'abcdefghijklmnopqrstuvwxyz'  # on initialise les noeuds intermédiaires\n",
    "    arbre = {}\n",
    "    matdist = np.copy(matrice)\n",
    "    while len(nodes) > 2:\n",
    "        # Calcul des distances de chaque cluster avec le reste de l'arbre\n",
    "        Qi = calcul_Qi(matdist)\n",
    "        \n",
    "        # On prend i et j tel que Qi soit minimal\n",
    "        Ni, Nj = np.unravel_index(np.argmin(Qi), Qi.shape)\n",
    "        \n",
    "        # On calcule les longueurs des branches entre le nouveau noeud formé et les deux noeuds enfants\n",
    "        Li, Lj = longueur_des_branches(Ni, Nj, nodes, matdist, arbre)\n",
    "        \n",
    "        # On met à jour l'arbre avec les données du noeud parent et des deux noeuds enfants\n",
    "        parent, wi, wj, noeuds_internes = ajouter_noeud(arbre, Ni, Li, Nj, Lj, nodes, noeuds_internes)\n",
    "        \n",
    "        #for key in arbre:\n",
    "        #    print(key, arbre[key])\n",
    "        #print('NODES', nodes)\n",
    "        \n",
    "        # On supprime les deux noeuds enfant et on rajoute le noeud parent\n",
    "        nodes.remove(nodes[Ni])\n",
    "        nodes.remove(nodes[Nj-1])\n",
    "        nodes.append(parent)\n",
    "        #print('NODES', nodes)\n",
    "        \n",
    "        # On ajoute enlève les deux lignes et colonnes i et j puis l'on rajoute leur noeud parent à la matrice\n",
    "        matdist = update(matdist, Ni, Nj, wi, wj)\n",
    "        \n",
    "    # il ne reste que deux noeuds : Ni=0, Nj=1\n",
    "    matrice_somme = np.sum(matdist, axis=1)\n",
    "    Li = (matdist[0,1]/2) + (matdist[0][1]-matdist[1][0])/2\n",
    "    Lj = (matdist[0,1]/2) + (matdist[1][0]-matdist[0][1])/2\n",
    "    parent, wi, wj, noeuds_internes = ajouter_noeud(arbre, 0, Li, 1, Lj, nodes, noeuds_internes)\n",
    "    return arbre, parent\n",
    "\n",
    "\n",
    "\n",
    "\n",
    "def calcul_Qi(matrice):\n",
    "    \"\"\"\n",
    "    Fonction qui calcule la matrice des Qi de chaque cluster\n",
    "    \"\"\"\n",
    "    shape = matrice.shape\n",
    "    Qi_res = np.zeros(shape)\n",
    "    for i in range(shape[0]):\n",
    "        # on est sensé retrancher matrice[i,i] mais cette valeur est nulle\n",
    "        ui = np.sum(matrice, axis=1)[i] / (shape[0]-2)  \n",
    "        for j in range(shape[0]):\n",
    "            if j != i:\n",
    "                uj = np.sum(matrice, axis=1)[j] / (shape[0]-2)\n",
    "                Qi_res[i,j] = matrice[i,j] - ui - uj\n",
    "    return Qi_res\n",
    "\n",
    "def longueur_des_branches(i, j, noeuds, matrice, arbre):\n",
    "    \"\"\"\n",
    "    Fonction qui calcule et renvoie les distances de chaque noeud enfant par rapport au noeud parent\n",
    "    \"\"\"\n",
    "    matrice_somme = np.sum(matrice, axis=1)\n",
    "    di_ij = (matrice[i,j]/2) + (matrice_somme[i]-matrice_somme[j])/2\n",
    "    dj_ij = (matrice[i,j]/2) + (matrice_somme[j]-matrice_somme[i])/2\n",
    "    return di_ij, dj_ij\n",
    "\n",
    "def ajouter_noeud(arbre, Ni, Li, Nj, Lj, noeuds, unused_nodes):\n",
    "    \"\"\"\n",
    "    Fonction qui rajoute le noeud parent rattaché à ses deux noeuds enfants dans l'arbre\n",
    "    \"\"\"\n",
    "    # Si le noeud i est déjà dans l'arbre alors il possède un poids à l'emplacement 0\n",
    "    if noeuds[Ni] in arbre.keys():\n",
    "        wi = arbre[noeuds[Ni]][0]\n",
    "    else:\n",
    "        wi = 1\n",
    "    if noeuds[Nj] in arbre.keys():\n",
    "        wj = arbre[noeuds[Nj]][0]\n",
    "    else:\n",
    "        wj = 1\n",
    "    new_node = unused_nodes[0]\n",
    "    unused_nodes = unused_nodes[1:]\n",
    "    arbre[new_node] = (wi+wj, (noeuds[Ni], Li), (noeuds[Nj], Lj))\n",
    "    return new_node, wi, wj, unused_nodes\n",
    "\n",
    "def update(matrice, Ni, Nj, Wi, Wj):\n",
    "    \"\"\"\n",
    "    Fonciton qui met à jour la matrice en enlevant les deux noeuds enfants et en rajoutant le noeud parent\n",
    "    puis calcule les nouvelles valeurs de distance de ce noeud parent par rapport à chaque autre noeud restant\n",
    "    \"\"\"\n",
    "    copie = np.copy(matrice)\n",
    "    \n",
    "    # On garde en mémoire les valeurs supprimées pour pouvoir recalculer les nouvelles distances du nouveau noeud\n",
    "    I_values = list(copy(copie[Ni]))\n",
    "    J_values = list(copy(copie[Nj]))\n",
    "    I_values.pop(Ni)\n",
    "    I_values.pop(Nj-1)\n",
    "    J_values.pop(Ni)\n",
    "    J_values.pop(Nj-1)\n",
    "    \n",
    "    copie = np.delete(copie, Ni, 0) #On enlève la ligne i\n",
    "    copie = np.delete(copie, Ni, 1) #On enlève la colonne i\n",
    "    copie = np.delete(copie, Nj-1, 0) #On enlève la ligne j d'indice j-1 car on a déjà enlevé une ligne\n",
    "    copie = np.delete(copie, Nj-1, 1) #On enlève la colonne j d'indice j-1 car on a déjà enlevé une colonne\n",
    "    copie = np.concatenate((copie, np.zeros((1,copie.shape[0]))), axis=0) #On rajoute une ligne à la fin (en bas)\n",
    "    copie = np.concatenate((copie, np.zeros((copie.shape[1]+1,1))), axis=1) #On rajoute une colonne à la fin (à droite)\n",
    "    for k in range(copie.shape[0]-1):\n",
    "        copie[-1,k] = (I_values[k]+J_values[k]-matrice[Ni,Nj])/2 # remplissage de la dernière ligne\n",
    "        copie[k,-1] = (I_values[k]+J_values[k]-matrice[Ni,Nj])/2 # remplissage de la dernière colonne\n",
    "    return copie\n",
    "    \n",
    "M3 = [[0,19,27,8,33,18,13],\n",
    "      [19,0,31,18,36,1,13],\n",
    "      [27,31,0,26,41,32,29],\n",
    "      [8,18,26,0,31,17,14],\n",
    "      [33,36,41,31,0,35,28],\n",
    "      [18,1,32,17,35,0,12],\n",
    "      [13,13,29,14,28,12,0]]   \n",
    "M4 = [[0,2,4,6,6,8],\n",
    "      [2,0,4,6,6,8],\n",
    "      [4,4,0,6,6,8],\n",
    "      [6,6,6,0,4,8],\n",
    "      [6,6,6,4,0,8],\n",
    "      [8,8,8,8,8,0]]\n",
    "arbre, parent = NJ(np.array(M4))\n",
    "\n",
    "#print('FINAL',NJ(np.array(M4)))\n",
    "#data2 = NJ(np.array(M3))\n",
    "#print('FINAL',NJ(np.array(M3)))\n",
    "\n",
    "\n",
    "\n",
    "\n"
   ]
  },
  {
   "cell_type": "code",
   "execution_count": 103,
   "id": "a01ab4b2",
   "metadata": {},
   "outputs": [
    {
     "name": "stdout",
     "output_type": "stream",
     "text": [
      "M4 ((D:2.0,E:2.0):0.5,(F:5.0,(C:3.0,(A:1.0,B:1.0):0.0):1.0):0.5)\n"
     ]
    }
   ],
   "source": [
    "def pile_str_modifie(arbre, parent, leaf):\n",
    "    \"\"\"\n",
    "    Fonction qui convertit l'arbre de l'algorithme NJ\n",
    "    \"\"\"\n",
    "    Res = ''\n",
    "    pile = [ parent ]\n",
    "    while pile != []:\n",
    "        ref = pile.pop(-1)\n",
    "        if ref in arbre.keys():\n",
    "            pile.append(')')\n",
    "            pile.append(':' + str(arbre[ref][2][1]))\n",
    "            pile.append(arbre[ref][2][0])\n",
    "            pile.append(',')\n",
    "            pile.append(':' + str(arbre[ref][1][1]))\n",
    "            pile.append(arbre[ref][1][0])\n",
    "            pile.append('(')\n",
    "        else:\n",
    "            Res += ref\n",
    "    return Res\n",
    "\n",
    "feuilles = ['A', 'B', 'C', 'D', 'E', 'F', 'G']\n",
    "res_pile_M4 = pile_str_modifie(arbre, parent, feuilles)\n",
    "print('M4', res_pile_M3)"
   ]
  },
  {
   "cell_type": "code",
   "execution_count": 7,
   "id": "c09b1d01",
   "metadata": {},
   "outputs": [
    {
     "name": "stdout",
     "output_type": "stream",
     "text": [
      "[[1 2]\n",
      " [3 4]] (2, 2)\n",
      "[[5 6]] (1, 2)\n",
      "<class 'numpy.ndarray'>\n"
     ]
    },
    {
     "data": {
      "text/plain": [
       "array([[1, 2],\n",
       "       [3, 4],\n",
       "       [5, 6]])"
      ]
     },
     "execution_count": 7,
     "metadata": {},
     "output_type": "execute_result"
    }
   ],
   "source": [
    "a = np.array([[1, 2], [3, 4]])\n",
    "print(a,a.shape)\n",
    "b = np.array([[5, 6]])\n",
    "print(b,b.shape)\n",
    "print(type(a))\n",
    "np.concatenate((a, b), axis=0)"
   ]
  },
  {
   "cell_type": "code",
   "execution_count": 8,
   "id": "d5161aca",
   "metadata": {},
   "outputs": [
    {
     "name": "stdout",
     "output_type": "stream",
     "text": [
      "[[0. 0. 0. 0.]]\n",
      "[[0.]\n",
      " [0.]\n",
      " [0.]\n",
      " [0.]]\n",
      "[[0 6 6 8]\n",
      " [6 0 4 8]\n",
      " [6 4 0 8]\n",
      " [8 8 8 0]] (4, 4)\n"
     ]
    },
    {
     "ename": "ValueError",
     "evalue": "all the input arrays must have same number of dimensions, but the array at index 0 has 2 dimension(s) and the array at index 1 has 1 dimension(s)",
     "output_type": "error",
     "traceback": [
      "\u001b[1;31m---------------------------------------------------------------------------\u001b[0m",
      "\u001b[1;31mValueError\u001b[0m                                Traceback (most recent call last)",
      "\u001b[1;32m~\\AppData\\Local\\Temp/ipykernel_26544/2451423909.py\u001b[0m in \u001b[0;36m<module>\u001b[1;34m\u001b[0m\n\u001b[0;32m      7\u001b[0m \u001b[1;33m\u001b[0m\u001b[0m\n\u001b[0;32m      8\u001b[0m \u001b[0mprint\u001b[0m\u001b[1;33m(\u001b[0m\u001b[0mcopie\u001b[0m\u001b[1;33m,\u001b[0m \u001b[0mcopie\u001b[0m\u001b[1;33m.\u001b[0m\u001b[0mshape\u001b[0m\u001b[1;33m)\u001b[0m\u001b[1;33m\u001b[0m\u001b[1;33m\u001b[0m\u001b[0m\n\u001b[1;32m----> 9\u001b[1;33m \u001b[0mprint\u001b[0m\u001b[1;33m(\u001b[0m\u001b[0mnp\u001b[0m\u001b[1;33m.\u001b[0m\u001b[0mconcatenate\u001b[0m\u001b[1;33m(\u001b[0m\u001b[1;33m(\u001b[0m\u001b[0mcopie\u001b[0m\u001b[1;33m,\u001b[0m\u001b[0mnp\u001b[0m\u001b[1;33m.\u001b[0m\u001b[0mzeros\u001b[0m\u001b[1;33m(\u001b[0m\u001b[1;36m4\u001b[0m\u001b[1;33m)\u001b[0m\u001b[1;33m)\u001b[0m\u001b[1;33m,\u001b[0m\u001b[0maxis\u001b[0m\u001b[1;33m=\u001b[0m\u001b[1;36m0\u001b[0m\u001b[1;33m)\u001b[0m\u001b[1;33m)\u001b[0m\u001b[1;33m\u001b[0m\u001b[1;33m\u001b[0m\u001b[0m\n\u001b[0m",
      "\u001b[1;32m<__array_function__ internals>\u001b[0m in \u001b[0;36mconcatenate\u001b[1;34m(*args, **kwargs)\u001b[0m\n",
      "\u001b[1;31mValueError\u001b[0m: all the input arrays must have same number of dimensions, but the array at index 0 has 2 dimension(s) and the array at index 1 has 1 dimension(s)"
     ]
    }
   ],
   "source": [
    "copie = np.array([[0, 6, 6, 8],\n",
    " [6, 0, 4, 8],\n",
    " [6, 4, 0, 8],\n",
    " [8, 8, 8, 0]])\n",
    "print(np.zeros((1,4)))\n",
    "print(np.zeros((4,1)))\n",
    "\n",
    "print(copie, copie.shape)\n",
    "print(np.concatenate((copie,np.zeros(4)),axis=0))"
   ]
  },
  {
   "cell_type": "code",
   "execution_count": 27,
   "id": "5a73d230",
   "metadata": {},
   "outputs": [
    {
     "name": "stdout",
     "output_type": "stream",
     "text": [
      "(2, 3)\n",
      "[ 6 15]\n"
     ]
    }
   ],
   "source": [
    "A = np.array([[1,2,3], [4,5,6]])\n",
    "print(A.shape)\n",
    "print(np.sum(A,axis=1))"
   ]
  },
  {
   "cell_type": "code",
   "execution_count": null,
   "id": "88b22118",
   "metadata": {},
   "outputs": [],
   "source": [
    "x = np.array([[0, 6, 6, 8],\n",
    " [6, 0, 4, 8],\n",
    " [6, 4, 0, 8],\n",
    " [8, 8, 8, 0]])\n",
    "x += np.eye(4)*10\n",
    "print(x)\n",
    "res = np.unravel_index(np.argmin(x, axis=None), x.shape)\n",
    "\n",
    "print(res)"
   ]
  },
  {
   "cell_type": "code",
   "execution_count": null,
   "id": "3825f59e",
   "metadata": {},
   "outputs": [],
   "source": [
    "A = np.zeros(5)\n",
    "B = np.zeros(5).T\n",
    "print(A.shape, B.shape)"
   ]
  }
 ],
 "metadata": {
  "kernelspec": {
   "display_name": "Python 3 (ipykernel)",
   "language": "python",
   "name": "python3"
  },
  "language_info": {
   "codemirror_mode": {
    "name": "ipython",
    "version": 3
   },
   "file_extension": ".py",
   "mimetype": "text/x-python",
   "name": "python",
   "nbconvert_exporter": "python",
   "pygments_lexer": "ipython3",
   "version": "3.9.7"
  }
 },
 "nbformat": 4,
 "nbformat_minor": 5
}
