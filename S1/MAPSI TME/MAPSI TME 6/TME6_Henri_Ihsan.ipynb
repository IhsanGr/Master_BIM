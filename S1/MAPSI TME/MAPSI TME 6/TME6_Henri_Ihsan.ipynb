{
 "cells": [
  {
   "cell_type": "markdown",
   "metadata": {},
   "source": [
    "# TME sur la classification de lettres manuscrites\n",
    "## Format des données\n",
    "Nous travaillerons sur des lettres manuscrites.\n",
    "Les données sont fournies au format pickle (le standard de sérialisation python, particulièrement convivial). Pour les charger : "
   ]
  },
  {
   "cell_type": "code",
   "execution_count": 204,
   "metadata": {},
   "outputs": [],
   "source": [
    "import numpy as np\n",
    "import pickle as pkl\n",
    "import matplotlib.pyplot as plt\n",
    "\n",
    "with open('lettres.pkl', 'rb') as f:\n",
    "    data = pkl.load(f, encoding='latin1') \n",
    "X = np.array(data.get('letters'), dtype=object) # récupération des données sur les lettres\n",
    "Y = np.array(data.get('labels')) # récupération des étiquettes associées"
   ]
  },
  {
   "cell_type": "markdown",
   "metadata": {},
   "source": [
    "Les données sont dans un format original: une lettre est en fait une série d'angles (exprimés en degrés). Un exemple: "
   ]
  },
  {
   "cell_type": "code",
   "execution_count": 205,
   "metadata": {},
   "outputs": [
    {
     "data": {
      "text/plain": [
       "array([ 36.214493, 347.719116, 322.088898, 312.230957, 314.851013,\n",
       "       315.487213, 313.556702, 326.534973, 141.288971, 167.606689,\n",
       "       199.321594, 217.911087, 226.443298, 235.002472, 252.354492,\n",
       "       270.045654, 291.665161, 350.934723,  17.892815,  20.281025,\n",
       "        28.207161,  43.883423,  53.459026])"
      ]
     },
     "execution_count": 205,
     "metadata": {},
     "output_type": "execute_result"
    }
   ],
   "source": [
    "X[0]"
   ]
  },
  {
   "cell_type": "markdown",
   "metadata": {},
   "source": [
    "Lors de l'acquisition, un stylo intelligent a pris des mesures régulièrement dans le temps: chaque période correspond à un segment de droite et le stylo a calculé l'angle entre deux segments consécutifs... C'est l'information qui vous est fournie.\n",
    "\n",
    "Pour afficher une lettre, il faut reconstruire la trajectoire enregistrée... C'est ce que fait la méthode ci-dessous: "
   ]
  },
  {
   "cell_type": "code",
   "execution_count": 206,
   "metadata": {},
   "outputs": [],
   "source": [
    "# affichage d'une lettre\n",
    "def tracerLettre(let):\n",
    "    a = -let*np.pi/180; # conversion en rad\n",
    "    coord = np.array([[0, 0]]); # point initial\n",
    "    for i in range(len(a)):\n",
    "        x = np.array([[1, 0]])\n",
    "        rot = np.array([[np.cos(a[i]), -np.sin(a[i])],[ np.sin(a[i]),np.cos(a[i])]])\n",
    "        xr = x.dot(rot) # application de la rotation\n",
    "        coord = np.vstack((coord,xr+coord[-1,:]))\n",
    "    plt.figure()\n",
    "    plt.plot(coord[:,0],coord[:,1])\n",
    "    #plt.savefig(\"exlettre.png\")\n",
    "    return"
   ]
  },
  {
   "cell_type": "code",
   "execution_count": 207,
   "metadata": {},
   "outputs": [
    {
     "name": "stdout",
     "output_type": "stream",
     "text": [
      "[ 36.214493 347.719116 322.088898 312.230957 314.851013 315.487213\n",
      " 313.556702 326.534973 141.288971 167.606689 199.321594 217.911087\n",
      " 226.443298 235.002472 252.354492 270.045654 291.665161 350.934723\n",
      "  17.892815  20.281025  28.207161  43.883423  53.459026]\n",
      "a\n"
     ]
    },
    {
     "data": {
      "image/png": "[encoded data removed]",
      "text/plain": [
       "<Figure size 640x480 with 1 Axes>"
      ]
     },
     "metadata": {},
     "output_type": "display_data"
    }
   ],
   "source": [
    "# il s'agit d'un 'a'\n",
    "n = 0\n",
    "print(X[n])\n",
    "tracerLettre(X[n])\n",
    "print(Y[n]) # vérification de l'étiquette"
   ]
  },
  {
   "cell_type": "markdown",
   "metadata": {},
   "source": [
    "## A. Apprentissage d'un modèle CM (max de vraisemblance)\n",
    "### A1. Discrétisation\n",
    "\n",
    "**1 état = 1 angle**\n",
    "\n",
    "Il est nécessaire de regrouper les angles en un nombre fini d'états (par exemple 20)\n",
    "- définir un `intervalle = 360 / n_etats` (18° si on choisit 20 états)\n",
    "- discrétiser tous les signaux à l'aide de la formule `np.floor(x / intervalle)`\n",
    "    - si n_etats = 20 alors [0, 18[ => 0, [18, 36[ => 1, etc...\n",
    "\n",
    "Donner le code de la méthode `discretise(x, d)` qui prend la base des signaux et retourne une base de signaux discrétisés."
   ]
  },
  {
   "cell_type": "code",
   "execution_count": 208,
   "metadata": {},
   "outputs": [
    {
     "name": "stdout",
     "output_type": "stream",
     "text": [
      "[0.0 2.0 2.0 2.0 2.0 2.0 2.0 2.0 1.0 1.0 1.0 1.0 1.0 1.0 2.0 2.0 2.0 2.0\n",
      " 0.0 0.0 0.0 0.0 0.0]\n"
     ]
    }
   ],
   "source": [
    "def discretise(X, d):\n",
    "    \"\"\"\n",
    "    Fonction qui discrétise la répartition X en d intervalles\n",
    "    Renvoie un array de même taille que X avec l'intervalle associée pour chaque valeur\n",
    "    Chaque Intervalle correspond donc à une portion d'angle d'un disque de 360°\n",
    "    \"\"\"\n",
    "    intervalle = 360 / d\n",
    "    return np.array([np.floor(x / intervalle) for x in X], dtype=object)\n",
    "\n",
    "print(discretise(X[0],3))"
   ]
  },
  {
   "cell_type": "code",
   "execution_count": 209,
   "metadata": {},
   "outputs": [
    {
     "name": "stdout",
     "output_type": "stream",
     "text": [
      "[309.471771 298.097443 287.645508 280.141266 287.645508  60.959606\n",
      " 116.727104 156.056641 183.613403 210.800156 238.284058 253.906677\n",
      " 270.045654 270.045654 277.152832 332.303772  24.182476  35.657139\n",
      "  36.214493  41.429058]\n",
      "[2. 2. 2. 2. 2. 0. 0. 1. 1. 1. 1. 2. 2. 2. 2. 2. 0. 0. 0. 0.]\n"
     ]
    }
   ],
   "source": [
    "print(X[3])\n",
    "print(discretise(X,3)[3])"
   ]
  },
  {
   "cell_type": "markdown",
   "metadata": {},
   "source": [
    "**VALIDATION :** code du premier signal avec une discrétisation sur 3 états:\n",
    "```python\n",
    "array([ 0.,  2.,  2.,  2.,  2.,  2.,  2.,  2.,  1.,  1.,  1.,  1., 1., 1., 2., 2.,  2.,\n",
    "       2.,  0.,  0.,  0.,  0.,  0.])\n",
    "```"
   ]
  },
  {
   "cell_type": "markdown",
   "metadata": {},
   "source": [
    "### A2. Regrouper les indices des signaux par classe (pour faciliter l'apprentissage)"
   ]
  },
  {
   "cell_type": "code",
   "execution_count": 210,
   "metadata": {},
   "outputs": [
    {
     "name": "stdout",
     "output_type": "stream",
     "text": [
      "a\n",
      "(268,)\n",
      "[ 0  1  2  3  4  5  6  7  8  9 10] a\n",
      "[11 12 13 14 15 16 17 18 19 20 21] b\n",
      "[22 23 24 25 26 27 28 29 30 31 32] c\n",
      "[33 34 35 36 37 38 39 40 41 42 43] d\n",
      "[44 45 46 47 48 49 50 51 52 53 54] e\n",
      "[55 56 57 58 59 60 61 62 63 64 65] f\n",
      "[66 67 68 69 70 71 72 73 74 75 76] g\n",
      "[77 78 79 80 81 82 83 84 85 86 87] h\n",
      "[88 89 90 91 92 93 94 95 96 97] i\n",
      "[ 98  99 100 101 102 103 104 105 106 107] j\n",
      "[108 109 110 111 112 113 114 115 116 117] k\n",
      "[118 119 120 121 122 123 124 125 126 127] l\n",
      "[128 129 130 131 132 133 134 135 136 137] m\n",
      "[138 139 140 141 142 143 144 145 146 147] n\n",
      "[148 149 150 151 152 153 154 155 156 157] o\n",
      "[158 159 160 161 162 163 164 165 166 167] p\n",
      "[168 169 170 171 172 173 174 175 176 177] q\n",
      "[178 179 180 181 182 183 184 185 186 187] r\n",
      "[188 189 190 191 192 193 194 195 196 197] s\n",
      "[198 199 200 201 202 203 204 205 206 207] t\n",
      "[208 209 210 211 212 213 214 215 216 217] u\n",
      "[218 219 220 221 222 223 224 225 226 227] v\n",
      "[228 229 230 231 232 233 234 235 236 237] w\n",
      "[238 239 240 241 242 243 244 245 246 247] x\n",
      "[248 249 250 251 252 253 254 255 256 257] y\n",
      "[258 259 260 261 262 263 264 265 266 267] z\n"
     ]
    }
   ],
   "source": [
    "def groupByLabel(y):\n",
    "    \"\"\"\n",
    "    Fonction qui renvoie une matrice contenant des array des indices de chaque classe associée\n",
    "    La première classe étant associée à la lettre 'a', le premier array de la matrice correspondra à tous\n",
    "    les indices des images de cette lettre dans la liste X\n",
    "    \"\"\"\n",
    "    index = []\n",
    "    for i in np.unique(y): # pour toutes les classes\n",
    "        ind, = np.where(y == i)\n",
    "        index.append(ind)\n",
    "    return index\n",
    "\n",
    "print(Y[0])\n",
    "print(Y.shape)\n",
    "for i in range(len(groupByLabel(Y))):\n",
    "    print(groupByLabel(Y)[i], np.unique(Y)[i])"
   ]
  },
  {
   "cell_type": "markdown",
   "metadata": {},
   "source": [
    "Cette méthode produit simplement une structure type:\n",
    "```python\n",
    "[array([ 0,  1,  2,  3,  4,  5,  6,  7,  8,  9, 10]),\n",
    " array([11, 12, 13, 14, 15, 16, 17, 18, 19, 20, 21]),\n",
    " array([22, 23, 24, 25, 26, 27, 28, 29, 30, 31, 32]),\n",
    " array([33, 34, 35, 36, 37, 38, 39, 40, 41, 42, 43]),\n",
    " array([44, 45, 46, 47, 48, 49, 50, 51, 52, 53, 54]),\n",
    " array([55, 56, 57, 58, 59, 60, 61, 62, 63, 64, 65]),\n",
    " ...\n",
    "```\n",
    "Chaque ligne regroupe les indices de signaux correspondant à une classe. Il y a donc 11 exemples de 'a'."
   ]
  },
  {
   "cell_type": "markdown",
   "metadata": {},
   "source": [
    "### A3. Apprendre les modèles CM\n",
    "\n",
    "Soit {$X_C$} la base de signaux discrétisés correspondant à une classe {$C$} et {$d$} le nombre d'états. Donner le code de la fonction `learnMarkovModel(Xc, d)` qui retourne un tuple contenant Pi et A.\n",
    "\n",
    "Rappel:\n",
    "- Initialisation de \n",
    "```python\n",
    " A = np.zeros((d, d))\n",
    " Pi = np.zeros(d)```\n",
    "- Parcours de tous les signaux et incréments de A et Pi\n",
    "- Normalisation (un peu réfléchie pour éviter les divisions par 0)\n",
    "```python\n",
    "A = A / np.maximum(A.sum(1).reshape(d, 1), 1) # normalisation\n",
    "Pi = Pi / Pi.sum()```\n",
    "\n",
    "**Note** : la solution proposée pour gérer le cas des lignes entièrement à 0 est naïve et n'est pas totalement satisfaisante. Comprendre pourquoi. On proposera une solution améliorée plus loin dans le TME. "
   ]
  },
  {
   "cell_type": "code",
   "execution_count": 211,
   "metadata": {},
   "outputs": [
    {
     "name": "stdout",
     "output_type": "stream",
     "text": [
      "Pi=\n",
      " [0.36363636 0.         0.63636364]\n",
      "\n",
      "A=\n",
      " [[0.84444444 0.06666667 0.08888889]\n",
      " [0.         0.83333333 0.16666667]\n",
      " [0.11382114 0.06504065 0.82113821]]\n"
     ]
    }
   ],
   "source": [
    "def learnMarkovModel(Xc, d):\n",
    "    A = np.zeros((d,d))\n",
    "    Pi = np.zeros(d)\n",
    "    \n",
    "    for x in Xc:\n",
    "        Pi[int(x[0])] += 1\n",
    "        for index in range(len(x)-1):\n",
    "            # index = instant t\n",
    "            # index+1 = instant t+1\n",
    "            A[ int(x[index]), int(x[index+1]) ] += 1\n",
    "    A = A / np.maximum(A.sum(1).reshape(d, 1), 1)\n",
    "    Pi = Pi / Pi.sum()    \n",
    "            \n",
    "    return Pi, A\n",
    "    \n",
    "Xc = np.array([ discretise(X, 3)[a] for a in groupByLabel(Y)[0]], dtype=object)\n",
    "\n",
    "Pi, A = learnMarkovModel(Xc, 3)\n",
    "\n",
    "print('Pi=\\n', Pi)\n",
    "print()\n",
    "print('A=\\n', A)\n",
    "\n",
    "# Pi la probabilité initiale de commencer dans un des états donnés, les états étant des angles\n",
    "# A la matrice de transisiton d'un instant t à t+1\n"
   ]
  },
  {
   "cell_type": "markdown",
   "metadata": {},
   "source": [
    "**Validation :** premier modèle avec une discrétisation sur 3 états :\n",
    "```python\n",
    "(array([ 0.36363636,  0.        ,  0.63636364]),\n",
    " array([[ 0.84444444,  0.06666667,  0.08888889],\n",
    "       [ 0.        ,  0.83333333,  0.16666667],\n",
    "       [ 0.11382114,  0.06504065,  0.82113821]]))\n",
    "```"
   ]
  },
  {
   "cell_type": "markdown",
   "metadata": {},
   "source": [
    "### A4. Stocker les modèles dans une liste\n",
    "\n",
    "Pour un usage ultérieur plus facile, on utilise le code suivant :"
   ]
  },
  {
   "cell_type": "code",
   "execution_count": 212,
   "metadata": {},
   "outputs": [
    {
     "name": "stdout",
     "output_type": "stream",
     "text": [
      "26 2 20 (20, 20)\n"
     ]
    }
   ],
   "source": [
    "d = 20                   # paramètre de discrétisation\n",
    "Xd = discretise(X, d)    # application de la discrétisation\n",
    "index = groupByLabel(Y)  # groupement des signaux par classe\n",
    "models = []\n",
    "for cl in range(len(np.unique(Y))): # parcours de toutes les classes et optimisation des modèles\n",
    "    models.append(learnMarkovModel( Xd[ index[cl] ], d) )\n",
    "    \n",
    "print(len(models), len(models[0]), len(models[0][0]), models[0][1].shape)\n",
    "# 26 champs correspondants à chaque classe=lettre\n",
    "#contenant 2 objets : le vecteur Pi et la matrice de transition A"
   ]
  },
  {
   "cell_type": "markdown",
   "metadata": {},
   "source": [
    "index[cl] représente l'ensemble des indices de la classe cl\n",
    "on peut appeler l'ensemble des vecteurs de ces indices dans Xd directement grâce à numpy\n",
    "\n",
    "$ A = np.array([k*2 for k in range(10)]) $\n",
    "\n",
    "$ print(A[ [0,5,9] ])$\n",
    "\n",
    "Va print un array qui contient les Valeurs des indices 0,5 et 9 de A\n"
   ]
  },
  {
   "cell_type": "code",
   "execution_count": 213,
   "metadata": {},
   "outputs": [
    {
     "name": "stdout",
     "output_type": "stream",
     "text": [
      "[ 0  2  4  6  8 10 12 14 16 18]\n",
      "[ 0 10 18]\n"
     ]
    }
   ],
   "source": [
    "A = np.array([k*2 for k in range(10)])\n",
    "print(A)\n",
    "print(A[ [0,5,9] ])"
   ]
  },
  {
   "cell_type": "markdown",
   "metadata": {},
   "source": [
    "### A5. Distribution stationnaire\n",
    "\n",
    "La distribution stationnaire $\\mu$, pour un système ergodique, correspond à:\n",
    "\n",
    "- la distribution des états observés dans l'ensemble des données\n",
    "- la distribution obtenue après un grand nombre de passages dans $A$ à partir de n'importe quelle distribution ou état d'origine (une matrice de transition ergodique va nous permettre de converger)\n",
    "- la solution de l'équation de stabilité: $\\mu = \\mu A$\n",
    "\n",
    "Dans le cas de la lettre 'a' et d'une discrétisation en 3 états, calculer la distribution stationnaire par les deux premières méthodes et vérifier que vous obtenez des résultats similaires.\n",
    "\n",
    "**Note 1:** pour la marche aléatoire, vous construirez une boucle sur 100 iérations (borne sup) et vous sortirez dès que la somme des écarts (en absolu) entre $\\mu_t$ et $\\mu_{t+1}$ est inférieure à $10^{-3}$. Vous vérifierez ensuite que le système converge quelque soit l'état de départ (3 appel àla fonction) ou avec une initialisation aléatoire.\n",
    "\n",
    "**Note 2:** les deux approches, bien que reposant sur les mêmes données, vont donner des solutions différentes. En effet, il n'y a que peu d'observations et le premier calcul repose sur les états alors que le second repose sur les transitions. \n",
    "Afin de vérifier l'exactitude de votre code, vous pourrez revenir sur cette question en fin de sujet avec le protocole suivant:\n",
    "1. utiliser la matrice de transition de 'a' pour générer une séquence de longeur 100000\n",
    "1. faire les statistiques des états (à l'aide d'un ```Counter``` par exemple)\n",
    "1. vérifier la convergence sur de longues séquences"
   ]
  },
  {
   "cell_type": "code",
   "execution_count": 214,
   "metadata": {},
   "outputs": [
    {
     "name": "stdout",
     "output_type": "stream",
     "text": [
      "mu = [0.22857143 0.26938776 0.50204082]\n",
      "mu = [0.32513645 0.36360542 0.36703971] Après 6 Itérations\n",
      "\n",
      "mu = [0.36363636 0.31818182 0.31818182]\n",
      "mu = [0.33744222 0.33585859 0.33129371] Après 1 Itérations\n"
     ]
    }
   ],
   "source": [
    "from random import randint\n",
    "\n",
    "nb_intervalles = 3\n",
    "def iterations(nb_intervalles, classe_i, aleatoire=False):\n",
    "    if not aleatoire:\n",
    "        Xi = np.array([ discretise(X, nb_intervalles)[i] for i in groupByLabel(Y)[classe_i]], dtype=object)\n",
    "    else:\n",
    "        Xi = np.array([ [randint(0,nb_intervalles-1) for i in range(len(discretise(X, nb_intervalles)[i]))] for j in range(len(groupByLabel(Y)[classe_i]))], dtype=object)\n",
    "\n",
    "    Pi, A = learnMarkovModel(Xi, nb_intervalles)\n",
    "\n",
    "    mu = [0 for i in range(nb_intervalles)]\n",
    "    for x in Xi:\n",
    "        for p in range(nb_intervalles):\n",
    "            mu[p] += np.bincount(list(x))[p]\n",
    "\n",
    "    mu = np.array(mu) / sum(mu)\n",
    "    print('mu =', mu)\n",
    "\n",
    "    eps = 10**-3\n",
    "    it_max = 100\n",
    "    it = it_max\n",
    "    while it > 0 and np.all(np.abs(mu-np.dot(A,mu)) > eps):\n",
    "        mu = np.dot(A,mu)\n",
    "        it -= 1\n",
    "    print('mu =', mu, 'Après', it_max-it, 'Itérations' )\n",
    "    \n",
    "\n",
    "iterations(nb_intervalles, 0)\n",
    "print()\n",
    "iterations(nb_intervalles, 0, True)\n"
   ]
  },
  {
   "cell_type": "code",
   "execution_count": 215,
   "metadata": {},
   "outputs": [
    {
     "name": "stdout",
     "output_type": "stream",
     "text": [
      "3\n"
     ]
    }
   ],
   "source": [
    "d = 3\n",
    "print(randint(0,d))"
   ]
  },
  {
   "cell_type": "markdown",
   "metadata": {},
   "source": [
    "##  B. Test (affectation dans les classes sur critère MV)\n",
    "### B1. (log)Probabilité d'une séquence dans un modèle\n",
    "\n",
    "Donner le code de la méthode `probaSequence(s,Pi,A)` qui retourne la log-probabilité d'une séquence `s` dans le modèle {$\\lambda=\\{Pi,A\\}$} "
   ]
  },
  {
   "cell_type": "code",
   "execution_count": 216,
   "metadata": {},
   "outputs": [
    {
     "name": "stdout",
     "output_type": "stream",
     "text": [
      "Séquence= [0. 2. 2. 2. 2. 2. 2. 2. 1. 1. 1. 1. 1. 1. 2. 2. 2. 2. 0. 0. 0. 0. 0.]\n",
      "\n",
      "\n",
      "[-13.491086           -inf         -inf         -inf         -inf\n",
      "         -inf         -inf         -inf         -inf         -inf\n",
      "         -inf         -inf         -inf         -inf         -inf\n",
      "         -inf         -inf         -inf         -inf         -inf\n",
      "         -inf         -inf         -inf         -inf         -inf\n",
      " -12.48285678]\n"
     ]
    }
   ],
   "source": [
    "from math import inf \n",
    "def probaSequence(s, Pi, A):\n",
    "    # une séquence = 1 vecteur de taille 1xN\n",
    "    produit = Pi[int(s[0])]\n",
    "    \n",
    "    for t in range(1,len(s)):\n",
    "        #print(A[int(s[t]), int(s[t-1])], '\\t', produit)\n",
    "        produit *= A[int(s[t-1]), int(s[t])]\n",
    "    if produit == 0:\n",
    "        return -np.inf\n",
    "    else:\n",
    "        return np.log(produit)\n",
    "\n",
    "    \n",
    "d = 3\n",
    "s = discretise(X, d)[0]\n",
    "print('Séquence=',s)\n",
    "\n",
    "print('\\n')\n",
    "\n",
    "indexes = groupByLabel(Y)\n",
    "Xd = discretise(X, d)\n",
    "probas = np.zeros((len(models)))\n",
    "\n",
    "for lettre in range(len(models)):\n",
    "    # Ensemble des vecteurs discrétisés associés à une classe=lettre\n",
    "    Xi = Xd[indexes[lettre]]\n",
    "    \n",
    "    #construction de Pi et A associés à la classe i\n",
    "    Pi, A = learnMarkovModel(Xi, d)\n",
    "    \n",
    "    #calcul de log de vraissemblance de la première séquence pour chaque classe\n",
    "    probas[lettre] = probaSequence(s, Pi, A)\n",
    "print(probas)\n"
   ]
  },
  {
   "cell_type": "markdown",
   "metadata": {},
   "source": [
    "#### Par maximum de vraisemblance, le modèle indique que le premier signal appartient à la classe 26 soit la lettre 'z'\n",
    "\n",
    "#### Or le premier signal est un 'a' ce qui signifie que le signal n'a pas été bien classé\n",
    "\n",
    "#### En revanche, nous pouvons remarquer que les courbures(=angles) de ce premier signal se rapprochent plus de la lettre 'z' que de la lettre 'a', en effet on observe (à l'oeil nu) que les traits sont plus horizontaux que verticaux et arrondis, d'où le fait que l'algorithme a confondu ce 'a' pour un 'z'.\n",
    "\n",
    "#### On peut remarquer aussi que pour un mot voire un texte entier, des erreurs sur quelques lettres ne sont pas forcément préjudiciables, car l'on peut utiliser ce même algorithme pour approximer un mot ou une phrase et ainsi corriger les erreurs sur les lettres.\n",
    "\n",
    "ex : 'aèbre' pourra être approximé par 'zèbre'"
   ]
  },
  {
   "cell_type": "markdown",
   "metadata": {},
   "source": [
    "**VALIDATION :** probabilité du premier signal dans les 26 modèles avec une discrétisation sur 3 états :\n",
    "```python\n",
    "array([-13.491086  ,         -inf,         -inf,         -inf,\n",
    "               -inf,         -inf,         -inf,         -inf,\n",
    "               -inf,         -inf,         -inf,         -inf,\n",
    "               -inf,         -inf,         -inf,         -inf,\n",
    "               -inf,         -inf,         -inf,         -inf,\n",
    "               -inf,         -inf,         -inf,         -inf,\n",
    "               -inf, -12.48285678])\n",
    "```\n",
    "\n",
    "- Ce signal est-il bien classé ?\n",
    "- D'où viennent tous les `-inf` ? "
   ]
  },
  {
   "cell_type": "markdown",
   "metadata": {},
   "source": [
    "### B2. Application de la méthode précédente pour tous les signaux et tous les modèles de lettres\n",
    "\n",
    "L'application se fait en une ligne de code si vous avez respecté les spécifications précédentes : "
   ]
  },
  {
   "cell_type": "code",
   "execution_count": 217,
   "metadata": {},
   "outputs": [],
   "source": [
    "index = groupByLabel(Y)  # groupement des signaux par classe\n",
    "\n",
    "\n",
    "Xd_3 = discretise(X, 3)    # application de la discrétisation\n",
    "models_3 = []\n",
    "for cl in range(len(np.unique(Y))): # parcours de toutes les classes et optimisation des modèles\n",
    "    models_3.append(learnMarkovModel( Xd_3[ index[cl] ], 3) )\n",
    "\n",
    "    \n",
    "# Bien différentier les variables de discrétisations de X ! \n",
    "Xd_20 = discretise(X, 20)    # application de la discrétisation\n",
    "models_20 = []\n",
    "for cl in range(len(np.unique(Y))): # parcours de toutes les classes et optimisation des modèles\n",
    "    models_20.append(learnMarkovModel( Xd_20[ index[cl] ], 20) )"
   ]
  },
  {
   "cell_type": "markdown",
   "metadata": {},
   "source": [
    "### B3. Evaluation des performances\n",
    "\n",
    "Pour l'évaluation, nous proposons l'approche suivante: "
   ]
  },
  {
   "cell_type": "code",
   "execution_count": 218,
   "metadata": {},
   "outputs": [
    {
     "data": {
      "text/plain": [
       "0.914179104477612"
      ]
     },
     "execution_count": 218,
     "metadata": {},
     "output_type": "execute_result"
    }
   ],
   "source": [
    "# calcul d'une version numérique des Y :\n",
    "Ynum = np.zeros(Y.shape)\n",
    "for num, char in enumerate(np.unique(Y)):\n",
    "    Ynum[Y == char] = num\n",
    "\n",
    "# Calcul de la classe la plus probable :\n",
    "pred = proba_20.argmax(0) # max colonne par colonne\n",
    "\n",
    "# Calcul d'un pourcentage de bonne classification :\n",
    "np.where(pred != Ynum, 0.,1.).mean()"
   ]
  },
  {
   "cell_type": "code",
   "execution_count": 219,
   "metadata": {},
   "outputs": [
    {
     "data": {
      "text/plain": [
       "0.6902985074626866"
      ]
     },
     "execution_count": 219,
     "metadata": {},
     "output_type": "execute_result"
    }
   ],
   "source": [
    "# calcul d'une version numérique des Y :\n",
    "Ynum = np.zeros(Y.shape)\n",
    "for num, char in enumerate(np.unique(Y)):\n",
    "    Ynum[Y == char] = num\n",
    "\n",
    "# Calcul de la classe la plus probable :\n",
    "pred = proba_3.argmax(0) # max colonne par colonne\n",
    "\n",
    "# Calcul d'un pourcentage de bonne classification :\n",
    "np.where(pred != Ynum, 0.,1.).mean()"
   ]
  },
  {
   "cell_type": "markdown",
   "metadata": {},
   "source": [
    "**INDICE DE PERFORMANCE :** 91% de bonne classification avec 20 états, 69% avec 3 états"
   ]
  },
  {
   "cell_type": "markdown",
   "metadata": {},
   "source": [
    "## C. Biais d'évaluation, notion de sur-apprentissage\n",
    "\n",
    "Dans le protocole précédent, nous avons triché:\n",
    "- les données servent d'abord à apprendre les modèles...\n",
    "- puis nous nous servons des mêmes données pour tester les modèles ! Les performances sont forcément bonnes ! \n",
    "\n",
    "Afin de palier le problème, nous allons diviser en deux la base de données: une partie servira à l'apprentissage des modèles, l'autre à leur évaluation. Pour effectuer la division, nous fournissons le code suivant: "
   ]
  },
  {
   "cell_type": "code",
   "execution_count": 220,
   "metadata": {},
   "outputs": [],
   "source": [
    "# separation app/test, pc=ratio de points en apprentissage\n",
    "def separeTrainTest(y, pc):\n",
    "    indTrain = []\n",
    "    indTest = []\n",
    "    for i in np.unique(y): # pour toutes les classes\n",
    "        ind, = np.where(y == i)\n",
    "        n = len(ind)\n",
    "        indTrain.append(ind[np.random.permutation(n)][:int(np.floor(pc * n))])\n",
    "        indTest.append(np.setdiff1d(ind, indTrain[-1]))\n",
    "    return indTrain, indTest\n",
    "\n",
    "# exemple d'utilisation\n",
    "itrain, itest = separeTrainTest(Y, 0.8)"
   ]
  },
  {
   "cell_type": "markdown",
   "metadata": {},
   "source": [
    "dans `itrain`, nous obtenons les indices des signaux qui doivent servir en apprentissage pour chaque classe :"
   ]
  },
  {
   "cell_type": "code",
   "execution_count": 221,
   "metadata": {},
   "outputs": [
    {
     "data": {
      "text/plain": [
       "[array([10,  9,  0,  8,  6,  5,  3,  7], dtype=int64),\n",
       " array([12, 15, 19, 17, 16, 14, 18, 21], dtype=int64),\n",
       " array([29, 24, 25, 30, 28, 31, 27, 26], dtype=int64),\n",
       " array([39, 41, 38, 34, 36, 37, 42, 35], dtype=int64),\n",
       " array([53, 54, 52, 48, 45, 47, 44, 49], dtype=int64),\n",
       " array([65, 63, 59, 62, 55, 61, 60, 57], dtype=int64),\n",
       " array([75, 76, 68, 74, 73, 72, 70, 66], dtype=int64),\n",
       " array([80, 79, 84, 77, 81, 82, 83, 78], dtype=int64),\n",
       " array([95, 93, 89, 96, 88, 94, 90, 97], dtype=int64),\n",
       " array([100, 105, 107,  99, 102, 104,  98, 106], dtype=int64),\n",
       " array([111, 108, 112, 109, 110, 116, 117, 113], dtype=int64),\n",
       " array([118, 124, 122, 127, 126, 125, 119, 123], dtype=int64),\n",
       " array([132, 129, 131, 135, 137, 130, 133, 136], dtype=int64),\n",
       " array([138, 140, 139, 146, 143, 141, 144, 145], dtype=int64),\n",
       " array([155, 151, 152, 153, 156, 154, 148, 150], dtype=int64),\n",
       " array([158, 161, 165, 164, 167, 160, 166, 162], dtype=int64),\n",
       " array([169, 173, 171, 170, 176, 172, 177, 174], dtype=int64),\n",
       " array([185, 180, 186, 178, 182, 187, 179, 181], dtype=int64),\n",
       " array([190, 191, 193, 195, 189, 194, 192, 197], dtype=int64),\n",
       " array([203, 201, 198, 207, 204, 200, 206, 199], dtype=int64),\n",
       " array([208, 209, 217, 215, 211, 210, 213, 216], dtype=int64),\n",
       " array([225, 222, 223, 221, 227, 220, 218, 219], dtype=int64),\n",
       " array([228, 231, 230, 232, 235, 237, 229, 233], dtype=int64),\n",
       " array([241, 240, 239, 243, 238, 244, 247, 245], dtype=int64),\n",
       " array([253, 250, 254, 251, 256, 252, 248, 255], dtype=int64),\n",
       " array([264, 260, 258, 266, 263, 265, 262, 259], dtype=int64)]"
      ]
     },
     "execution_count": 221,
     "metadata": {},
     "output_type": "execute_result"
    }
   ],
   "source": [
    "itrain"
   ]
  },
  {
   "cell_type": "markdown",
   "metadata": {},
   "source": [
    "**Note :** pour faciliter l'évaluation des modèles, vous aurez besoin de re-fusionner tous les indices d'apprentissage et de test. Cela se fait avec les lignes de code suivantes : "
   ]
  },
  {
   "cell_type": "code",
   "execution_count": 222,
   "metadata": {},
   "outputs": [],
   "source": [
    "ia = []\n",
    "for i in itrain:\n",
    "    ia += i.tolist()    \n",
    "it = []\n",
    "for i in itest:\n",
    "    it += i.tolist()"
   ]
  },
  {
   "cell_type": "code",
   "execution_count": 223,
   "metadata": {},
   "outputs": [
    {
     "name": "stdout",
     "output_type": "stream",
     "text": [
      "[1, 2, 4, 11, 13, 20, 22, 23, 32, 33, 40, 43, 46, 50, 51, 56, 58, 64, 67, 69, 71, 85, 86, 87, 91, 92, 101, 103, 114, 115, 120, 121, 128, 134, 142, 147, 149, 157, 159, 163, 168, 175, 183, 184, 188, 196, 202, 205, 212, 214, 224, 226, 234, 236, 242, 246, 249, 257, 261, 267]\n"
     ]
    }
   ],
   "source": [
    "print(it)"
   ]
  },
  {
   "cell_type": "markdown",
   "metadata": {},
   "source": [
    "**Note 2 :** Du fait de la permutation aléatoire, les résultats vont bouger (un peu) à chaque execution du programme. "
   ]
  },
  {
   "cell_type": "markdown",
   "metadata": {},
   "source": [
    "### C1. Questions importantes\n",
    "- Ré-utiliser les fonctions précédemment définies pour apprendre des modèles et les évaluer sans biais.\n",
    "- Calculer et analyser les résultats obtenus en apprentissage et en test\n",
    "- Etudier l'évolution des performances en fonction de la discrétisation"
   ]
  },
  {
   "cell_type": "code",
   "execution_count": 224,
   "metadata": {},
   "outputs": [],
   "source": [
    "Xd_3 = discretise(X, 3)\n",
    "models_app_3 = []\n",
    "for cl in range(len(np.unique(Y))): # parcours de toutes les classes et optimisation des modèles\n",
    "    models_app_3.append(learnMarkovModel( Xd_3[ itrain[cl] ], 3) )\n",
    "\n",
    "    \n",
    "proba_app_3 = np.array([[probaSequence(Xd_3[i], models_app_3[cl][0], models_app_3[cl][1]) for i in it]\n",
    "                  for cl in range(len(np.unique(Y)))])\n",
    "    \n",
    "    \n",
    "Xd_20 = discretise(X, 20)\n",
    "models_app_20 = []\n",
    "for cl in range(len(np.unique(Y))): # parcours de toutes les classes et optimisation des modèles\n",
    "    models_app_20.append(learnMarkovModel( Xd_20[ itrain[cl] ], 20) )\n",
    "    \n",
    "proba_app_20 = np.array([[probaSequence(Xd_20[i], models_app_20[cl][0], models_app_20[cl][1]) for i in it]\n",
    "                  for cl in range(len(np.unique(Y)))])\n"
   ]
  },
  {
   "cell_type": "code",
   "execution_count": 225,
   "metadata": {},
   "outputs": [
    {
     "data": {
      "text/plain": [
       "Text(0, 0.5, 'Pourcentage de bonne classification')"
      ]
     },
     "execution_count": 225,
     "metadata": {},
     "output_type": "execute_result"
    },
    {
     "data": {
      "image/png": "[encoded data removed]",
      "text/plain": [
       "<Figure size 640x480 with 1 Axes>"
      ]
     },
     "metadata": {},
     "output_type": "display_data"
    }
   ],
   "source": [
    "def performance(X, Y, nb_etats, array_train, indexes_test, ones=False):\n",
    "    \"\"\"\n",
    "    Fonction qui calcule la proportion de bonne classification des données de test pour un certain nombre\n",
    "    d'états donné en argument\n",
    "    \"\"\"\n",
    "    Xd = discretise(X, nb_etats)\n",
    "    models = []\n",
    "    \n",
    "    if not ones:\n",
    "        for cl in range(len(np.unique(Y))):\n",
    "            models.append( learnMarkovModel(Xd[array_train[cl]], nb_etats) )\n",
    "    else:\n",
    "        for cl in range(len(np.unique(Y))):\n",
    "            models.append( learnMarkovModel_ones(Xd[array_train[cl]], nb_etats) )\n",
    "    proba = np.array([[probaSequence(Xd[i], models[cl][0], models[cl][1]) for i in indexes_test] for cl in range(len(np.unique(Y)))])\n",
    "    \n",
    "    # Il y a exactement 60 signaux dans la liste de tests d'où la shape de probas :\n",
    "    # 26 lignes correspondant aux 26 lettres(classes) et 60 colonnes=signaux\n",
    "    \n",
    "    # On doit changer la liste des hats pour pouvoir comparer des listes de même taille\n",
    "    newY = Y[indexes_test]\n",
    "    Ynum = np.zeros((len(indexes_test,)))\n",
    "    for num, char in enumerate(np.unique(newY)):\n",
    "        Ynum[newY == char] = num\n",
    "    \n",
    "    # Calcul de la classe la plus probable :\n",
    "    pred = proba.argmax(0) # max colonne par colonne\n",
    "\n",
    "    # Calcul d'un pourcentage de bonne classification :\n",
    "    return np.where(pred != Ynum, 0.,1.).mean(), pred\n",
    "    \n",
    "res = []\n",
    "pred_list = []\n",
    "a,b = 3, 500\n",
    "for etat in range(a,b):\n",
    "    res_i, pred_i = performance(X, Y, etat, itrain, it)\n",
    "    res.append(res_i)\n",
    "    pred_list.append(pred_i)\n",
    "#print(res)\n",
    "\n",
    "plt.plot(range(a,b), [i*100 for i in res])\n",
    "plt.xlabel('Nombre d\\'états')\n",
    "plt.ylabel('Pourcentage de bonne classification')\n",
    "\n"
   ]
  },
  {
   "cell_type": "markdown",
   "metadata": {},
   "source": [
    "#### En séparant les données en deux listes distinctes de signaux : une liste d'apprentissage et une liste de test, on observe des valeurs différentes d'avant, plus précises et censées.\n",
    "\n",
    "#### En effet on est censé connaître les classes des signaux pour l'apprentissage, mais le but d'un tel algorithme et de le tester sur des données qui n'ont pas servi à son apprentissage sinon il n'aurait aucun intérêt.\n",
    "\n",
    "#### Pour une discrétisation en 20 états, la proportion de bonne classification chute de 20% passant de 90 à 70%\n",
    "\n",
    "#### Pour une discrétisation en 3 états, la proportion de bonne classification reste identique égale à 69%"
   ]
  },
  {
   "cell_type": "markdown",
   "metadata": {},
   "source": [
    "### C2. Lutter contre le sur-apprentissage\n",
    "Cette base de données met en lumière le phénomène de sur-apprentissage : il y a peu de données et dès que le nombre d'états augmente, il y a trop peu d'exemple pour estimer correctement les matrices {$A, \\pi$}. De nombreuses cases sont donc à 0, voire des lignes entières (d'où la sécurisation du code pour la normalisation des matrices stochastiques).\n",
    "\n",
    "Ces 0 sont particulièrement discriminants: considérant la classe {$c$}, ils permettent d'éliminer de cette classe tout signal présentant cette caractéristique. Cette règle est trop forte compte tenu de la taille de la base d'apprentissage. Nous proposons une astuce pour palier cette faiblesse : lors du comptage, initialiser les matrices {$A, \\pi$} avec ones au lieu de zeros . On fait semblant d'avoir observer une transition de chaque type avant même le début du comptage.\n",
    "\n",
    "Comparer les performances en test."
   ]
  },
  {
   "cell_type": "code",
   "execution_count": 226,
   "metadata": {},
   "outputs": [],
   "source": [
    "def learnMarkovModel_ones(Xc, d):\n",
    "    A = np.ones((d,d))\n",
    "    Pi = np.ones(d)\n",
    "    \n",
    "    for x in Xc:\n",
    "        Pi[int(x[0])] += 1\n",
    "        for index in range(len(x)-1):\n",
    "            # index = instant t\n",
    "            # index+1 = instant t+1\n",
    "            A[ int(x[index]), int(x[index+1]) ] += 1\n",
    "    A = A / np.maximum(A.sum(1).reshape(d, 1), 1)\n",
    "    Pi = Pi / Pi.sum()    \n",
    "            \n",
    "    return Pi, A\n"
   ]
  },
  {
   "cell_type": "code",
   "execution_count": 227,
   "metadata": {},
   "outputs": [
    {
     "data": {
      "text/plain": [
       "Text(0, 0.5, 'Pourcentage de bonne classification')"
      ]
     },
     "execution_count": 227,
     "metadata": {},
     "output_type": "execute_result"
    },
    {
     "data": {
      "image/png": "[encoded data removed]",
      "text/plain": [
       "<Figure size 640x480 with 1 Axes>"
      ]
     },
     "metadata": {},
     "output_type": "display_data"
    }
   ],
   "source": [
    "res_ones = []\n",
    "pred_list_ones = []\n",
    "a,b = 3,500\n",
    "for etat in range(a,b):\n",
    "    res_i, pred_i = performance(X, Y, etat, itrain, it, True)\n",
    "    res_ones.append(res_i)\n",
    "    pred_list_ones.append(pred_i)\n",
    "#print(res)\n",
    "\n",
    "plt.plot(range(a,b), [i*100 for i in res_ones])\n",
    "plt.xlabel('Nombre d\\'états')\n",
    "plt.ylabel('Pourcentage de bonne classification')\n"
   ]
  },
  {
   "cell_type": "markdown",
   "metadata": {},
   "source": [
    "#### Au même titre que précédement on observe une diminution progressive du pourcentage de bonne classification à mesure que le nombre d'états augmente.\n",
    "\n",
    "#### Cependant, avec l'initialisation de Pi et A à 1 au lieu de 0, la décroissance observée est beaucoup moins rapide et semble converger vers un minimum (~33%) avec des oscillations au lieu de 0% pour le cas précédent."
   ]
  },
  {
   "cell_type": "markdown",
   "metadata": {},
   "source": [
    "## D. Evaluation qualitative\n",
    "\n",
    "Nous nous demandons maintenant où se trouvent les erreurs que nous avons commises...\n",
    "\n",
    "Calcul de la matrice de confusion: pour chaque échantillon de test, nous avons une prédiction (issue du modèle) et une vérité terrain (la vraie étiquette). En posant Nc le nombre de classes, la matrice de confusion est une matrice (Nc x Nc) où nous comptons le nombre d'échantillon de test dans chaque catégorie :\n",
    "\n",
    "- Initialisation à 0 : "
   ]
  },
  {
   "cell_type": "code",
   "execution_count": 228,
   "metadata": {},
   "outputs": [],
   "source": [
    "conf = np.zeros((26,26))"
   ]
  },
  {
   "cell_type": "markdown",
   "metadata": {},
   "source": [
    "- Pour chaque échantillon, incrément de la case (prediction, vérité)"
   ]
  },
  {
   "cell_type": "code",
   "execution_count": 229,
   "metadata": {},
   "outputs": [],
   "source": [
    "# X = échantillons\n",
    "# Y = tags de classe\n",
    "# groupByLabel(Y) = indexes des classes dans X\n",
    "# pred = classe prédite par l'algorithme\n",
    "\n",
    "Y_hat=list(Ynum)                #Y_hat = Classes réelles\n",
    "for i in range(len(Y_hat)):     #pred = Classes prédites\n",
    "    Y_hat[i]=int(Y_hat[i])\n",
    "Y_hat=np.array(Y_hat)\n",
    "\n",
    "for i in range(268):\n",
    "    conf[pred[i],Y_hat[i]]+=1"
   ]
  },
  {
   "cell_type": "code",
   "execution_count": 230,
   "metadata": {},
   "outputs": [
    {
     "name": "stdout",
     "output_type": "stream",
     "text": [
      "['a' 'a' 'a' 'b' 'b' 'b' 'c' 'c' 'c' 'd' 'd' 'd' 'e' 'e' 'e' 'f' 'f' 'f'\n",
      " 'g' 'g' 'g' 'h' 'h' 'h' 'i' 'i' 'j' 'j' 'k' 'k' 'l' 'l' 'm' 'm' 'n' 'n'\n",
      " 'o' 'o' 'p' 'p' 'q' 'q' 'r' 'r' 's' 's' 't' 't' 'u' 'u' 'v' 'v' 'w' 'w'\n",
      " 'x' 'x' 'y' 'y' 'z' 'z'] 60\n",
      "['p', 'p', 'z', 'b', 'b', 'b', 'o', 'o', 'o', 'd', 'd', 'p', 'e', 'e', 'd', 's', 'f', 'q', 'g', 'g', 'q', 'h', 'm', 'm', 'i', 'i', 'j', 'j', 'j', 'k', 'i', 'i', 'm', 'm', 'm', 'm', 'e', 'o', 'p', 'p', 'q', 'o', 'u', 'u', 's', 's', 'i', 'i', 'u', 'u', 'v', 'u', 'w', 'w', 'i', 'i', 'h', 'h', 'z', 'z'] 60\n",
      "[ 3  4  5  9 10 12 13 16 18 19 21 24 25 26 27 29 32 33 37 38 39 40 44 45\n",
      " 48 49 50 52 53 58 59]\n",
      "(26, 26)\n"
     ]
    }
   ],
   "source": [
    "# X = échantillons\n",
    "# Y = tags de classe\n",
    "# groupByLabel(Y) = indexes des classes dans X\n",
    "# pred = classe prédite par l'algorithme\n",
    "\n",
    "#Les hats initiaux Y sont des str on doit donc les convertir en leur index associé, j'utilise un dictionnaire pour être plus clair et rapide\n",
    "correspondance = {'a': 0, 'b': 1, 'c': 2, 'd': 3, 'e': 4, 'f': 5, 'g': 6, 'h': 7, 'i': 8, 'j': 9, 'k': 10, 'l': 11, 'm': 12, 'n': 13, 'o': 14, 'p': 15, 'q': 16, 'r': 17, 's': 18, 't': 19, 'u': 20, 'v': 21, 'w': 22, 'x': 23, 'y': 24, 'z': 25}\n",
    "reverse = {0: 'a', 1: 'b', 2: 'c', 3: 'd', 4: 'e', 5: 'f', 6: 'g', 7: 'h', 8: 'i', 9: 'j', 10: 'k', 11: 'l', 12: 'm', 13: 'n', 14: 'o', 15: 'p', 16: 'q', 17: 'r', 18: 's', 19: 't', 20: 'u', 21: 'v', 22: 'w', 23: 'x', 24: 'y', 25: 'z'}\n",
    "def matrice_confusion(Y_hats, Y_pred):\n",
    "    conf = np.zeros((26,26))\n",
    "    for signal in range(len(Y_hats)):\n",
    "        conf[Y_pred[signal], correspondance[Y_hats[signal]]] += 1\n",
    "    return conf\n",
    "\n",
    "newY = Y[it]\n",
    "print(newY, len(newY))\n",
    "print([ reverse[i] for i in pred_list_ones[0]], len(pred_list_ones[0]))\n",
    "t = np.array([ reverse[i] for i in pred_list_ones[0]])\n",
    "print(np.unique(np.where(newY==t)[0]))\n",
    "\n",
    "mat_conf = matrice_confusion(newY, pred_list_ones[0])\n",
    "print(mat_conf.shape)"
   ]
  },
  {
   "cell_type": "code",
   "execution_count": null,
   "metadata": {},
   "outputs": [],
   "source": []
  },
  {
   "cell_type": "markdown",
   "metadata": {},
   "source": [
    "- Tracé de la matrice : "
   ]
  },
  {
   "cell_type": "code",
   "execution_count": 231,
   "metadata": {},
   "outputs": [
    {
     "data": {
      "text/plain": [
       "Text(0, 0.5, 'Prédiction')"
      ]
     },
     "execution_count": 231,
     "metadata": {},
     "output_type": "execute_result"
    },
    {
     "data": {
      "image/png": "[encoded data removed]",
      "text/plain": [
       "<Figure size 640x480 with 2 Axes>"
      ]
     },
     "metadata": {},
     "output_type": "display_data"
    }
   ],
   "source": [
    "plt.figure()\n",
    "plt.imshow(mat_conf, interpolation = 'nearest')\n",
    "plt.colorbar()\n",
    "plt.xticks(np.arange(26), np.unique(Y))\n",
    "plt.yticks(np.arange(26), np.unique(Y))\n",
    "plt.xlabel(u'Vérité terrain')\n",
    "plt.ylabel(u'Prédiction')\n",
    "#plt.savefig(\"mat_conf_lettres.png\")"
   ]
  },
  {
   "cell_type": "markdown",
   "metadata": {},
   "source": [
    "## E. Modèle génératif\n",
    "\n",
    "Utiliser les modèles appris pour générer de nouvelles lettres manuscrites.\n",
    "\n",
    "### E1. Tirage selon une loi de probabilité discrète\n",
    "\n",
    "- faire la somme cumulée de la loi {$sc$}\n",
    "- tirer un nombre aléatoire {$t$} entre 0 et 1\n",
    "- trouver la première valeur de {$sc$} qui est supérieure à {$t$}\n",
    "- retourner cet état \n",
    "\n",
    "**Note :** comme vu en cours, tout repose sur la somme cumulée (notée ici `sc$`, calculable en appelant `np.cumsum`. Sur un exemple: la loi `V = [0.2, 0.4, 0.3, 0.1]` a pour somme cumulée `V.cumsum() == [0.2,  0.6,  0.9,  1.0]`\n",
    "\n",
    "### E2. Génération d'une séquence de longueur N\n",
    "\n",
    "- tirer un état {$s_0$} selon Pi\n",
    "- tant que la longueur n'est pas atteinte :\n",
    "  - tirer un état {$s_{t+1}$} selon {$A[s_{t}]$} "
   ]
  },
  {
   "cell_type": "code",
   "execution_count": 266,
   "metadata": {},
   "outputs": [],
   "source": [
    "import random as rd \n",
    "\n",
    "def generate(Pi,A,n):\n",
    "    lettre=[]\n",
    "    i=0\n",
    "    Pi_bis=Pi.cumsum()\n",
    "    de=rd.random()\n",
    "    while Pi_bis[i]<de:\n",
    "        i+=1\n",
    "    angle=i\n",
    "    lettre.append(angle)\n",
    "    N=1\n",
    "    A_bis=A.copy()                              #copie de A car la méthode cumsum modifie directement la matrice A\n",
    "    A_bis=np.cumsum(A_bis,axis=1)\n",
    "    for N in range(n-1):\n",
    "        i=0\n",
    "        de=rd.random()\n",
    "        while A_bis[angle][i]<de:\n",
    "            i+=1\n",
    "        angle=i\n",
    "        lettre.append(angle)\n",
    "    return lettre"
   ]
  },
  {
   "cell_type": "markdown",
   "metadata": {},
   "source": [
    "### E3. Affichage du résultat"
   ]
  },
  {
   "cell_type": "code",
   "execution_count": 267,
   "metadata": {},
   "outputs": [
    {
     "data": {
      "image/png": "[encoded data removed]",
      "text/plain": [
       "<Figure size 640x480 with 1 Axes>"
      ]
     },
     "metadata": {},
     "output_type": "display_data"
    }
   ],
   "source": [
    "lettre=0\n",
    "Xd = discretise(X,20)\n",
    "models_ones = [ learnMarkovModel_ones(Xd[itrain[cl]], 20) for cl in range(len(np.unique(Y))) ]\n",
    "newa = generate(models_ones[lettre][0], models_ones[lettre][1], 20)       # generation d'une séquence d'états\n",
    "intervalle = 360. / 20                                 # pour passer des états => valeur d'angles\n",
    "newa_continu = np.array([i * intervalle for i in newa]) # conv int => double\n",
    "tracerLettre(newa_continu)"
   ]
  }
 ],
 "metadata": {
  "kernelspec": {
   "display_name": "Python 3.10.7 64-bit (microsoft store)",
   "language": "python",
   "name": "python3"
  },
  "language_info": {
   "codemirror_mode": {
    "name": "ipython",
    "version": 3
   },
   "file_extension": ".py",
   "mimetype": "text/x-python",
   "name": "python",
   "nbconvert_exporter": "python",
   "pygments_lexer": "ipython3",
   "version": "3.10.7"
  },
  "vscode": {
   "interpreter": {
    "hash": "8e34c564ff11baf284cb400e7f3e3bd149ac1aa1e2a9dc39b311358bd09fe12d"
   }
  }
 },
 "nbformat": 4,
 "nbformat_minor": 4
}
